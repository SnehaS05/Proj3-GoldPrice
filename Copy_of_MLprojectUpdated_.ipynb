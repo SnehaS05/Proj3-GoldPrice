{
  "cells": [
    {
      "cell_type": "markdown",
      "metadata": {
        "id": "view-in-github",
        "colab_type": "text"
      },
      "source": [
        "<a href=\"https://colab.research.google.com/github/SnehaS05/Proj3-GoldPrice/blob/main/Copy_of_MLprojectUpdated_.ipynb\" target=\"_parent\"><img src=\"https://colab.research.google.com/assets/colab-badge.svg\" alt=\"Open In Colab\"/></a>"
      ]
    },
    {
      "cell_type": "code",
      "execution_count": null,
      "metadata": {
        "id": "uhC9l7bhp0Ds"
      },
      "outputs": [],
      "source": [
        "import pandas as pd\n",
        "import numpy as np\n",
        "import matplotlib.pyplot as plt\n",
        "import seaborn as sns\n",
        "import warnings\n",
        "warnings.filterwarnings(\"ignore\")"
      ]
    },
    {
      "cell_type": "markdown",
      "source": [
        "# New Section"
      ],
      "metadata": {
        "id": "E3nS0lBYp3eM"
      }
    },
    {
      "cell_type": "code",
      "execution_count": null,
      "metadata": {
        "id": "TIks5T29p0Dx"
      },
      "outputs": [],
      "source": [
        "web_marks = pd.read_csv(\"/content/web_marks (1).csv\")"
      ]
    },
    {
      "cell_type": "code",
      "execution_count": null,
      "metadata": {
        "colab": {
          "base_uri": "https://localhost:8080/",
          "height": 424
        },
        "id": "eqG5PYucp0D0",
        "outputId": "44326ea9-8395-4120-9d5a-e1c7bd02a496"
      },
      "outputs": [
        {
          "output_type": "execute_result",
          "data": {
            "text/plain": [
              "   enrollment_number            student_name  internal_marks_web  \\\n",
              "0         1KG16CS025               DIVYA R D                  27   \n",
              "1         1KG16CS054       M D MAHATAP PASHA                  34   \n",
              "2         1KG16CS059             P YASHWANTH                  20   \n",
              "3         1KG16CS113     V CHANDANA CHOWDARY                  30   \n",
              "4         1KG17CS002        ABHIMANYU BANSAL                  39   \n",
              "..               ...                     ...                 ...   \n",
              "90        1KG17CS106                 VIKAS B                  36   \n",
              "91        1KG17CS107          VINITH RAJ B U                  30   \n",
              "92        1KG17CS108                 VINOD N                  30   \n",
              "93        1KG17CS109  YASH KUMAR SINGH PATWA                  39   \n",
              "94        1KG17CS110             YASHASH T V                  33   \n",
              "\n",
              "    external_marks_web  total_marks_web result_web  \n",
              "0                    5               32       FAIL  \n",
              "1                   33               67       PASS  \n",
              "2                   15               35       FAIL  \n",
              "3                   24               54       PASS  \n",
              "4                   21               60       PASS  \n",
              "..                 ...              ...        ...  \n",
              "90                  25               61       PASS  \n",
              "91                  22               52       PASS  \n",
              "92                  30               60       PASS  \n",
              "93                  29               68       PASS  \n",
              "94                  38               71       PASS  \n",
              "\n",
              "[95 rows x 6 columns]"
            ],
            "text/html": [
              "\n",
              "  <div id=\"df-f0052d49-34c1-4f04-8e44-81a56dd492dc\">\n",
              "    <div class=\"colab-df-container\">\n",
              "      <div>\n",
              "<style scoped>\n",
              "    .dataframe tbody tr th:only-of-type {\n",
              "        vertical-align: middle;\n",
              "    }\n",
              "\n",
              "    .dataframe tbody tr th {\n",
              "        vertical-align: top;\n",
              "    }\n",
              "\n",
              "    .dataframe thead th {\n",
              "        text-align: right;\n",
              "    }\n",
              "</style>\n",
              "<table border=\"1\" class=\"dataframe\">\n",
              "  <thead>\n",
              "    <tr style=\"text-align: right;\">\n",
              "      <th></th>\n",
              "      <th>enrollment_number</th>\n",
              "      <th>student_name</th>\n",
              "      <th>internal_marks_web</th>\n",
              "      <th>external_marks_web</th>\n",
              "      <th>total_marks_web</th>\n",
              "      <th>result_web</th>\n",
              "    </tr>\n",
              "  </thead>\n",
              "  <tbody>\n",
              "    <tr>\n",
              "      <th>0</th>\n",
              "      <td>1KG16CS025</td>\n",
              "      <td>DIVYA R D</td>\n",
              "      <td>27</td>\n",
              "      <td>5</td>\n",
              "      <td>32</td>\n",
              "      <td>FAIL</td>\n",
              "    </tr>\n",
              "    <tr>\n",
              "      <th>1</th>\n",
              "      <td>1KG16CS054</td>\n",
              "      <td>M D MAHATAP PASHA</td>\n",
              "      <td>34</td>\n",
              "      <td>33</td>\n",
              "      <td>67</td>\n",
              "      <td>PASS</td>\n",
              "    </tr>\n",
              "    <tr>\n",
              "      <th>2</th>\n",
              "      <td>1KG16CS059</td>\n",
              "      <td>P YASHWANTH</td>\n",
              "      <td>20</td>\n",
              "      <td>15</td>\n",
              "      <td>35</td>\n",
              "      <td>FAIL</td>\n",
              "    </tr>\n",
              "    <tr>\n",
              "      <th>3</th>\n",
              "      <td>1KG16CS113</td>\n",
              "      <td>V CHANDANA CHOWDARY</td>\n",
              "      <td>30</td>\n",
              "      <td>24</td>\n",
              "      <td>54</td>\n",
              "      <td>PASS</td>\n",
              "    </tr>\n",
              "    <tr>\n",
              "      <th>4</th>\n",
              "      <td>1KG17CS002</td>\n",
              "      <td>ABHIMANYU BANSAL</td>\n",
              "      <td>39</td>\n",
              "      <td>21</td>\n",
              "      <td>60</td>\n",
              "      <td>PASS</td>\n",
              "    </tr>\n",
              "    <tr>\n",
              "      <th>...</th>\n",
              "      <td>...</td>\n",
              "      <td>...</td>\n",
              "      <td>...</td>\n",
              "      <td>...</td>\n",
              "      <td>...</td>\n",
              "      <td>...</td>\n",
              "    </tr>\n",
              "    <tr>\n",
              "      <th>90</th>\n",
              "      <td>1KG17CS106</td>\n",
              "      <td>VIKAS B</td>\n",
              "      <td>36</td>\n",
              "      <td>25</td>\n",
              "      <td>61</td>\n",
              "      <td>PASS</td>\n",
              "    </tr>\n",
              "    <tr>\n",
              "      <th>91</th>\n",
              "      <td>1KG17CS107</td>\n",
              "      <td>VINITH RAJ B U</td>\n",
              "      <td>30</td>\n",
              "      <td>22</td>\n",
              "      <td>52</td>\n",
              "      <td>PASS</td>\n",
              "    </tr>\n",
              "    <tr>\n",
              "      <th>92</th>\n",
              "      <td>1KG17CS108</td>\n",
              "      <td>VINOD N</td>\n",
              "      <td>30</td>\n",
              "      <td>30</td>\n",
              "      <td>60</td>\n",
              "      <td>PASS</td>\n",
              "    </tr>\n",
              "    <tr>\n",
              "      <th>93</th>\n",
              "      <td>1KG17CS109</td>\n",
              "      <td>YASH KUMAR SINGH PATWA</td>\n",
              "      <td>39</td>\n",
              "      <td>29</td>\n",
              "      <td>68</td>\n",
              "      <td>PASS</td>\n",
              "    </tr>\n",
              "    <tr>\n",
              "      <th>94</th>\n",
              "      <td>1KG17CS110</td>\n",
              "      <td>YASHASH T V</td>\n",
              "      <td>33</td>\n",
              "      <td>38</td>\n",
              "      <td>71</td>\n",
              "      <td>PASS</td>\n",
              "    </tr>\n",
              "  </tbody>\n",
              "</table>\n",
              "<p>95 rows × 6 columns</p>\n",
              "</div>\n",
              "      <button class=\"colab-df-convert\" onclick=\"convertToInteractive('df-f0052d49-34c1-4f04-8e44-81a56dd492dc')\"\n",
              "              title=\"Convert this dataframe to an interactive table.\"\n",
              "              style=\"display:none;\">\n",
              "        \n",
              "  <svg xmlns=\"http://www.w3.org/2000/svg\" height=\"24px\"viewBox=\"0 0 24 24\"\n",
              "       width=\"24px\">\n",
              "    <path d=\"M0 0h24v24H0V0z\" fill=\"none\"/>\n",
              "    <path d=\"M18.56 5.44l.94 2.06.94-2.06 2.06-.94-2.06-.94-.94-2.06-.94 2.06-2.06.94zm-11 1L8.5 8.5l.94-2.06 2.06-.94-2.06-.94L8.5 2.5l-.94 2.06-2.06.94zm10 10l.94 2.06.94-2.06 2.06-.94-2.06-.94-.94-2.06-.94 2.06-2.06.94z\"/><path d=\"M17.41 7.96l-1.37-1.37c-.4-.4-.92-.59-1.43-.59-.52 0-1.04.2-1.43.59L10.3 9.45l-7.72 7.72c-.78.78-.78 2.05 0 2.83L4 21.41c.39.39.9.59 1.41.59.51 0 1.02-.2 1.41-.59l7.78-7.78 2.81-2.81c.8-.78.8-2.07 0-2.86zM5.41 20L4 18.59l7.72-7.72 1.47 1.35L5.41 20z\"/>\n",
              "  </svg>\n",
              "      </button>\n",
              "      \n",
              "  <style>\n",
              "    .colab-df-container {\n",
              "      display:flex;\n",
              "      flex-wrap:wrap;\n",
              "      gap: 12px;\n",
              "    }\n",
              "\n",
              "    .colab-df-convert {\n",
              "      background-color: #E8F0FE;\n",
              "      border: none;\n",
              "      border-radius: 50%;\n",
              "      cursor: pointer;\n",
              "      display: none;\n",
              "      fill: #1967D2;\n",
              "      height: 32px;\n",
              "      padding: 0 0 0 0;\n",
              "      width: 32px;\n",
              "    }\n",
              "\n",
              "    .colab-df-convert:hover {\n",
              "      background-color: #E2EBFA;\n",
              "      box-shadow: 0px 1px 2px rgba(60, 64, 67, 0.3), 0px 1px 3px 1px rgba(60, 64, 67, 0.15);\n",
              "      fill: #174EA6;\n",
              "    }\n",
              "\n",
              "    [theme=dark] .colab-df-convert {\n",
              "      background-color: #3B4455;\n",
              "      fill: #D2E3FC;\n",
              "    }\n",
              "\n",
              "    [theme=dark] .colab-df-convert:hover {\n",
              "      background-color: #434B5C;\n",
              "      box-shadow: 0px 1px 3px 1px rgba(0, 0, 0, 0.15);\n",
              "      filter: drop-shadow(0px 1px 2px rgba(0, 0, 0, 0.3));\n",
              "      fill: #FFFFFF;\n",
              "    }\n",
              "  </style>\n",
              "\n",
              "      <script>\n",
              "        const buttonEl =\n",
              "          document.querySelector('#df-f0052d49-34c1-4f04-8e44-81a56dd492dc button.colab-df-convert');\n",
              "        buttonEl.style.display =\n",
              "          google.colab.kernel.accessAllowed ? 'block' : 'none';\n",
              "\n",
              "        async function convertToInteractive(key) {\n",
              "          const element = document.querySelector('#df-f0052d49-34c1-4f04-8e44-81a56dd492dc');\n",
              "          const dataTable =\n",
              "            await google.colab.kernel.invokeFunction('convertToInteractive',\n",
              "                                                     [key], {});\n",
              "          if (!dataTable) return;\n",
              "\n",
              "          const docLinkHtml = 'Like what you see? Visit the ' +\n",
              "            '<a target=\"_blank\" href=https://colab.research.google.com/notebooks/data_table.ipynb>data table notebook</a>'\n",
              "            + ' to learn more about interactive tables.';\n",
              "          element.innerHTML = '';\n",
              "          dataTable['output_type'] = 'display_data';\n",
              "          await google.colab.output.renderOutput(dataTable, element);\n",
              "          const docLink = document.createElement('div');\n",
              "          docLink.innerHTML = docLinkHtml;\n",
              "          element.appendChild(docLink);\n",
              "        }\n",
              "      </script>\n",
              "    </div>\n",
              "  </div>\n",
              "  "
            ]
          },
          "metadata": {},
          "execution_count": 44
        }
      ],
      "source": [
        "web_marks"
      ]
    },
    {
      "cell_type": "code",
      "execution_count": null,
      "metadata": {
        "colab": {
          "base_uri": "https://localhost:8080/",
          "height": 206
        },
        "id": "aRlcsAnJp0D4",
        "outputId": "853ecd86-f6b5-4ce5-8f80-a3620af9f05e"
      },
      "outputs": [
        {
          "output_type": "execute_result",
          "data": {
            "text/plain": [
              "  enrollment_number         student_name  internal_marks_web  \\\n",
              "0        1KG16CS025            DIVYA R D                  27   \n",
              "1        1KG16CS054    M D MAHATAP PASHA                  34   \n",
              "2        1KG16CS059          P YASHWANTH                  20   \n",
              "3        1KG16CS113  V CHANDANA CHOWDARY                  30   \n",
              "4        1KG17CS002     ABHIMANYU BANSAL                  39   \n",
              "\n",
              "   external_marks_web  total_marks_web result_web  \n",
              "0                   5               32       FAIL  \n",
              "1                  33               67       PASS  \n",
              "2                  15               35       FAIL  \n",
              "3                  24               54       PASS  \n",
              "4                  21               60       PASS  "
            ],
            "text/html": [
              "\n",
              "  <div id=\"df-36337e63-a555-4773-a533-8565fb2581e5\">\n",
              "    <div class=\"colab-df-container\">\n",
              "      <div>\n",
              "<style scoped>\n",
              "    .dataframe tbody tr th:only-of-type {\n",
              "        vertical-align: middle;\n",
              "    }\n",
              "\n",
              "    .dataframe tbody tr th {\n",
              "        vertical-align: top;\n",
              "    }\n",
              "\n",
              "    .dataframe thead th {\n",
              "        text-align: right;\n",
              "    }\n",
              "</style>\n",
              "<table border=\"1\" class=\"dataframe\">\n",
              "  <thead>\n",
              "    <tr style=\"text-align: right;\">\n",
              "      <th></th>\n",
              "      <th>enrollment_number</th>\n",
              "      <th>student_name</th>\n",
              "      <th>internal_marks_web</th>\n",
              "      <th>external_marks_web</th>\n",
              "      <th>total_marks_web</th>\n",
              "      <th>result_web</th>\n",
              "    </tr>\n",
              "  </thead>\n",
              "  <tbody>\n",
              "    <tr>\n",
              "      <th>0</th>\n",
              "      <td>1KG16CS025</td>\n",
              "      <td>DIVYA R D</td>\n",
              "      <td>27</td>\n",
              "      <td>5</td>\n",
              "      <td>32</td>\n",
              "      <td>FAIL</td>\n",
              "    </tr>\n",
              "    <tr>\n",
              "      <th>1</th>\n",
              "      <td>1KG16CS054</td>\n",
              "      <td>M D MAHATAP PASHA</td>\n",
              "      <td>34</td>\n",
              "      <td>33</td>\n",
              "      <td>67</td>\n",
              "      <td>PASS</td>\n",
              "    </tr>\n",
              "    <tr>\n",
              "      <th>2</th>\n",
              "      <td>1KG16CS059</td>\n",
              "      <td>P YASHWANTH</td>\n",
              "      <td>20</td>\n",
              "      <td>15</td>\n",
              "      <td>35</td>\n",
              "      <td>FAIL</td>\n",
              "    </tr>\n",
              "    <tr>\n",
              "      <th>3</th>\n",
              "      <td>1KG16CS113</td>\n",
              "      <td>V CHANDANA CHOWDARY</td>\n",
              "      <td>30</td>\n",
              "      <td>24</td>\n",
              "      <td>54</td>\n",
              "      <td>PASS</td>\n",
              "    </tr>\n",
              "    <tr>\n",
              "      <th>4</th>\n",
              "      <td>1KG17CS002</td>\n",
              "      <td>ABHIMANYU BANSAL</td>\n",
              "      <td>39</td>\n",
              "      <td>21</td>\n",
              "      <td>60</td>\n",
              "      <td>PASS</td>\n",
              "    </tr>\n",
              "  </tbody>\n",
              "</table>\n",
              "</div>\n",
              "      <button class=\"colab-df-convert\" onclick=\"convertToInteractive('df-36337e63-a555-4773-a533-8565fb2581e5')\"\n",
              "              title=\"Convert this dataframe to an interactive table.\"\n",
              "              style=\"display:none;\">\n",
              "        \n",
              "  <svg xmlns=\"http://www.w3.org/2000/svg\" height=\"24px\"viewBox=\"0 0 24 24\"\n",
              "       width=\"24px\">\n",
              "    <path d=\"M0 0h24v24H0V0z\" fill=\"none\"/>\n",
              "    <path d=\"M18.56 5.44l.94 2.06.94-2.06 2.06-.94-2.06-.94-.94-2.06-.94 2.06-2.06.94zm-11 1L8.5 8.5l.94-2.06 2.06-.94-2.06-.94L8.5 2.5l-.94 2.06-2.06.94zm10 10l.94 2.06.94-2.06 2.06-.94-2.06-.94-.94-2.06-.94 2.06-2.06.94z\"/><path d=\"M17.41 7.96l-1.37-1.37c-.4-.4-.92-.59-1.43-.59-.52 0-1.04.2-1.43.59L10.3 9.45l-7.72 7.72c-.78.78-.78 2.05 0 2.83L4 21.41c.39.39.9.59 1.41.59.51 0 1.02-.2 1.41-.59l7.78-7.78 2.81-2.81c.8-.78.8-2.07 0-2.86zM5.41 20L4 18.59l7.72-7.72 1.47 1.35L5.41 20z\"/>\n",
              "  </svg>\n",
              "      </button>\n",
              "      \n",
              "  <style>\n",
              "    .colab-df-container {\n",
              "      display:flex;\n",
              "      flex-wrap:wrap;\n",
              "      gap: 12px;\n",
              "    }\n",
              "\n",
              "    .colab-df-convert {\n",
              "      background-color: #E8F0FE;\n",
              "      border: none;\n",
              "      border-radius: 50%;\n",
              "      cursor: pointer;\n",
              "      display: none;\n",
              "      fill: #1967D2;\n",
              "      height: 32px;\n",
              "      padding: 0 0 0 0;\n",
              "      width: 32px;\n",
              "    }\n",
              "\n",
              "    .colab-df-convert:hover {\n",
              "      background-color: #E2EBFA;\n",
              "      box-shadow: 0px 1px 2px rgba(60, 64, 67, 0.3), 0px 1px 3px 1px rgba(60, 64, 67, 0.15);\n",
              "      fill: #174EA6;\n",
              "    }\n",
              "\n",
              "    [theme=dark] .colab-df-convert {\n",
              "      background-color: #3B4455;\n",
              "      fill: #D2E3FC;\n",
              "    }\n",
              "\n",
              "    [theme=dark] .colab-df-convert:hover {\n",
              "      background-color: #434B5C;\n",
              "      box-shadow: 0px 1px 3px 1px rgba(0, 0, 0, 0.15);\n",
              "      filter: drop-shadow(0px 1px 2px rgba(0, 0, 0, 0.3));\n",
              "      fill: #FFFFFF;\n",
              "    }\n",
              "  </style>\n",
              "\n",
              "      <script>\n",
              "        const buttonEl =\n",
              "          document.querySelector('#df-36337e63-a555-4773-a533-8565fb2581e5 button.colab-df-convert');\n",
              "        buttonEl.style.display =\n",
              "          google.colab.kernel.accessAllowed ? 'block' : 'none';\n",
              "\n",
              "        async function convertToInteractive(key) {\n",
              "          const element = document.querySelector('#df-36337e63-a555-4773-a533-8565fb2581e5');\n",
              "          const dataTable =\n",
              "            await google.colab.kernel.invokeFunction('convertToInteractive',\n",
              "                                                     [key], {});\n",
              "          if (!dataTable) return;\n",
              "\n",
              "          const docLinkHtml = 'Like what you see? Visit the ' +\n",
              "            '<a target=\"_blank\" href=https://colab.research.google.com/notebooks/data_table.ipynb>data table notebook</a>'\n",
              "            + ' to learn more about interactive tables.';\n",
              "          element.innerHTML = '';\n",
              "          dataTable['output_type'] = 'display_data';\n",
              "          await google.colab.output.renderOutput(dataTable, element);\n",
              "          const docLink = document.createElement('div');\n",
              "          docLink.innerHTML = docLinkHtml;\n",
              "          element.appendChild(docLink);\n",
              "        }\n",
              "      </script>\n",
              "    </div>\n",
              "  </div>\n",
              "  "
            ]
          },
          "metadata": {},
          "execution_count": 45
        }
      ],
      "source": [
        "web_marks.head()"
      ]
    },
    {
      "cell_type": "code",
      "execution_count": null,
      "metadata": {
        "colab": {
          "base_uri": "https://localhost:8080/",
          "height": 206
        },
        "id": "TNl6wuQ7p0D6",
        "outputId": "608d2569-7a23-4be3-92dc-6ee6d1bc0625"
      },
      "outputs": [
        {
          "output_type": "execute_result",
          "data": {
            "text/plain": [
              "   enrollment_number            student_name  internal_marks_web  \\\n",
              "90        1KG17CS106                 VIKAS B                  36   \n",
              "91        1KG17CS107          VINITH RAJ B U                  30   \n",
              "92        1KG17CS108                 VINOD N                  30   \n",
              "93        1KG17CS109  YASH KUMAR SINGH PATWA                  39   \n",
              "94        1KG17CS110             YASHASH T V                  33   \n",
              "\n",
              "    external_marks_web  total_marks_web result_web  \n",
              "90                  25               61       PASS  \n",
              "91                  22               52       PASS  \n",
              "92                  30               60       PASS  \n",
              "93                  29               68       PASS  \n",
              "94                  38               71       PASS  "
            ],
            "text/html": [
              "\n",
              "  <div id=\"df-a634ec6a-04f6-411a-94f2-3d86f881a8df\">\n",
              "    <div class=\"colab-df-container\">\n",
              "      <div>\n",
              "<style scoped>\n",
              "    .dataframe tbody tr th:only-of-type {\n",
              "        vertical-align: middle;\n",
              "    }\n",
              "\n",
              "    .dataframe tbody tr th {\n",
              "        vertical-align: top;\n",
              "    }\n",
              "\n",
              "    .dataframe thead th {\n",
              "        text-align: right;\n",
              "    }\n",
              "</style>\n",
              "<table border=\"1\" class=\"dataframe\">\n",
              "  <thead>\n",
              "    <tr style=\"text-align: right;\">\n",
              "      <th></th>\n",
              "      <th>enrollment_number</th>\n",
              "      <th>student_name</th>\n",
              "      <th>internal_marks_web</th>\n",
              "      <th>external_marks_web</th>\n",
              "      <th>total_marks_web</th>\n",
              "      <th>result_web</th>\n",
              "    </tr>\n",
              "  </thead>\n",
              "  <tbody>\n",
              "    <tr>\n",
              "      <th>90</th>\n",
              "      <td>1KG17CS106</td>\n",
              "      <td>VIKAS B</td>\n",
              "      <td>36</td>\n",
              "      <td>25</td>\n",
              "      <td>61</td>\n",
              "      <td>PASS</td>\n",
              "    </tr>\n",
              "    <tr>\n",
              "      <th>91</th>\n",
              "      <td>1KG17CS107</td>\n",
              "      <td>VINITH RAJ B U</td>\n",
              "      <td>30</td>\n",
              "      <td>22</td>\n",
              "      <td>52</td>\n",
              "      <td>PASS</td>\n",
              "    </tr>\n",
              "    <tr>\n",
              "      <th>92</th>\n",
              "      <td>1KG17CS108</td>\n",
              "      <td>VINOD N</td>\n",
              "      <td>30</td>\n",
              "      <td>30</td>\n",
              "      <td>60</td>\n",
              "      <td>PASS</td>\n",
              "    </tr>\n",
              "    <tr>\n",
              "      <th>93</th>\n",
              "      <td>1KG17CS109</td>\n",
              "      <td>YASH KUMAR SINGH PATWA</td>\n",
              "      <td>39</td>\n",
              "      <td>29</td>\n",
              "      <td>68</td>\n",
              "      <td>PASS</td>\n",
              "    </tr>\n",
              "    <tr>\n",
              "      <th>94</th>\n",
              "      <td>1KG17CS110</td>\n",
              "      <td>YASHASH T V</td>\n",
              "      <td>33</td>\n",
              "      <td>38</td>\n",
              "      <td>71</td>\n",
              "      <td>PASS</td>\n",
              "    </tr>\n",
              "  </tbody>\n",
              "</table>\n",
              "</div>\n",
              "      <button class=\"colab-df-convert\" onclick=\"convertToInteractive('df-a634ec6a-04f6-411a-94f2-3d86f881a8df')\"\n",
              "              title=\"Convert this dataframe to an interactive table.\"\n",
              "              style=\"display:none;\">\n",
              "        \n",
              "  <svg xmlns=\"http://www.w3.org/2000/svg\" height=\"24px\"viewBox=\"0 0 24 24\"\n",
              "       width=\"24px\">\n",
              "    <path d=\"M0 0h24v24H0V0z\" fill=\"none\"/>\n",
              "    <path d=\"M18.56 5.44l.94 2.06.94-2.06 2.06-.94-2.06-.94-.94-2.06-.94 2.06-2.06.94zm-11 1L8.5 8.5l.94-2.06 2.06-.94-2.06-.94L8.5 2.5l-.94 2.06-2.06.94zm10 10l.94 2.06.94-2.06 2.06-.94-2.06-.94-.94-2.06-.94 2.06-2.06.94z\"/><path d=\"M17.41 7.96l-1.37-1.37c-.4-.4-.92-.59-1.43-.59-.52 0-1.04.2-1.43.59L10.3 9.45l-7.72 7.72c-.78.78-.78 2.05 0 2.83L4 21.41c.39.39.9.59 1.41.59.51 0 1.02-.2 1.41-.59l7.78-7.78 2.81-2.81c.8-.78.8-2.07 0-2.86zM5.41 20L4 18.59l7.72-7.72 1.47 1.35L5.41 20z\"/>\n",
              "  </svg>\n",
              "      </button>\n",
              "      \n",
              "  <style>\n",
              "    .colab-df-container {\n",
              "      display:flex;\n",
              "      flex-wrap:wrap;\n",
              "      gap: 12px;\n",
              "    }\n",
              "\n",
              "    .colab-df-convert {\n",
              "      background-color: #E8F0FE;\n",
              "      border: none;\n",
              "      border-radius: 50%;\n",
              "      cursor: pointer;\n",
              "      display: none;\n",
              "      fill: #1967D2;\n",
              "      height: 32px;\n",
              "      padding: 0 0 0 0;\n",
              "      width: 32px;\n",
              "    }\n",
              "\n",
              "    .colab-df-convert:hover {\n",
              "      background-color: #E2EBFA;\n",
              "      box-shadow: 0px 1px 2px rgba(60, 64, 67, 0.3), 0px 1px 3px 1px rgba(60, 64, 67, 0.15);\n",
              "      fill: #174EA6;\n",
              "    }\n",
              "\n",
              "    [theme=dark] .colab-df-convert {\n",
              "      background-color: #3B4455;\n",
              "      fill: #D2E3FC;\n",
              "    }\n",
              "\n",
              "    [theme=dark] .colab-df-convert:hover {\n",
              "      background-color: #434B5C;\n",
              "      box-shadow: 0px 1px 3px 1px rgba(0, 0, 0, 0.15);\n",
              "      filter: drop-shadow(0px 1px 2px rgba(0, 0, 0, 0.3));\n",
              "      fill: #FFFFFF;\n",
              "    }\n",
              "  </style>\n",
              "\n",
              "      <script>\n",
              "        const buttonEl =\n",
              "          document.querySelector('#df-a634ec6a-04f6-411a-94f2-3d86f881a8df button.colab-df-convert');\n",
              "        buttonEl.style.display =\n",
              "          google.colab.kernel.accessAllowed ? 'block' : 'none';\n",
              "\n",
              "        async function convertToInteractive(key) {\n",
              "          const element = document.querySelector('#df-a634ec6a-04f6-411a-94f2-3d86f881a8df');\n",
              "          const dataTable =\n",
              "            await google.colab.kernel.invokeFunction('convertToInteractive',\n",
              "                                                     [key], {});\n",
              "          if (!dataTable) return;\n",
              "\n",
              "          const docLinkHtml = 'Like what you see? Visit the ' +\n",
              "            '<a target=\"_blank\" href=https://colab.research.google.com/notebooks/data_table.ipynb>data table notebook</a>'\n",
              "            + ' to learn more about interactive tables.';\n",
              "          element.innerHTML = '';\n",
              "          dataTable['output_type'] = 'display_data';\n",
              "          await google.colab.output.renderOutput(dataTable, element);\n",
              "          const docLink = document.createElement('div');\n",
              "          docLink.innerHTML = docLinkHtml;\n",
              "          element.appendChild(docLink);\n",
              "        }\n",
              "      </script>\n",
              "    </div>\n",
              "  </div>\n",
              "  "
            ]
          },
          "metadata": {},
          "execution_count": 46
        }
      ],
      "source": [
        "web_marks.tail()"
      ]
    },
    {
      "cell_type": "code",
      "execution_count": null,
      "metadata": {
        "colab": {
          "base_uri": "https://localhost:8080/"
        },
        "id": "ZzvCBrkap0D8",
        "outputId": "11c62103-05a5-455c-b083-bfcbf6a4dbb1"
      },
      "outputs": [
        {
          "output_type": "execute_result",
          "data": {
            "text/plain": [
              "(95, 6)"
            ]
          },
          "metadata": {},
          "execution_count": 47
        }
      ],
      "source": [
        "web_marks.shape"
      ]
    },
    {
      "cell_type": "code",
      "execution_count": null,
      "metadata": {
        "colab": {
          "base_uri": "https://localhost:8080/"
        },
        "id": "ji148rY2p0D-",
        "outputId": "965f77ee-0365-4c6a-a4c6-d2d8d22c7977"
      },
      "outputs": [
        {
          "output_type": "execute_result",
          "data": {
            "text/plain": [
              "Index(['enrollment_number', 'student_name', 'internal_marks_web',\n",
              "       'external_marks_web', 'total_marks_web', 'result_web'],\n",
              "      dtype='object')"
            ]
          },
          "metadata": {},
          "execution_count": 48
        }
      ],
      "source": [
        "web_marks.columns"
      ]
    },
    {
      "cell_type": "code",
      "execution_count": null,
      "metadata": {
        "colab": {
          "base_uri": "https://localhost:8080/"
        },
        "id": "NMpKPjQup0EB",
        "outputId": "467230f3-953b-44cd-c8d9-b88b7e91d860"
      },
      "outputs": [
        {
          "output_type": "stream",
          "name": "stdout",
          "text": [
            "<class 'pandas.core.frame.DataFrame'>\n",
            "RangeIndex: 95 entries, 0 to 94\n",
            "Data columns (total 6 columns):\n",
            " #   Column              Non-Null Count  Dtype \n",
            "---  ------              --------------  ----- \n",
            " 0   enrollment_number   95 non-null     object\n",
            " 1   student_name        95 non-null     object\n",
            " 2   internal_marks_web  95 non-null     int64 \n",
            " 3   external_marks_web  95 non-null     int64 \n",
            " 4   total_marks_web     95 non-null     int64 \n",
            " 5   result_web          95 non-null     object\n",
            "dtypes: int64(3), object(3)\n",
            "memory usage: 4.6+ KB\n"
          ]
        }
      ],
      "source": [
        "web_marks.info()"
      ]
    },
    {
      "cell_type": "code",
      "execution_count": null,
      "metadata": {
        "colab": {
          "base_uri": "https://localhost:8080/",
          "height": 301
        },
        "id": "T4lG27G3p0ED",
        "outputId": "adc69b67-c56a-4e85-fcb9-2d266b59f7e2"
      },
      "outputs": [
        {
          "output_type": "execute_result",
          "data": {
            "text/plain": [
              "       internal_marks_web  external_marks_web  total_marks_web\n",
              "count           95.000000           95.000000        95.000000\n",
              "mean            34.505263           31.842105        66.347368\n",
              "std              3.861633           10.871900        13.032503\n",
              "min             20.000000            0.000000        32.000000\n",
              "25%             32.000000           24.000000        59.000000\n",
              "50%             35.000000           32.000000        66.000000\n",
              "75%             37.000000           38.500000        75.500000\n",
              "max             40.000000           55.000000        92.000000"
            ],
            "text/html": [
              "\n",
              "  <div id=\"df-328c44bc-0bd9-4580-affb-41a338469d94\">\n",
              "    <div class=\"colab-df-container\">\n",
              "      <div>\n",
              "<style scoped>\n",
              "    .dataframe tbody tr th:only-of-type {\n",
              "        vertical-align: middle;\n",
              "    }\n",
              "\n",
              "    .dataframe tbody tr th {\n",
              "        vertical-align: top;\n",
              "    }\n",
              "\n",
              "    .dataframe thead th {\n",
              "        text-align: right;\n",
              "    }\n",
              "</style>\n",
              "<table border=\"1\" class=\"dataframe\">\n",
              "  <thead>\n",
              "    <tr style=\"text-align: right;\">\n",
              "      <th></th>\n",
              "      <th>internal_marks_web</th>\n",
              "      <th>external_marks_web</th>\n",
              "      <th>total_marks_web</th>\n",
              "    </tr>\n",
              "  </thead>\n",
              "  <tbody>\n",
              "    <tr>\n",
              "      <th>count</th>\n",
              "      <td>95.000000</td>\n",
              "      <td>95.000000</td>\n",
              "      <td>95.000000</td>\n",
              "    </tr>\n",
              "    <tr>\n",
              "      <th>mean</th>\n",
              "      <td>34.505263</td>\n",
              "      <td>31.842105</td>\n",
              "      <td>66.347368</td>\n",
              "    </tr>\n",
              "    <tr>\n",
              "      <th>std</th>\n",
              "      <td>3.861633</td>\n",
              "      <td>10.871900</td>\n",
              "      <td>13.032503</td>\n",
              "    </tr>\n",
              "    <tr>\n",
              "      <th>min</th>\n",
              "      <td>20.000000</td>\n",
              "      <td>0.000000</td>\n",
              "      <td>32.000000</td>\n",
              "    </tr>\n",
              "    <tr>\n",
              "      <th>25%</th>\n",
              "      <td>32.000000</td>\n",
              "      <td>24.000000</td>\n",
              "      <td>59.000000</td>\n",
              "    </tr>\n",
              "    <tr>\n",
              "      <th>50%</th>\n",
              "      <td>35.000000</td>\n",
              "      <td>32.000000</td>\n",
              "      <td>66.000000</td>\n",
              "    </tr>\n",
              "    <tr>\n",
              "      <th>75%</th>\n",
              "      <td>37.000000</td>\n",
              "      <td>38.500000</td>\n",
              "      <td>75.500000</td>\n",
              "    </tr>\n",
              "    <tr>\n",
              "      <th>max</th>\n",
              "      <td>40.000000</td>\n",
              "      <td>55.000000</td>\n",
              "      <td>92.000000</td>\n",
              "    </tr>\n",
              "  </tbody>\n",
              "</table>\n",
              "</div>\n",
              "      <button class=\"colab-df-convert\" onclick=\"convertToInteractive('df-328c44bc-0bd9-4580-affb-41a338469d94')\"\n",
              "              title=\"Convert this dataframe to an interactive table.\"\n",
              "              style=\"display:none;\">\n",
              "        \n",
              "  <svg xmlns=\"http://www.w3.org/2000/svg\" height=\"24px\"viewBox=\"0 0 24 24\"\n",
              "       width=\"24px\">\n",
              "    <path d=\"M0 0h24v24H0V0z\" fill=\"none\"/>\n",
              "    <path d=\"M18.56 5.44l.94 2.06.94-2.06 2.06-.94-2.06-.94-.94-2.06-.94 2.06-2.06.94zm-11 1L8.5 8.5l.94-2.06 2.06-.94-2.06-.94L8.5 2.5l-.94 2.06-2.06.94zm10 10l.94 2.06.94-2.06 2.06-.94-2.06-.94-.94-2.06-.94 2.06-2.06.94z\"/><path d=\"M17.41 7.96l-1.37-1.37c-.4-.4-.92-.59-1.43-.59-.52 0-1.04.2-1.43.59L10.3 9.45l-7.72 7.72c-.78.78-.78 2.05 0 2.83L4 21.41c.39.39.9.59 1.41.59.51 0 1.02-.2 1.41-.59l7.78-7.78 2.81-2.81c.8-.78.8-2.07 0-2.86zM5.41 20L4 18.59l7.72-7.72 1.47 1.35L5.41 20z\"/>\n",
              "  </svg>\n",
              "      </button>\n",
              "      \n",
              "  <style>\n",
              "    .colab-df-container {\n",
              "      display:flex;\n",
              "      flex-wrap:wrap;\n",
              "      gap: 12px;\n",
              "    }\n",
              "\n",
              "    .colab-df-convert {\n",
              "      background-color: #E8F0FE;\n",
              "      border: none;\n",
              "      border-radius: 50%;\n",
              "      cursor: pointer;\n",
              "      display: none;\n",
              "      fill: #1967D2;\n",
              "      height: 32px;\n",
              "      padding: 0 0 0 0;\n",
              "      width: 32px;\n",
              "    }\n",
              "\n",
              "    .colab-df-convert:hover {\n",
              "      background-color: #E2EBFA;\n",
              "      box-shadow: 0px 1px 2px rgba(60, 64, 67, 0.3), 0px 1px 3px 1px rgba(60, 64, 67, 0.15);\n",
              "      fill: #174EA6;\n",
              "    }\n",
              "\n",
              "    [theme=dark] .colab-df-convert {\n",
              "      background-color: #3B4455;\n",
              "      fill: #D2E3FC;\n",
              "    }\n",
              "\n",
              "    [theme=dark] .colab-df-convert:hover {\n",
              "      background-color: #434B5C;\n",
              "      box-shadow: 0px 1px 3px 1px rgba(0, 0, 0, 0.15);\n",
              "      filter: drop-shadow(0px 1px 2px rgba(0, 0, 0, 0.3));\n",
              "      fill: #FFFFFF;\n",
              "    }\n",
              "  </style>\n",
              "\n",
              "      <script>\n",
              "        const buttonEl =\n",
              "          document.querySelector('#df-328c44bc-0bd9-4580-affb-41a338469d94 button.colab-df-convert');\n",
              "        buttonEl.style.display =\n",
              "          google.colab.kernel.accessAllowed ? 'block' : 'none';\n",
              "\n",
              "        async function convertToInteractive(key) {\n",
              "          const element = document.querySelector('#df-328c44bc-0bd9-4580-affb-41a338469d94');\n",
              "          const dataTable =\n",
              "            await google.colab.kernel.invokeFunction('convertToInteractive',\n",
              "                                                     [key], {});\n",
              "          if (!dataTable) return;\n",
              "\n",
              "          const docLinkHtml = 'Like what you see? Visit the ' +\n",
              "            '<a target=\"_blank\" href=https://colab.research.google.com/notebooks/data_table.ipynb>data table notebook</a>'\n",
              "            + ' to learn more about interactive tables.';\n",
              "          element.innerHTML = '';\n",
              "          dataTable['output_type'] = 'display_data';\n",
              "          await google.colab.output.renderOutput(dataTable, element);\n",
              "          const docLink = document.createElement('div');\n",
              "          docLink.innerHTML = docLinkHtml;\n",
              "          element.appendChild(docLink);\n",
              "        }\n",
              "      </script>\n",
              "    </div>\n",
              "  </div>\n",
              "  "
            ]
          },
          "metadata": {},
          "execution_count": 50
        }
      ],
      "source": [
        "web_marks.describe()"
      ]
    },
    {
      "cell_type": "code",
      "execution_count": null,
      "metadata": {
        "colab": {
          "base_uri": "https://localhost:8080/"
        },
        "id": "p0Uc3MrUp0EF",
        "outputId": "077295cb-e088-4625-a7c3-438c330f850d"
      },
      "outputs": [
        {
          "output_type": "execute_result",
          "data": {
            "text/plain": [
              "enrollment_number     0\n",
              "student_name          0\n",
              "internal_marks_web    0\n",
              "external_marks_web    0\n",
              "total_marks_web       0\n",
              "result_web            0\n",
              "dtype: int64"
            ]
          },
          "metadata": {},
          "execution_count": 51
        }
      ],
      "source": [
        "web_marks.isnull().sum()"
      ]
    },
    {
      "cell_type": "code",
      "execution_count": null,
      "metadata": {
        "colab": {
          "base_uri": "https://localhost:8080/"
        },
        "id": "DYIDSRIfp0EH",
        "outputId": "3049c5e8-c300-4524-c39d-558e41871a85"
      },
      "outputs": [
        {
          "output_type": "execute_result",
          "data": {
            "text/plain": [
              "array(['FAIL', 'PASS'], dtype=object)"
            ]
          },
          "metadata": {},
          "execution_count": 52
        }
      ],
      "source": [
        "web_marks.result_web.unique()"
      ]
    },
    {
      "cell_type": "code",
      "execution_count": null,
      "metadata": {
        "colab": {
          "base_uri": "https://localhost:8080/"
        },
        "id": "QTUFCFaEp0EJ",
        "outputId": "6e20f72b-0986-40d7-904e-9544f6b3d6c3"
      },
      "outputs": [
        {
          "output_type": "execute_result",
          "data": {
            "text/plain": [
              "PASS    87\n",
              "FAIL     8\n",
              "Name: result_web, dtype: int64"
            ]
          },
          "metadata": {},
          "execution_count": 53
        }
      ],
      "source": [
        "web_marks.result_web.value_counts()"
      ]
    },
    {
      "cell_type": "code",
      "execution_count": null,
      "metadata": {
        "colab": {
          "base_uri": "https://localhost:8080/",
          "height": 404
        },
        "id": "Xing42FBp0EK",
        "outputId": "9314a47f-4908-4825-e6e1-53af1d7baaa2"
      },
      "outputs": [
        {
          "output_type": "display_data",
          "data": {
            "text/plain": [
              "<Figure size 1080x432 with 1 Axes>"
            ],
            "image/png": "[encoded data removed]"
          },
          "metadata": {
            "needs_background": "light"
          }
        }
      ],
      "source": [
        "plt.figure(figsize=(15,6))\n",
        "sns.countplot('result_web', data = web_marks, palette='hls')\n",
        "plt.xticks(rotation = 90)\n",
        "plt.show()"
      ]
    },
    {
      "cell_type": "code",
      "execution_count": null,
      "metadata": {
        "colab": {
          "base_uri": "https://localhost:8080/",
          "height": 375
        },
        "id": "AcZbmejAp0EQ",
        "outputId": "84b21b14-5f01-4045-f1d4-48529615d7c6"
      },
      "outputs": [
        {
          "output_type": "display_data",
          "data": {
            "text/plain": [
              "<Figure size 1080x432 with 1 Axes>"
            ],
            "image/png": "[encoded data removed]"
          },
          "metadata": {}
        }
      ],
      "source": [
        "plt.figure(figsize=(15,6))\n",
        "colors = sns.color_palette('bright')\n",
        "explode = [0.3, 0.02]\n",
        "plt.pie(web_marks['result_web'].value_counts(), colors = colors, labels = ['pass', 'fail'],\n",
        "        explode = explode, autopct = '%0.0f%%', shadow = 'True', startangle = 90)\n",
        "plt.show()"
      ]
    },
    {
      "cell_type": "code",
      "execution_count": null,
      "metadata": {
        "id": "Ff5DasWhp0ET"
      },
      "outputs": [],
      "source": [
        "web_marks['percentage'] = web_marks['total_marks_web'].div(100).round(2)"
      ]
    },
    {
      "cell_type": "code",
      "execution_count": null,
      "metadata": {
        "id": "FZoStJDip0EU"
      },
      "outputs": [],
      "source": [
        "conditions = [\n",
        "    (web_marks['percentage'] > 0.7),\n",
        "    (web_marks['percentage'] >= 0.5) & (web_marks['percentage'] < 0.69),\n",
        "    (web_marks['percentage'] >= 0.35) & (web_marks['percentage'] < 0.49),\n",
        "    (web_marks['percentage'] < 0.35)\n",
        "]\n",
        "\n",
        "values = [0, 1, 2, 3]\n",
        "\n",
        "web_marks['time_per_day'] = np.select(conditions, values)\n"
      ]
    },
    {
      "cell_type": "code",
      "execution_count": null,
      "metadata": {
        "id": "uZAwvv0fp0EV"
      },
      "outputs": [],
      "source": [
        "from sklearn.preprocessing import LabelEncoder"
      ]
    },
    {
      "cell_type": "code",
      "execution_count": null,
      "metadata": {
        "id": "55WhqoUWp0EW"
      },
      "outputs": [],
      "source": [
        "le = LabelEncoder()"
      ]
    },
    {
      "cell_type": "code",
      "execution_count": null,
      "metadata": {
        "id": "-xDl_wWXp0EX"
      },
      "outputs": [],
      "source": [
        "data1 = ['result_web']\n",
        "for i in data1:\n",
        "    web_marks[i] = le.fit_transform(web_marks[i])"
      ]
    },
    {
      "cell_type": "code",
      "execution_count": null,
      "metadata": {
        "colab": {
          "base_uri": "https://localhost:8080/",
          "height": 206
        },
        "id": "zH14o0MLp0EY",
        "outputId": "3dae3a09-5f19-43bd-c979-bb2db25263c0"
      },
      "outputs": [
        {
          "output_type": "execute_result",
          "data": {
            "text/plain": [
              "  enrollment_number         student_name  internal_marks_web  \\\n",
              "0        1KG16CS025            DIVYA R D                  27   \n",
              "1        1KG16CS054    M D MAHATAP PASHA                  34   \n",
              "2        1KG16CS059          P YASHWANTH                  20   \n",
              "3        1KG16CS113  V CHANDANA CHOWDARY                  30   \n",
              "4        1KG17CS002     ABHIMANYU BANSAL                  39   \n",
              "\n",
              "   external_marks_web  total_marks_web  result_web  percentage  time_per_day  \n",
              "0                   5               32           0        0.32             3  \n",
              "1                  33               67           1        0.67             1  \n",
              "2                  15               35           0        0.35             2  \n",
              "3                  24               54           1        0.54             1  \n",
              "4                  21               60           1        0.60             1  "
            ],
            "text/html": [
              "\n",
              "  <div id=\"df-51dee576-6908-4c49-9232-d2db8c668930\">\n",
              "    <div class=\"colab-df-container\">\n",
              "      <div>\n",
              "<style scoped>\n",
              "    .dataframe tbody tr th:only-of-type {\n",
              "        vertical-align: middle;\n",
              "    }\n",
              "\n",
              "    .dataframe tbody tr th {\n",
              "        vertical-align: top;\n",
              "    }\n",
              "\n",
              "    .dataframe thead th {\n",
              "        text-align: right;\n",
              "    }\n",
              "</style>\n",
              "<table border=\"1\" class=\"dataframe\">\n",
              "  <thead>\n",
              "    <tr style=\"text-align: right;\">\n",
              "      <th></th>\n",
              "      <th>enrollment_number</th>\n",
              "      <th>student_name</th>\n",
              "      <th>internal_marks_web</th>\n",
              "      <th>external_marks_web</th>\n",
              "      <th>total_marks_web</th>\n",
              "      <th>result_web</th>\n",
              "      <th>percentage</th>\n",
              "      <th>time_per_day</th>\n",
              "    </tr>\n",
              "  </thead>\n",
              "  <tbody>\n",
              "    <tr>\n",
              "      <th>0</th>\n",
              "      <td>1KG16CS025</td>\n",
              "      <td>DIVYA R D</td>\n",
              "      <td>27</td>\n",
              "      <td>5</td>\n",
              "      <td>32</td>\n",
              "      <td>0</td>\n",
              "      <td>0.32</td>\n",
              "      <td>3</td>\n",
              "    </tr>\n",
              "    <tr>\n",
              "      <th>1</th>\n",
              "      <td>1KG16CS054</td>\n",
              "      <td>M D MAHATAP PASHA</td>\n",
              "      <td>34</td>\n",
              "      <td>33</td>\n",
              "      <td>67</td>\n",
              "      <td>1</td>\n",
              "      <td>0.67</td>\n",
              "      <td>1</td>\n",
              "    </tr>\n",
              "    <tr>\n",
              "      <th>2</th>\n",
              "      <td>1KG16CS059</td>\n",
              "      <td>P YASHWANTH</td>\n",
              "      <td>20</td>\n",
              "      <td>15</td>\n",
              "      <td>35</td>\n",
              "      <td>0</td>\n",
              "      <td>0.35</td>\n",
              "      <td>2</td>\n",
              "    </tr>\n",
              "    <tr>\n",
              "      <th>3</th>\n",
              "      <td>1KG16CS113</td>\n",
              "      <td>V CHANDANA CHOWDARY</td>\n",
              "      <td>30</td>\n",
              "      <td>24</td>\n",
              "      <td>54</td>\n",
              "      <td>1</td>\n",
              "      <td>0.54</td>\n",
              "      <td>1</td>\n",
              "    </tr>\n",
              "    <tr>\n",
              "      <th>4</th>\n",
              "      <td>1KG17CS002</td>\n",
              "      <td>ABHIMANYU BANSAL</td>\n",
              "      <td>39</td>\n",
              "      <td>21</td>\n",
              "      <td>60</td>\n",
              "      <td>1</td>\n",
              "      <td>0.60</td>\n",
              "      <td>1</td>\n",
              "    </tr>\n",
              "  </tbody>\n",
              "</table>\n",
              "</div>\n",
              "      <button class=\"colab-df-convert\" onclick=\"convertToInteractive('df-51dee576-6908-4c49-9232-d2db8c668930')\"\n",
              "              title=\"Convert this dataframe to an interactive table.\"\n",
              "              style=\"display:none;\">\n",
              "        \n",
              "  <svg xmlns=\"http://www.w3.org/2000/svg\" height=\"24px\"viewBox=\"0 0 24 24\"\n",
              "       width=\"24px\">\n",
              "    <path d=\"M0 0h24v24H0V0z\" fill=\"none\"/>\n",
              "    <path d=\"M18.56 5.44l.94 2.06.94-2.06 2.06-.94-2.06-.94-.94-2.06-.94 2.06-2.06.94zm-11 1L8.5 8.5l.94-2.06 2.06-.94-2.06-.94L8.5 2.5l-.94 2.06-2.06.94zm10 10l.94 2.06.94-2.06 2.06-.94-2.06-.94-.94-2.06-.94 2.06-2.06.94z\"/><path d=\"M17.41 7.96l-1.37-1.37c-.4-.4-.92-.59-1.43-.59-.52 0-1.04.2-1.43.59L10.3 9.45l-7.72 7.72c-.78.78-.78 2.05 0 2.83L4 21.41c.39.39.9.59 1.41.59.51 0 1.02-.2 1.41-.59l7.78-7.78 2.81-2.81c.8-.78.8-2.07 0-2.86zM5.41 20L4 18.59l7.72-7.72 1.47 1.35L5.41 20z\"/>\n",
              "  </svg>\n",
              "      </button>\n",
              "      \n",
              "  <style>\n",
              "    .colab-df-container {\n",
              "      display:flex;\n",
              "      flex-wrap:wrap;\n",
              "      gap: 12px;\n",
              "    }\n",
              "\n",
              "    .colab-df-convert {\n",
              "      background-color: #E8F0FE;\n",
              "      border: none;\n",
              "      border-radius: 50%;\n",
              "      cursor: pointer;\n",
              "      display: none;\n",
              "      fill: #1967D2;\n",
              "      height: 32px;\n",
              "      padding: 0 0 0 0;\n",
              "      width: 32px;\n",
              "    }\n",
              "\n",
              "    .colab-df-convert:hover {\n",
              "      background-color: #E2EBFA;\n",
              "      box-shadow: 0px 1px 2px rgba(60, 64, 67, 0.3), 0px 1px 3px 1px rgba(60, 64, 67, 0.15);\n",
              "      fill: #174EA6;\n",
              "    }\n",
              "\n",
              "    [theme=dark] .colab-df-convert {\n",
              "      background-color: #3B4455;\n",
              "      fill: #D2E3FC;\n",
              "    }\n",
              "\n",
              "    [theme=dark] .colab-df-convert:hover {\n",
              "      background-color: #434B5C;\n",
              "      box-shadow: 0px 1px 3px 1px rgba(0, 0, 0, 0.15);\n",
              "      filter: drop-shadow(0px 1px 2px rgba(0, 0, 0, 0.3));\n",
              "      fill: #FFFFFF;\n",
              "    }\n",
              "  </style>\n",
              "\n",
              "      <script>\n",
              "        const buttonEl =\n",
              "          document.querySelector('#df-51dee576-6908-4c49-9232-d2db8c668930 button.colab-df-convert');\n",
              "        buttonEl.style.display =\n",
              "          google.colab.kernel.accessAllowed ? 'block' : 'none';\n",
              "\n",
              "        async function convertToInteractive(key) {\n",
              "          const element = document.querySelector('#df-51dee576-6908-4c49-9232-d2db8c668930');\n",
              "          const dataTable =\n",
              "            await google.colab.kernel.invokeFunction('convertToInteractive',\n",
              "                                                     [key], {});\n",
              "          if (!dataTable) return;\n",
              "\n",
              "          const docLinkHtml = 'Like what you see? Visit the ' +\n",
              "            '<a target=\"_blank\" href=https://colab.research.google.com/notebooks/data_table.ipynb>data table notebook</a>'\n",
              "            + ' to learn more about interactive tables.';\n",
              "          element.innerHTML = '';\n",
              "          dataTable['output_type'] = 'display_data';\n",
              "          await google.colab.output.renderOutput(dataTable, element);\n",
              "          const docLink = document.createElement('div');\n",
              "          docLink.innerHTML = docLinkHtml;\n",
              "          element.appendChild(docLink);\n",
              "        }\n",
              "      </script>\n",
              "    </div>\n",
              "  </div>\n",
              "  "
            ]
          },
          "metadata": {},
          "execution_count": 61
        }
      ],
      "source": [
        "web_marks.head()"
      ]
    },
    {
      "cell_type": "code",
      "execution_count": null,
      "metadata": {
        "colab": {
          "base_uri": "https://localhost:8080/",
          "height": 206
        },
        "id": "V0WlzM8Wp0EZ",
        "outputId": "1f292a2f-190b-48fc-a6eb-3f12bf8fdb8c"
      },
      "outputs": [
        {
          "output_type": "execute_result",
          "data": {
            "text/plain": [
              "   enrollment_number            student_name  internal_marks_web  \\\n",
              "90        1KG17CS106                 VIKAS B                  36   \n",
              "91        1KG17CS107          VINITH RAJ B U                  30   \n",
              "92        1KG17CS108                 VINOD N                  30   \n",
              "93        1KG17CS109  YASH KUMAR SINGH PATWA                  39   \n",
              "94        1KG17CS110             YASHASH T V                  33   \n",
              "\n",
              "    external_marks_web  total_marks_web  result_web  percentage  time_per_day  \n",
              "90                  25               61           1        0.61             1  \n",
              "91                  22               52           1        0.52             1  \n",
              "92                  30               60           1        0.60             1  \n",
              "93                  29               68           1        0.68             1  \n",
              "94                  38               71           1        0.71             0  "
            ],
            "text/html": [
              "\n",
              "  <div id=\"df-d31aacb3-b635-420f-ab20-93008a385a72\">\n",
              "    <div class=\"colab-df-container\">\n",
              "      <div>\n",
              "<style scoped>\n",
              "    .dataframe tbody tr th:only-of-type {\n",
              "        vertical-align: middle;\n",
              "    }\n",
              "\n",
              "    .dataframe tbody tr th {\n",
              "        vertical-align: top;\n",
              "    }\n",
              "\n",
              "    .dataframe thead th {\n",
              "        text-align: right;\n",
              "    }\n",
              "</style>\n",
              "<table border=\"1\" class=\"dataframe\">\n",
              "  <thead>\n",
              "    <tr style=\"text-align: right;\">\n",
              "      <th></th>\n",
              "      <th>enrollment_number</th>\n",
              "      <th>student_name</th>\n",
              "      <th>internal_marks_web</th>\n",
              "      <th>external_marks_web</th>\n",
              "      <th>total_marks_web</th>\n",
              "      <th>result_web</th>\n",
              "      <th>percentage</th>\n",
              "      <th>time_per_day</th>\n",
              "    </tr>\n",
              "  </thead>\n",
              "  <tbody>\n",
              "    <tr>\n",
              "      <th>90</th>\n",
              "      <td>1KG17CS106</td>\n",
              "      <td>VIKAS B</td>\n",
              "      <td>36</td>\n",
              "      <td>25</td>\n",
              "      <td>61</td>\n",
              "      <td>1</td>\n",
              "      <td>0.61</td>\n",
              "      <td>1</td>\n",
              "    </tr>\n",
              "    <tr>\n",
              "      <th>91</th>\n",
              "      <td>1KG17CS107</td>\n",
              "      <td>VINITH RAJ B U</td>\n",
              "      <td>30</td>\n",
              "      <td>22</td>\n",
              "      <td>52</td>\n",
              "      <td>1</td>\n",
              "      <td>0.52</td>\n",
              "      <td>1</td>\n",
              "    </tr>\n",
              "    <tr>\n",
              "      <th>92</th>\n",
              "      <td>1KG17CS108</td>\n",
              "      <td>VINOD N</td>\n",
              "      <td>30</td>\n",
              "      <td>30</td>\n",
              "      <td>60</td>\n",
              "      <td>1</td>\n",
              "      <td>0.60</td>\n",
              "      <td>1</td>\n",
              "    </tr>\n",
              "    <tr>\n",
              "      <th>93</th>\n",
              "      <td>1KG17CS109</td>\n",
              "      <td>YASH KUMAR SINGH PATWA</td>\n",
              "      <td>39</td>\n",
              "      <td>29</td>\n",
              "      <td>68</td>\n",
              "      <td>1</td>\n",
              "      <td>0.68</td>\n",
              "      <td>1</td>\n",
              "    </tr>\n",
              "    <tr>\n",
              "      <th>94</th>\n",
              "      <td>1KG17CS110</td>\n",
              "      <td>YASHASH T V</td>\n",
              "      <td>33</td>\n",
              "      <td>38</td>\n",
              "      <td>71</td>\n",
              "      <td>1</td>\n",
              "      <td>0.71</td>\n",
              "      <td>0</td>\n",
              "    </tr>\n",
              "  </tbody>\n",
              "</table>\n",
              "</div>\n",
              "      <button class=\"colab-df-convert\" onclick=\"convertToInteractive('df-d31aacb3-b635-420f-ab20-93008a385a72')\"\n",
              "              title=\"Convert this dataframe to an interactive table.\"\n",
              "              style=\"display:none;\">\n",
              "        \n",
              "  <svg xmlns=\"http://www.w3.org/2000/svg\" height=\"24px\"viewBox=\"0 0 24 24\"\n",
              "       width=\"24px\">\n",
              "    <path d=\"M0 0h24v24H0V0z\" fill=\"none\"/>\n",
              "    <path d=\"M18.56 5.44l.94 2.06.94-2.06 2.06-.94-2.06-.94-.94-2.06-.94 2.06-2.06.94zm-11 1L8.5 8.5l.94-2.06 2.06-.94-2.06-.94L8.5 2.5l-.94 2.06-2.06.94zm10 10l.94 2.06.94-2.06 2.06-.94-2.06-.94-.94-2.06-.94 2.06-2.06.94z\"/><path d=\"M17.41 7.96l-1.37-1.37c-.4-.4-.92-.59-1.43-.59-.52 0-1.04.2-1.43.59L10.3 9.45l-7.72 7.72c-.78.78-.78 2.05 0 2.83L4 21.41c.39.39.9.59 1.41.59.51 0 1.02-.2 1.41-.59l7.78-7.78 2.81-2.81c.8-.78.8-2.07 0-2.86zM5.41 20L4 18.59l7.72-7.72 1.47 1.35L5.41 20z\"/>\n",
              "  </svg>\n",
              "      </button>\n",
              "      \n",
              "  <style>\n",
              "    .colab-df-container {\n",
              "      display:flex;\n",
              "      flex-wrap:wrap;\n",
              "      gap: 12px;\n",
              "    }\n",
              "\n",
              "    .colab-df-convert {\n",
              "      background-color: #E8F0FE;\n",
              "      border: none;\n",
              "      border-radius: 50%;\n",
              "      cursor: pointer;\n",
              "      display: none;\n",
              "      fill: #1967D2;\n",
              "      height: 32px;\n",
              "      padding: 0 0 0 0;\n",
              "      width: 32px;\n",
              "    }\n",
              "\n",
              "    .colab-df-convert:hover {\n",
              "      background-color: #E2EBFA;\n",
              "      box-shadow: 0px 1px 2px rgba(60, 64, 67, 0.3), 0px 1px 3px 1px rgba(60, 64, 67, 0.15);\n",
              "      fill: #174EA6;\n",
              "    }\n",
              "\n",
              "    [theme=dark] .colab-df-convert {\n",
              "      background-color: #3B4455;\n",
              "      fill: #D2E3FC;\n",
              "    }\n",
              "\n",
              "    [theme=dark] .colab-df-convert:hover {\n",
              "      background-color: #434B5C;\n",
              "      box-shadow: 0px 1px 3px 1px rgba(0, 0, 0, 0.15);\n",
              "      filter: drop-shadow(0px 1px 2px rgba(0, 0, 0, 0.3));\n",
              "      fill: #FFFFFF;\n",
              "    }\n",
              "  </style>\n",
              "\n",
              "      <script>\n",
              "        const buttonEl =\n",
              "          document.querySelector('#df-d31aacb3-b635-420f-ab20-93008a385a72 button.colab-df-convert');\n",
              "        buttonEl.style.display =\n",
              "          google.colab.kernel.accessAllowed ? 'block' : 'none';\n",
              "\n",
              "        async function convertToInteractive(key) {\n",
              "          const element = document.querySelector('#df-d31aacb3-b635-420f-ab20-93008a385a72');\n",
              "          const dataTable =\n",
              "            await google.colab.kernel.invokeFunction('convertToInteractive',\n",
              "                                                     [key], {});\n",
              "          if (!dataTable) return;\n",
              "\n",
              "          const docLinkHtml = 'Like what you see? Visit the ' +\n",
              "            '<a target=\"_blank\" href=https://colab.research.google.com/notebooks/data_table.ipynb>data table notebook</a>'\n",
              "            + ' to learn more about interactive tables.';\n",
              "          element.innerHTML = '';\n",
              "          dataTable['output_type'] = 'display_data';\n",
              "          await google.colab.output.renderOutput(dataTable, element);\n",
              "          const docLink = document.createElement('div');\n",
              "          docLink.innerHTML = docLinkHtml;\n",
              "          element.appendChild(docLink);\n",
              "        }\n",
              "      </script>\n",
              "    </div>\n",
              "  </div>\n",
              "  "
            ]
          },
          "metadata": {},
          "execution_count": 62
        }
      ],
      "source": [
        "web_marks.tail()"
      ]
    },
    {
      "cell_type": "code",
      "execution_count": null,
      "metadata": {
        "id": "d73k9D0Tp0Ea"
      },
      "outputs": [],
      "source": [
        "x_web= web_marks.drop(['enrollment_number', 'student_name', 'total_marks_web',\n",
        "                   'time_per_day', 'result_web', 'internal_marks_web',\n",
        "                   'external_marks_web'], axis = 1)  \n",
        "y_web= web_marks['time_per_day']"
      ]
    },
    {
      "cell_type": "code",
      "execution_count": null,
      "metadata": {
        "id": "CMzg2PVtp0Eb"
      },
      "outputs": [],
      "source": [
        "x_train_web = x_web.iloc[:75]"
      ]
    },
    {
      "cell_type": "code",
      "execution_count": null,
      "metadata": {
        "id": "o-jLsqOdp0Ec"
      },
      "outputs": [],
      "source": [
        "y_train_web = y_web.iloc[:75]"
      ]
    },
    {
      "cell_type": "code",
      "execution_count": null,
      "metadata": {
        "id": "7KroLQggp0Ed"
      },
      "outputs": [],
      "source": [
        "x_test_web = x_web.iloc[75:96]"
      ]
    },
    {
      "cell_type": "code",
      "execution_count": null,
      "metadata": {
        "id": "eVGTrkEXp0Ed"
      },
      "outputs": [],
      "source": [
        "y_test_web = y_web.iloc[75:96]"
      ]
    },
    {
      "cell_type": "code",
      "execution_count": null,
      "metadata": {
        "id": "aN3KCoi2p0Ee"
      },
      "outputs": [],
      "source": [
        "from sklearn.svm import SVR"
      ]
    },
    {
      "cell_type": "code",
      "execution_count": null,
      "metadata": {
        "colab": {
          "base_uri": "https://localhost:8080/"
        },
        "id": "n6XIpqWPp0Ee",
        "outputId": "a8cf1167-f8fc-43c7-d7ed-f76d234d9570"
      },
      "outputs": [
        {
          "output_type": "execute_result",
          "data": {
            "text/plain": [
              "SVR()"
            ]
          },
          "metadata": {},
          "execution_count": 69
        }
      ],
      "source": [
        "svregressor = SVR(kernel = 'rbf')\n",
        "svregressor.fit(x_train_web, y_train_web)"
      ]
    },
    {
      "cell_type": "code",
      "execution_count": null,
      "metadata": {
        "id": "7ZUnmVmSp0Ef"
      },
      "outputs": [],
      "source": [
        "y_pred_sv= svregressor.predict(x_test_web) "
      ]
    },
    {
      "cell_type": "code",
      "execution_count": null,
      "metadata": {
        "colab": {
          "base_uri": "https://localhost:8080/"
        },
        "id": "m-k_JN4Cp0Eg",
        "outputId": "2399a32e-de93-48f8-ab6d-6ff207853037"
      },
      "outputs": [
        {
          "output_type": "stream",
          "name": "stdout",
          "text": [
            "Training Accuracy : 0.8858053307339643\n",
            "Testing Accuracy : 0.7916849711695223\n"
          ]
        }
      ],
      "source": [
        "print(\"Training Accuracy :\", svregressor.score(x_train_web, y_train_web))\n",
        "print(\"Testing Accuracy :\", svregressor.score(x_test_web, y_test_web))"
      ]
    },
    {
      "cell_type": "code",
      "execution_count": null,
      "metadata": {
        "id": "dAHO0dIVp0Eh"
      },
      "outputs": [],
      "source": [
        "from sklearn.linear_model import LinearRegression  "
      ]
    },
    {
      "cell_type": "code",
      "execution_count": null,
      "metadata": {
        "colab": {
          "base_uri": "https://localhost:8080/"
        },
        "id": "oFtnNriap0Eh",
        "outputId": "9424e54a-d197-4caf-f74e-4d810292fa91"
      },
      "outputs": [
        {
          "output_type": "execute_result",
          "data": {
            "text/plain": [
              "LinearRegression()"
            ]
          },
          "metadata": {},
          "execution_count": 73
        }
      ],
      "source": [
        "liregressor= LinearRegression()  \n",
        "liregressor.fit(x_train_web, y_train_web) "
      ]
    },
    {
      "cell_type": "code",
      "execution_count": null,
      "metadata": {
        "id": "G7T-uIA1p0Ei"
      },
      "outputs": [],
      "source": [
        "y_pred_li= liregressor.predict(x_test_web) "
      ]
    },
    {
      "cell_type": "code",
      "execution_count": null,
      "metadata": {
        "colab": {
          "base_uri": "https://localhost:8080/"
        },
        "id": "3EJpoiqlp0Ej",
        "outputId": "e73854b0-970a-42b1-b79d-28547fb488d1"
      },
      "outputs": [
        {
          "output_type": "stream",
          "name": "stdout",
          "text": [
            "Training Accuracy : 0.7502629008683015\n",
            "Testing Accuracy : 0.7504322018238112\n"
          ]
        }
      ],
      "source": [
        "print(\"Training Accuracy :\", liregressor.score(x_train_web, y_train_web))\n",
        "print(\"Testing Accuracy :\", liregressor.score(x_test_web, y_test_web))"
      ]
    },
    {
      "cell_type": "code",
      "execution_count": null,
      "metadata": {
        "id": "moS_C5kSp0Ej"
      },
      "outputs": [],
      "source": [
        "from sklearn.linear_model import LogisticRegression "
      ]
    },
    {
      "cell_type": "code",
      "execution_count": null,
      "metadata": {
        "colab": {
          "base_uri": "https://localhost:8080/"
        },
        "id": "jswbuJqNp0Ek",
        "outputId": "da41e715-1254-4b3c-be59-b18458e04eb1"
      },
      "outputs": [
        {
          "output_type": "execute_result",
          "data": {
            "text/plain": [
              "LogisticRegression()"
            ]
          },
          "metadata": {},
          "execution_count": 77
        }
      ],
      "source": [
        "loregressor= LogisticRegression()  \n",
        "loregressor.fit(x_train_web, y_train_web)"
      ]
    },
    {
      "cell_type": "code",
      "execution_count": null,
      "metadata": {
        "id": "uAFBZwPrp0El"
      },
      "outputs": [],
      "source": [
        "y_pred_lo= loregressor.predict(x_test_web) "
      ]
    },
    {
      "cell_type": "code",
      "execution_count": null,
      "metadata": {
        "colab": {
          "base_uri": "https://localhost:8080/"
        },
        "id": "Rj3KX-Yyp0Em",
        "outputId": "41ea0950-6457-4534-c44a-1e0b622aaa1d"
      },
      "outputs": [
        {
          "output_type": "stream",
          "name": "stdout",
          "text": [
            "Training Accuracy : 0.7733333333333333\n",
            "Testing Accuracy : 0.7\n"
          ]
        }
      ],
      "source": [
        "print(\"Training Accuracy :\", loregressor.score(x_train_web, y_train_web))\n",
        "print(\"Testing Accuracy :\", loregressor.score(x_test_web, y_test_web))"
      ]
    },
    {
      "cell_type": "code",
      "execution_count": null,
      "metadata": {
        "id": "73RyCikYp0Em"
      },
      "outputs": [],
      "source": [
        "from sklearn.tree import DecisionTreeRegressor  "
      ]
    },
    {
      "cell_type": "code",
      "execution_count": null,
      "metadata": {
        "colab": {
          "base_uri": "https://localhost:8080/"
        },
        "id": "QGDbXgB1p0Eo",
        "outputId": "aa1aa76a-66f9-4a6d-c223-7ba80d869228"
      },
      "outputs": [
        {
          "output_type": "execute_result",
          "data": {
            "text/plain": [
              "DecisionTreeRegressor()"
            ]
          },
          "metadata": {},
          "execution_count": 81
        }
      ],
      "source": [
        "dtregressor= DecisionTreeRegressor()  \n",
        "dtregressor.fit(x_train_web, y_train_web) "
      ]
    },
    {
      "cell_type": "code",
      "execution_count": null,
      "metadata": {
        "id": "gYHJYPICp0Ep"
      },
      "outputs": [],
      "source": [
        "y_pred_dt= dtregressor.predict(x_test_web) "
      ]
    },
    {
      "cell_type": "code",
      "execution_count": null,
      "metadata": {
        "colab": {
          "base_uri": "https://localhost:8080/"
        },
        "id": "vXHPYtspp0Eq",
        "outputId": "df6fa387-df04-42ee-c774-29fe88b62e0c"
      },
      "outputs": [
        {
          "output_type": "stream",
          "name": "stdout",
          "text": [
            "Training Accuracy : 1.0\n",
            "Testing Accuracy : 1.0\n"
          ]
        }
      ],
      "source": [
        "print(\"Training Accuracy :\", dtregressor.score(x_train_web, y_train_web))\n",
        "print(\"Testing Accuracy :\", dtregressor.score(x_test_web, y_test_web))"
      ]
    },
    {
      "cell_type": "code",
      "execution_count": null,
      "metadata": {
        "id": "nQcooXZ2p0Er"
      },
      "outputs": [],
      "source": [
        "from sklearn.ensemble import RandomForestRegressor  "
      ]
    },
    {
      "cell_type": "code",
      "execution_count": null,
      "metadata": {
        "colab": {
          "base_uri": "https://localhost:8080/"
        },
        "id": "WspHIALjp0Es",
        "outputId": "5728e876-10dd-4e03-c892-2237c5c77138"
      },
      "outputs": [
        {
          "output_type": "execute_result",
          "data": {
            "text/plain": [
              "RandomForestRegressor()"
            ]
          },
          "metadata": {},
          "execution_count": 85
        }
      ],
      "source": [
        "rfregressor= RandomForestRegressor()  \n",
        "rfregressor.fit(x_train_web, y_train_web)"
      ]
    },
    {
      "cell_type": "code",
      "execution_count": null,
      "metadata": {
        "colab": {
          "base_uri": "https://localhost:8080/"
        },
        "id": "ptiLrRBEp0Es",
        "outputId": "5982fa89-c9a1-4b41-93db-6f48e75d9b6f"
      },
      "outputs": [
        {
          "output_type": "stream",
          "name": "stdout",
          "text": [
            "Training Accuracy : 0.9826704126750184\n",
            "Testing Accuracy : 0.9385138888888889\n"
          ]
        }
      ],
      "source": [
        "print(\"Training Accuracy :\", rfregressor.score(x_train_web, y_train_web))\n",
        "print(\"Testing Accuracy :\", rfregressor.score(x_test_web, y_test_web))"
      ]
    },
    {
      "cell_type": "code",
      "execution_count": null,
      "metadata": {
        "id": "Y6cP-JzRp0Et"
      },
      "outputs": [],
      "source": [
        "from sklearn.model_selection import cross_val_score"
      ]
    },
    {
      "cell_type": "code",
      "execution_count": null,
      "metadata": {
        "colab": {
          "base_uri": "https://localhost:8080/"
        },
        "id": "X12ITVEap0Eu",
        "outputId": "73255fc6-208d-42c0-8a76-90f5b830a5d8"
      },
      "outputs": [
        {
          "output_type": "execute_result",
          "data": {
            "text/plain": [
              "array([0.78336486, 0.92124746, 0.80697611])"
            ]
          },
          "metadata": {},
          "execution_count": 88
        }
      ],
      "source": [
        "cross_val_score(SVR(),x_web, y_web, cv = 3)"
      ]
    },
    {
      "cell_type": "code",
      "execution_count": null,
      "metadata": {
        "colab": {
          "base_uri": "https://localhost:8080/"
        },
        "id": "MK4irFlOp0Eu",
        "outputId": "0bd80bbf-946a-4cbc-e56f-6c75dad4ba2e"
      },
      "outputs": [
        {
          "output_type": "execute_result",
          "data": {
            "text/plain": [
              "array([0.69826236, 0.69381992, 0.75581806])"
            ]
          },
          "metadata": {},
          "execution_count": 89
        }
      ],
      "source": [
        "cross_val_score(LinearRegression(),x_web, y_web, cv = 3)"
      ]
    },
    {
      "cell_type": "code",
      "execution_count": null,
      "metadata": {
        "colab": {
          "base_uri": "https://localhost:8080/"
        },
        "id": "DNhPCbvnp0Ev",
        "outputId": "8566f472-d41c-4bf5-ef7a-4d5a333ae3fe"
      },
      "outputs": [
        {
          "output_type": "execute_result",
          "data": {
            "text/plain": [
              "array([0.875     , 0.875     , 0.83870968])"
            ]
          },
          "metadata": {},
          "execution_count": 90
        }
      ],
      "source": [
        "cross_val_score(LogisticRegression(),x_web, y_web, cv = 3)"
      ]
    },
    {
      "cell_type": "code",
      "source": [
        "from xgboost import XGBRegressor"
      ],
      "metadata": {
        "id": "ky64pbVqrpeV"
      },
      "execution_count": null,
      "outputs": []
    },
    {
      "cell_type": "code",
      "execution_count": null,
      "metadata": {
        "colab": {
          "base_uri": "https://localhost:8080/"
        },
        "id": "IgSA6KJGp0Ev",
        "outputId": "ca1d8ead-25c8-4bbf-c27a-20856f24f8b3"
      },
      "outputs": [
        {
          "output_type": "stream",
          "name": "stdout",
          "text": [
            "[20:07:41] WARNING: /workspace/src/objective/regression_obj.cu:152: reg:linear is now deprecated in favor of reg:squarederror.\n",
            "[20:07:41] WARNING: /workspace/src/objective/regression_obj.cu:152: reg:linear is now deprecated in favor of reg:squarederror.\n",
            "[20:07:41] WARNING: /workspace/src/objective/regression_obj.cu:152: reg:linear is now deprecated in favor of reg:squarederror.\n"
          ]
        },
        {
          "output_type": "execute_result",
          "data": {
            "text/plain": [
              "array([0.87295179, 0.99999993, 0.42548601])"
            ]
          },
          "metadata": {},
          "execution_count": 93
        }
      ],
      "source": [
        "cross_val_score(XGBRegressor(),x_web, y_web, cv = 3)"
      ]
    },
    {
      "cell_type": "code",
      "execution_count": null,
      "metadata": {
        "colab": {
          "base_uri": "https://localhost:8080/"
        },
        "id": "cKF9Iql5p0Ew",
        "outputId": "9a7aef12-0269-4478-fde1-373865ba93e0"
      },
      "outputs": [
        {
          "output_type": "execute_result",
          "data": {
            "text/plain": [
              "array([0.87096774, 1.        , 0.67708333])"
            ]
          },
          "metadata": {},
          "execution_count": 94
        }
      ],
      "source": [
        "cross_val_score(DecisionTreeRegressor(),x_web, y_web, cv = 3)"
      ]
    },
    {
      "cell_type": "code",
      "execution_count": null,
      "metadata": {
        "colab": {
          "base_uri": "https://localhost:8080/"
        },
        "id": "KvfIVgKwp0Ex",
        "outputId": "2754e92e-0232-4af3-967a-062c83ea97f7"
      },
      "outputs": [
        {
          "output_type": "execute_result",
          "data": {
            "text/plain": [
              "array([0.89441935, 0.99800386, 0.80114792])"
            ]
          },
          "metadata": {},
          "execution_count": 95
        }
      ],
      "source": [
        "cross_val_score(RandomForestRegressor(),x_web, y_web, cv = 3)"
      ]
    },
    {
      "cell_type": "code",
      "execution_count": null,
      "metadata": {
        "id": "QTklcRPsp0Ex"
      },
      "outputs": [],
      "source": [
        "def time_predict_web(percentage):\n",
        "    x=np.zeros(len(x_web.columns))\n",
        "    x[0]=percentage\n",
        "    return svregressor.predict([x])[0]"
      ]
    },
    {
      "cell_type": "code",
      "execution_count": null,
      "metadata": {
        "colab": {
          "base_uri": "https://localhost:8080/"
        },
        "id": "dL36XHvZp0Ey",
        "outputId": "4f744f10-65be-4558-cccc-7c5d91468362"
      },
      "outputs": [
        {
          "output_type": "execute_result",
          "data": {
            "text/plain": [
              "0.9778651752803509"
            ]
          },
          "metadata": {},
          "execution_count": 97
        }
      ],
      "source": [
        "time_predict_web(0.55)"
      ]
    },
    {
      "cell_type": "code",
      "execution_count": null,
      "metadata": {
        "id": "UBdi42_vp0Ez"
      },
      "outputs": [],
      "source": [
        "def time_predict_web(percentage):\n",
        "    x=np.zeros(len(x_web.columns))\n",
        "    x[0]=percentage\n",
        "    return liregressor.predict([x])[0]"
      ]
    },
    {
      "cell_type": "code",
      "execution_count": null,
      "metadata": {
        "colab": {
          "base_uri": "https://localhost:8080/"
        },
        "id": "qUPV_f3pp0Ez",
        "outputId": "c1682390-a3f5-4c17-a19b-89a3d1fbe3a6"
      },
      "outputs": [
        {
          "output_type": "execute_result",
          "data": {
            "text/plain": [
              "1.148528154139406"
            ]
          },
          "metadata": {},
          "execution_count": 99
        }
      ],
      "source": [
        "time_predict_web(0.55)"
      ]
    },
    {
      "cell_type": "code",
      "execution_count": null,
      "metadata": {
        "id": "zvC03uVRp0E0"
      },
      "outputs": [],
      "source": [
        "def time_predict_web(percentage):\n",
        "    x=np.zeros(len(x_web.columns))\n",
        "    x[0]=percentage\n",
        "    return loregressor.predict([x])[0]"
      ]
    },
    {
      "cell_type": "code",
      "execution_count": null,
      "metadata": {
        "colab": {
          "base_uri": "https://localhost:8080/"
        },
        "id": "7pt7JUF7p0E0",
        "outputId": "2068157c-fd8d-46cb-af3c-4737a7aacdf8"
      },
      "outputs": [
        {
          "output_type": "execute_result",
          "data": {
            "text/plain": [
              "1"
            ]
          },
          "metadata": {},
          "execution_count": 101
        }
      ],
      "source": [
        "time_predict_web(0.55)"
      ]
    },
    {
      "cell_type": "code",
      "execution_count": null,
      "metadata": {
        "id": "3E4AZ5Gpp0E1"
      },
      "outputs": [],
      "source": [
        "def time_predict_web(percentage):\n",
        "    x=np.zeros(len(x_web.columns))\n",
        "    x[0]=percentage\n",
        "    return dtregressor.predict([x])[0]"
      ]
    },
    {
      "cell_type": "code",
      "execution_count": null,
      "metadata": {
        "colab": {
          "base_uri": "https://localhost:8080/"
        },
        "id": "kigYtQ3Mp0E2",
        "outputId": "b2109c29-7018-4b21-f6d6-1c587ca43955"
      },
      "outputs": [
        {
          "output_type": "execute_result",
          "data": {
            "text/plain": [
              "1.0"
            ]
          },
          "metadata": {},
          "execution_count": 103
        }
      ],
      "source": [
        "time_predict_web(0.55)"
      ]
    },
    {
      "cell_type": "code",
      "execution_count": null,
      "metadata": {
        "id": "_V2IBsVLp0E2"
      },
      "outputs": [],
      "source": [
        "def time_predict_web(percentage):\n",
        "    x=np.zeros(len(x_web.columns))\n",
        "    x[0]=percentage\n",
        "    return rfregressor.predict([x])[0]"
      ]
    },
    {
      "cell_type": "code",
      "execution_count": null,
      "metadata": {
        "colab": {
          "base_uri": "https://localhost:8080/"
        },
        "id": "DDpkix5pp0E3",
        "outputId": "44e78fa6-9743-498f-e9a5-d4b774a09c1e"
      },
      "outputs": [
        {
          "output_type": "execute_result",
          "data": {
            "text/plain": [
              "1.0"
            ]
          },
          "metadata": {},
          "execution_count": 105
        }
      ],
      "source": [
        "time_predict_web(0.55)"
      ]
    },
    {
      "cell_type": "code",
      "execution_count": null,
      "metadata": {
        "id": "qtvg-lhxp0E3"
      },
      "outputs": [],
      "source": [
        "cc_marks = pd.read_csv(\"cc_marks.csv\")"
      ]
    },
    {
      "cell_type": "code",
      "execution_count": null,
      "metadata": {
        "colab": {
          "base_uri": "https://localhost:8080/",
          "height": 206
        },
        "id": "3psscLmhp0E4",
        "outputId": "58616f64-aef0-45d7-89e5-10320a771267"
      },
      "outputs": [
        {
          "output_type": "execute_result",
          "data": {
            "text/plain": [
              "  enrollment_number         student_name  internal_marks_cc  \\\n",
              "0        1KG16CS025            DIVYA R D                 24   \n",
              "1        1KG16CS054    M D MAHATAP PASHA                 34   \n",
              "2        1KG16CS059          P YASHWANTH                 23   \n",
              "3        1KG16CS113  V CHANDANA CHOWDARY                 30   \n",
              "4        1KG17CS002     ABHIMANYU BANSAL                 35   \n",
              "\n",
              "   external_marks_cc  total_marks_cc result_cc  \n",
              "0                 18              42      FAIL  \n",
              "1                 23              57      PASS  \n",
              "2                 21              44      PASS  \n",
              "3                 24              54      PASS  \n",
              "4                 22              57      PASS  "
            ],
            "text/html": [
              "\n",
              "  <div id=\"df-356eaa4c-affe-4175-a3dd-c1143c5d13de\">\n",
              "    <div class=\"colab-df-container\">\n",
              "      <div>\n",
              "<style scoped>\n",
              "    .dataframe tbody tr th:only-of-type {\n",
              "        vertical-align: middle;\n",
              "    }\n",
              "\n",
              "    .dataframe tbody tr th {\n",
              "        vertical-align: top;\n",
              "    }\n",
              "\n",
              "    .dataframe thead th {\n",
              "        text-align: right;\n",
              "    }\n",
              "</style>\n",
              "<table border=\"1\" class=\"dataframe\">\n",
              "  <thead>\n",
              "    <tr style=\"text-align: right;\">\n",
              "      <th></th>\n",
              "      <th>enrollment_number</th>\n",
              "      <th>student_name</th>\n",
              "      <th>internal_marks_cc</th>\n",
              "      <th>external_marks_cc</th>\n",
              "      <th>total_marks_cc</th>\n",
              "      <th>result_cc</th>\n",
              "    </tr>\n",
              "  </thead>\n",
              "  <tbody>\n",
              "    <tr>\n",
              "      <th>0</th>\n",
              "      <td>1KG16CS025</td>\n",
              "      <td>DIVYA R D</td>\n",
              "      <td>24</td>\n",
              "      <td>18</td>\n",
              "      <td>42</td>\n",
              "      <td>FAIL</td>\n",
              "    </tr>\n",
              "    <tr>\n",
              "      <th>1</th>\n",
              "      <td>1KG16CS054</td>\n",
              "      <td>M D MAHATAP PASHA</td>\n",
              "      <td>34</td>\n",
              "      <td>23</td>\n",
              "      <td>57</td>\n",
              "      <td>PASS</td>\n",
              "    </tr>\n",
              "    <tr>\n",
              "      <th>2</th>\n",
              "      <td>1KG16CS059</td>\n",
              "      <td>P YASHWANTH</td>\n",
              "      <td>23</td>\n",
              "      <td>21</td>\n",
              "      <td>44</td>\n",
              "      <td>PASS</td>\n",
              "    </tr>\n",
              "    <tr>\n",
              "      <th>3</th>\n",
              "      <td>1KG16CS113</td>\n",
              "      <td>V CHANDANA CHOWDARY</td>\n",
              "      <td>30</td>\n",
              "      <td>24</td>\n",
              "      <td>54</td>\n",
              "      <td>PASS</td>\n",
              "    </tr>\n",
              "    <tr>\n",
              "      <th>4</th>\n",
              "      <td>1KG17CS002</td>\n",
              "      <td>ABHIMANYU BANSAL</td>\n",
              "      <td>35</td>\n",
              "      <td>22</td>\n",
              "      <td>57</td>\n",
              "      <td>PASS</td>\n",
              "    </tr>\n",
              "  </tbody>\n",
              "</table>\n",
              "</div>\n",
              "      <button class=\"colab-df-convert\" onclick=\"convertToInteractive('df-356eaa4c-affe-4175-a3dd-c1143c5d13de')\"\n",
              "              title=\"Convert this dataframe to an interactive table.\"\n",
              "              style=\"display:none;\">\n",
              "        \n",
              "  <svg xmlns=\"http://www.w3.org/2000/svg\" height=\"24px\"viewBox=\"0 0 24 24\"\n",
              "       width=\"24px\">\n",
              "    <path d=\"M0 0h24v24H0V0z\" fill=\"none\"/>\n",
              "    <path d=\"M18.56 5.44l.94 2.06.94-2.06 2.06-.94-2.06-.94-.94-2.06-.94 2.06-2.06.94zm-11 1L8.5 8.5l.94-2.06 2.06-.94-2.06-.94L8.5 2.5l-.94 2.06-2.06.94zm10 10l.94 2.06.94-2.06 2.06-.94-2.06-.94-.94-2.06-.94 2.06-2.06.94z\"/><path d=\"M17.41 7.96l-1.37-1.37c-.4-.4-.92-.59-1.43-.59-.52 0-1.04.2-1.43.59L10.3 9.45l-7.72 7.72c-.78.78-.78 2.05 0 2.83L4 21.41c.39.39.9.59 1.41.59.51 0 1.02-.2 1.41-.59l7.78-7.78 2.81-2.81c.8-.78.8-2.07 0-2.86zM5.41 20L4 18.59l7.72-7.72 1.47 1.35L5.41 20z\"/>\n",
              "  </svg>\n",
              "      </button>\n",
              "      \n",
              "  <style>\n",
              "    .colab-df-container {\n",
              "      display:flex;\n",
              "      flex-wrap:wrap;\n",
              "      gap: 12px;\n",
              "    }\n",
              "\n",
              "    .colab-df-convert {\n",
              "      background-color: #E8F0FE;\n",
              "      border: none;\n",
              "      border-radius: 50%;\n",
              "      cursor: pointer;\n",
              "      display: none;\n",
              "      fill: #1967D2;\n",
              "      height: 32px;\n",
              "      padding: 0 0 0 0;\n",
              "      width: 32px;\n",
              "    }\n",
              "\n",
              "    .colab-df-convert:hover {\n",
              "      background-color: #E2EBFA;\n",
              "      box-shadow: 0px 1px 2px rgba(60, 64, 67, 0.3), 0px 1px 3px 1px rgba(60, 64, 67, 0.15);\n",
              "      fill: #174EA6;\n",
              "    }\n",
              "\n",
              "    [theme=dark] .colab-df-convert {\n",
              "      background-color: #3B4455;\n",
              "      fill: #D2E3FC;\n",
              "    }\n",
              "\n",
              "    [theme=dark] .colab-df-convert:hover {\n",
              "      background-color: #434B5C;\n",
              "      box-shadow: 0px 1px 3px 1px rgba(0, 0, 0, 0.15);\n",
              "      filter: drop-shadow(0px 1px 2px rgba(0, 0, 0, 0.3));\n",
              "      fill: #FFFFFF;\n",
              "    }\n",
              "  </style>\n",
              "\n",
              "      <script>\n",
              "        const buttonEl =\n",
              "          document.querySelector('#df-356eaa4c-affe-4175-a3dd-c1143c5d13de button.colab-df-convert');\n",
              "        buttonEl.style.display =\n",
              "          google.colab.kernel.accessAllowed ? 'block' : 'none';\n",
              "\n",
              "        async function convertToInteractive(key) {\n",
              "          const element = document.querySelector('#df-356eaa4c-affe-4175-a3dd-c1143c5d13de');\n",
              "          const dataTable =\n",
              "            await google.colab.kernel.invokeFunction('convertToInteractive',\n",
              "                                                     [key], {});\n",
              "          if (!dataTable) return;\n",
              "\n",
              "          const docLinkHtml = 'Like what you see? Visit the ' +\n",
              "            '<a target=\"_blank\" href=https://colab.research.google.com/notebooks/data_table.ipynb>data table notebook</a>'\n",
              "            + ' to learn more about interactive tables.';\n",
              "          element.innerHTML = '';\n",
              "          dataTable['output_type'] = 'display_data';\n",
              "          await google.colab.output.renderOutput(dataTable, element);\n",
              "          const docLink = document.createElement('div');\n",
              "          docLink.innerHTML = docLinkHtml;\n",
              "          element.appendChild(docLink);\n",
              "        }\n",
              "      </script>\n",
              "    </div>\n",
              "  </div>\n",
              "  "
            ]
          },
          "metadata": {},
          "execution_count": 107
        }
      ],
      "source": [
        "cc_marks.head()"
      ]
    },
    {
      "cell_type": "code",
      "execution_count": null,
      "metadata": {
        "colab": {
          "base_uri": "https://localhost:8080/",
          "height": 206
        },
        "id": "jAop7q7Ap0E4",
        "outputId": "45582c03-a42e-4010-c837-3c6628254c11"
      },
      "outputs": [
        {
          "output_type": "execute_result",
          "data": {
            "text/plain": [
              "   enrollment_number            student_name  internal_marks_cc  \\\n",
              "90        1KG17CS106                 VIKAS B                 36   \n",
              "91        1KG17CS107          VINITH RAJ B U                 34   \n",
              "92        1KG17CS108                 VINOD N                 30   \n",
              "93        1KG17CS109  YASH KUMAR SINGH PATWA                 37   \n",
              "94        1KG17CS110             YASHASH T V                 36   \n",
              "\n",
              "    external_marks_cc  total_marks_cc result_cc  \n",
              "90                 26              62      PASS  \n",
              "91                 29              63      PASS  \n",
              "92                 21              51      PASS  \n",
              "93                 24              61      PASS  \n",
              "94                 23              59      PASS  "
            ],
            "text/html": [
              "\n",
              "  <div id=\"df-904cccb5-9e89-4964-b5b7-cf2a1a995d4b\">\n",
              "    <div class=\"colab-df-container\">\n",
              "      <div>\n",
              "<style scoped>\n",
              "    .dataframe tbody tr th:only-of-type {\n",
              "        vertical-align: middle;\n",
              "    }\n",
              "\n",
              "    .dataframe tbody tr th {\n",
              "        vertical-align: top;\n",
              "    }\n",
              "\n",
              "    .dataframe thead th {\n",
              "        text-align: right;\n",
              "    }\n",
              "</style>\n",
              "<table border=\"1\" class=\"dataframe\">\n",
              "  <thead>\n",
              "    <tr style=\"text-align: right;\">\n",
              "      <th></th>\n",
              "      <th>enrollment_number</th>\n",
              "      <th>student_name</th>\n",
              "      <th>internal_marks_cc</th>\n",
              "      <th>external_marks_cc</th>\n",
              "      <th>total_marks_cc</th>\n",
              "      <th>result_cc</th>\n",
              "    </tr>\n",
              "  </thead>\n",
              "  <tbody>\n",
              "    <tr>\n",
              "      <th>90</th>\n",
              "      <td>1KG17CS106</td>\n",
              "      <td>VIKAS B</td>\n",
              "      <td>36</td>\n",
              "      <td>26</td>\n",
              "      <td>62</td>\n",
              "      <td>PASS</td>\n",
              "    </tr>\n",
              "    <tr>\n",
              "      <th>91</th>\n",
              "      <td>1KG17CS107</td>\n",
              "      <td>VINITH RAJ B U</td>\n",
              "      <td>34</td>\n",
              "      <td>29</td>\n",
              "      <td>63</td>\n",
              "      <td>PASS</td>\n",
              "    </tr>\n",
              "    <tr>\n",
              "      <th>92</th>\n",
              "      <td>1KG17CS108</td>\n",
              "      <td>VINOD N</td>\n",
              "      <td>30</td>\n",
              "      <td>21</td>\n",
              "      <td>51</td>\n",
              "      <td>PASS</td>\n",
              "    </tr>\n",
              "    <tr>\n",
              "      <th>93</th>\n",
              "      <td>1KG17CS109</td>\n",
              "      <td>YASH KUMAR SINGH PATWA</td>\n",
              "      <td>37</td>\n",
              "      <td>24</td>\n",
              "      <td>61</td>\n",
              "      <td>PASS</td>\n",
              "    </tr>\n",
              "    <tr>\n",
              "      <th>94</th>\n",
              "      <td>1KG17CS110</td>\n",
              "      <td>YASHASH T V</td>\n",
              "      <td>36</td>\n",
              "      <td>23</td>\n",
              "      <td>59</td>\n",
              "      <td>PASS</td>\n",
              "    </tr>\n",
              "  </tbody>\n",
              "</table>\n",
              "</div>\n",
              "      <button class=\"colab-df-convert\" onclick=\"convertToInteractive('df-904cccb5-9e89-4964-b5b7-cf2a1a995d4b')\"\n",
              "              title=\"Convert this dataframe to an interactive table.\"\n",
              "              style=\"display:none;\">\n",
              "        \n",
              "  <svg xmlns=\"http://www.w3.org/2000/svg\" height=\"24px\"viewBox=\"0 0 24 24\"\n",
              "       width=\"24px\">\n",
              "    <path d=\"M0 0h24v24H0V0z\" fill=\"none\"/>\n",
              "    <path d=\"M18.56 5.44l.94 2.06.94-2.06 2.06-.94-2.06-.94-.94-2.06-.94 2.06-2.06.94zm-11 1L8.5 8.5l.94-2.06 2.06-.94-2.06-.94L8.5 2.5l-.94 2.06-2.06.94zm10 10l.94 2.06.94-2.06 2.06-.94-2.06-.94-.94-2.06-.94 2.06-2.06.94z\"/><path d=\"M17.41 7.96l-1.37-1.37c-.4-.4-.92-.59-1.43-.59-.52 0-1.04.2-1.43.59L10.3 9.45l-7.72 7.72c-.78.78-.78 2.05 0 2.83L4 21.41c.39.39.9.59 1.41.59.51 0 1.02-.2 1.41-.59l7.78-7.78 2.81-2.81c.8-.78.8-2.07 0-2.86zM5.41 20L4 18.59l7.72-7.72 1.47 1.35L5.41 20z\"/>\n",
              "  </svg>\n",
              "      </button>\n",
              "      \n",
              "  <style>\n",
              "    .colab-df-container {\n",
              "      display:flex;\n",
              "      flex-wrap:wrap;\n",
              "      gap: 12px;\n",
              "    }\n",
              "\n",
              "    .colab-df-convert {\n",
              "      background-color: #E8F0FE;\n",
              "      border: none;\n",
              "      border-radius: 50%;\n",
              "      cursor: pointer;\n",
              "      display: none;\n",
              "      fill: #1967D2;\n",
              "      height: 32px;\n",
              "      padding: 0 0 0 0;\n",
              "      width: 32px;\n",
              "    }\n",
              "\n",
              "    .colab-df-convert:hover {\n",
              "      background-color: #E2EBFA;\n",
              "      box-shadow: 0px 1px 2px rgba(60, 64, 67, 0.3), 0px 1px 3px 1px rgba(60, 64, 67, 0.15);\n",
              "      fill: #174EA6;\n",
              "    }\n",
              "\n",
              "    [theme=dark] .colab-df-convert {\n",
              "      background-color: #3B4455;\n",
              "      fill: #D2E3FC;\n",
              "    }\n",
              "\n",
              "    [theme=dark] .colab-df-convert:hover {\n",
              "      background-color: #434B5C;\n",
              "      box-shadow: 0px 1px 3px 1px rgba(0, 0, 0, 0.15);\n",
              "      filter: drop-shadow(0px 1px 2px rgba(0, 0, 0, 0.3));\n",
              "      fill: #FFFFFF;\n",
              "    }\n",
              "  </style>\n",
              "\n",
              "      <script>\n",
              "        const buttonEl =\n",
              "          document.querySelector('#df-904cccb5-9e89-4964-b5b7-cf2a1a995d4b button.colab-df-convert');\n",
              "        buttonEl.style.display =\n",
              "          google.colab.kernel.accessAllowed ? 'block' : 'none';\n",
              "\n",
              "        async function convertToInteractive(key) {\n",
              "          const element = document.querySelector('#df-904cccb5-9e89-4964-b5b7-cf2a1a995d4b');\n",
              "          const dataTable =\n",
              "            await google.colab.kernel.invokeFunction('convertToInteractive',\n",
              "                                                     [key], {});\n",
              "          if (!dataTable) return;\n",
              "\n",
              "          const docLinkHtml = 'Like what you see? Visit the ' +\n",
              "            '<a target=\"_blank\" href=https://colab.research.google.com/notebooks/data_table.ipynb>data table notebook</a>'\n",
              "            + ' to learn more about interactive tables.';\n",
              "          element.innerHTML = '';\n",
              "          dataTable['output_type'] = 'display_data';\n",
              "          await google.colab.output.renderOutput(dataTable, element);\n",
              "          const docLink = document.createElement('div');\n",
              "          docLink.innerHTML = docLinkHtml;\n",
              "          element.appendChild(docLink);\n",
              "        }\n",
              "      </script>\n",
              "    </div>\n",
              "  </div>\n",
              "  "
            ]
          },
          "metadata": {},
          "execution_count": 108
        }
      ],
      "source": [
        "cc_marks.tail()"
      ]
    },
    {
      "cell_type": "code",
      "execution_count": null,
      "metadata": {
        "colab": {
          "base_uri": "https://localhost:8080/"
        },
        "id": "kriWwc_rp0E5",
        "outputId": "af994deb-da57-4483-8c50-48b09d1bd2a0"
      },
      "outputs": [
        {
          "output_type": "execute_result",
          "data": {
            "text/plain": [
              "(95, 6)"
            ]
          },
          "metadata": {},
          "execution_count": 109
        }
      ],
      "source": [
        "cc_marks.shape"
      ]
    },
    {
      "cell_type": "code",
      "execution_count": null,
      "metadata": {
        "colab": {
          "base_uri": "https://localhost:8080/"
        },
        "id": "xR2vvMpOp0E5",
        "outputId": "79054285-c074-4989-865f-aa408e80cb83"
      },
      "outputs": [
        {
          "output_type": "execute_result",
          "data": {
            "text/plain": [
              "Index(['enrollment_number', 'student_name', 'internal_marks_cc',\n",
              "       'external_marks_cc', 'total_marks_cc', 'result_cc'],\n",
              "      dtype='object')"
            ]
          },
          "metadata": {},
          "execution_count": 110
        }
      ],
      "source": [
        "cc_marks.columns"
      ]
    },
    {
      "cell_type": "code",
      "execution_count": null,
      "metadata": {
        "colab": {
          "base_uri": "https://localhost:8080/"
        },
        "id": "xS_vkPJTp0E5",
        "outputId": "9cf42989-c6f4-49f1-83d9-80b8fac760a8"
      },
      "outputs": [
        {
          "output_type": "stream",
          "name": "stdout",
          "text": [
            "<class 'pandas.core.frame.DataFrame'>\n",
            "RangeIndex: 95 entries, 0 to 94\n",
            "Data columns (total 6 columns):\n",
            " #   Column             Non-Null Count  Dtype \n",
            "---  ------             --------------  ----- \n",
            " 0   enrollment_number  95 non-null     object\n",
            " 1   student_name       95 non-null     object\n",
            " 2   internal_marks_cc  95 non-null     int64 \n",
            " 3   external_marks_cc  95 non-null     int64 \n",
            " 4   total_marks_cc     95 non-null     int64 \n",
            " 5   result_cc          95 non-null     object\n",
            "dtypes: int64(3), object(3)\n",
            "memory usage: 4.6+ KB\n"
          ]
        }
      ],
      "source": [
        "cc_marks.info()"
      ]
    },
    {
      "cell_type": "code",
      "execution_count": null,
      "metadata": {
        "colab": {
          "base_uri": "https://localhost:8080/",
          "height": 301
        },
        "id": "0ojs4UI1p0E6",
        "outputId": "86a1d82f-79cc-4d75-cb58-f3b32996941e"
      },
      "outputs": [
        {
          "output_type": "execute_result",
          "data": {
            "text/plain": [
              "       internal_marks_cc  external_marks_cc  total_marks_cc\n",
              "count          95.000000          95.000000       95.000000\n",
              "mean           35.536842          27.252632       62.378947\n",
              "std             3.484954           6.035301        9.045016\n",
              "min            23.000000          17.000000       27.000000\n",
              "25%            34.000000          23.000000       57.000000\n",
              "50%            37.000000          26.000000       61.000000\n",
              "75%            38.000000          31.000000       68.000000\n",
              "max            40.000000          48.000000       86.000000"
            ],
            "text/html": [
              "\n",
              "  <div id=\"df-96f8974a-4a17-4ee4-a47d-b65ec280018e\">\n",
              "    <div class=\"colab-df-container\">\n",
              "      <div>\n",
              "<style scoped>\n",
              "    .dataframe tbody tr th:only-of-type {\n",
              "        vertical-align: middle;\n",
              "    }\n",
              "\n",
              "    .dataframe tbody tr th {\n",
              "        vertical-align: top;\n",
              "    }\n",
              "\n",
              "    .dataframe thead th {\n",
              "        text-align: right;\n",
              "    }\n",
              "</style>\n",
              "<table border=\"1\" class=\"dataframe\">\n",
              "  <thead>\n",
              "    <tr style=\"text-align: right;\">\n",
              "      <th></th>\n",
              "      <th>internal_marks_cc</th>\n",
              "      <th>external_marks_cc</th>\n",
              "      <th>total_marks_cc</th>\n",
              "    </tr>\n",
              "  </thead>\n",
              "  <tbody>\n",
              "    <tr>\n",
              "      <th>count</th>\n",
              "      <td>95.000000</td>\n",
              "      <td>95.000000</td>\n",
              "      <td>95.000000</td>\n",
              "    </tr>\n",
              "    <tr>\n",
              "      <th>mean</th>\n",
              "      <td>35.536842</td>\n",
              "      <td>27.252632</td>\n",
              "      <td>62.378947</td>\n",
              "    </tr>\n",
              "    <tr>\n",
              "      <th>std</th>\n",
              "      <td>3.484954</td>\n",
              "      <td>6.035301</td>\n",
              "      <td>9.045016</td>\n",
              "    </tr>\n",
              "    <tr>\n",
              "      <th>min</th>\n",
              "      <td>23.000000</td>\n",
              "      <td>17.000000</td>\n",
              "      <td>27.000000</td>\n",
              "    </tr>\n",
              "    <tr>\n",
              "      <th>25%</th>\n",
              "      <td>34.000000</td>\n",
              "      <td>23.000000</td>\n",
              "      <td>57.000000</td>\n",
              "    </tr>\n",
              "    <tr>\n",
              "      <th>50%</th>\n",
              "      <td>37.000000</td>\n",
              "      <td>26.000000</td>\n",
              "      <td>61.000000</td>\n",
              "    </tr>\n",
              "    <tr>\n",
              "      <th>75%</th>\n",
              "      <td>38.000000</td>\n",
              "      <td>31.000000</td>\n",
              "      <td>68.000000</td>\n",
              "    </tr>\n",
              "    <tr>\n",
              "      <th>max</th>\n",
              "      <td>40.000000</td>\n",
              "      <td>48.000000</td>\n",
              "      <td>86.000000</td>\n",
              "    </tr>\n",
              "  </tbody>\n",
              "</table>\n",
              "</div>\n",
              "      <button class=\"colab-df-convert\" onclick=\"convertToInteractive('df-96f8974a-4a17-4ee4-a47d-b65ec280018e')\"\n",
              "              title=\"Convert this dataframe to an interactive table.\"\n",
              "              style=\"display:none;\">\n",
              "        \n",
              "  <svg xmlns=\"http://www.w3.org/2000/svg\" height=\"24px\"viewBox=\"0 0 24 24\"\n",
              "       width=\"24px\">\n",
              "    <path d=\"M0 0h24v24H0V0z\" fill=\"none\"/>\n",
              "    <path d=\"M18.56 5.44l.94 2.06.94-2.06 2.06-.94-2.06-.94-.94-2.06-.94 2.06-2.06.94zm-11 1L8.5 8.5l.94-2.06 2.06-.94-2.06-.94L8.5 2.5l-.94 2.06-2.06.94zm10 10l.94 2.06.94-2.06 2.06-.94-2.06-.94-.94-2.06-.94 2.06-2.06.94z\"/><path d=\"M17.41 7.96l-1.37-1.37c-.4-.4-.92-.59-1.43-.59-.52 0-1.04.2-1.43.59L10.3 9.45l-7.72 7.72c-.78.78-.78 2.05 0 2.83L4 21.41c.39.39.9.59 1.41.59.51 0 1.02-.2 1.41-.59l7.78-7.78 2.81-2.81c.8-.78.8-2.07 0-2.86zM5.41 20L4 18.59l7.72-7.72 1.47 1.35L5.41 20z\"/>\n",
              "  </svg>\n",
              "      </button>\n",
              "      \n",
              "  <style>\n",
              "    .colab-df-container {\n",
              "      display:flex;\n",
              "      flex-wrap:wrap;\n",
              "      gap: 12px;\n",
              "    }\n",
              "\n",
              "    .colab-df-convert {\n",
              "      background-color: #E8F0FE;\n",
              "      border: none;\n",
              "      border-radius: 50%;\n",
              "      cursor: pointer;\n",
              "      display: none;\n",
              "      fill: #1967D2;\n",
              "      height: 32px;\n",
              "      padding: 0 0 0 0;\n",
              "      width: 32px;\n",
              "    }\n",
              "\n",
              "    .colab-df-convert:hover {\n",
              "      background-color: #E2EBFA;\n",
              "      box-shadow: 0px 1px 2px rgba(60, 64, 67, 0.3), 0px 1px 3px 1px rgba(60, 64, 67, 0.15);\n",
              "      fill: #174EA6;\n",
              "    }\n",
              "\n",
              "    [theme=dark] .colab-df-convert {\n",
              "      background-color: #3B4455;\n",
              "      fill: #D2E3FC;\n",
              "    }\n",
              "\n",
              "    [theme=dark] .colab-df-convert:hover {\n",
              "      background-color: #434B5C;\n",
              "      box-shadow: 0px 1px 3px 1px rgba(0, 0, 0, 0.15);\n",
              "      filter: drop-shadow(0px 1px 2px rgba(0, 0, 0, 0.3));\n",
              "      fill: #FFFFFF;\n",
              "    }\n",
              "  </style>\n",
              "\n",
              "      <script>\n",
              "        const buttonEl =\n",
              "          document.querySelector('#df-96f8974a-4a17-4ee4-a47d-b65ec280018e button.colab-df-convert');\n",
              "        buttonEl.style.display =\n",
              "          google.colab.kernel.accessAllowed ? 'block' : 'none';\n",
              "\n",
              "        async function convertToInteractive(key) {\n",
              "          const element = document.querySelector('#df-96f8974a-4a17-4ee4-a47d-b65ec280018e');\n",
              "          const dataTable =\n",
              "            await google.colab.kernel.invokeFunction('convertToInteractive',\n",
              "                                                     [key], {});\n",
              "          if (!dataTable) return;\n",
              "\n",
              "          const docLinkHtml = 'Like what you see? Visit the ' +\n",
              "            '<a target=\"_blank\" href=https://colab.research.google.com/notebooks/data_table.ipynb>data table notebook</a>'\n",
              "            + ' to learn more about interactive tables.';\n",
              "          element.innerHTML = '';\n",
              "          dataTable['output_type'] = 'display_data';\n",
              "          await google.colab.output.renderOutput(dataTable, element);\n",
              "          const docLink = document.createElement('div');\n",
              "          docLink.innerHTML = docLinkHtml;\n",
              "          element.appendChild(docLink);\n",
              "        }\n",
              "      </script>\n",
              "    </div>\n",
              "  </div>\n",
              "  "
            ]
          },
          "metadata": {},
          "execution_count": 112
        }
      ],
      "source": [
        "cc_marks.describe()"
      ]
    },
    {
      "cell_type": "code",
      "execution_count": null,
      "metadata": {
        "colab": {
          "base_uri": "https://localhost:8080/"
        },
        "id": "gLPn9TX4p0E6",
        "outputId": "658d5725-c9eb-4e0a-8edd-95c13babdff6"
      },
      "outputs": [
        {
          "output_type": "execute_result",
          "data": {
            "text/plain": [
              "enrollment_number    0\n",
              "student_name         0\n",
              "internal_marks_cc    0\n",
              "external_marks_cc    0\n",
              "total_marks_cc       0\n",
              "result_cc            0\n",
              "dtype: int64"
            ]
          },
          "metadata": {},
          "execution_count": 113
        }
      ],
      "source": [
        "cc_marks.isnull().sum()"
      ]
    },
    {
      "cell_type": "code",
      "execution_count": null,
      "metadata": {
        "colab": {
          "base_uri": "https://localhost:8080/"
        },
        "id": "BfYQzvkjp0E7",
        "outputId": "e6f8fc82-f2b4-45de-9d35-3fff198b8f1d"
      },
      "outputs": [
        {
          "output_type": "execute_result",
          "data": {
            "text/plain": [
              "array(['FAIL', 'PASS'], dtype=object)"
            ]
          },
          "metadata": {},
          "execution_count": 114
        }
      ],
      "source": [
        "cc_marks.result_cc.unique()"
      ]
    },
    {
      "cell_type": "code",
      "execution_count": null,
      "metadata": {
        "colab": {
          "base_uri": "https://localhost:8080/"
        },
        "id": "akKMj4sRp0E7",
        "outputId": "cadf4724-8701-40df-c894-c0a73e68dfb1"
      },
      "outputs": [
        {
          "output_type": "execute_result",
          "data": {
            "text/plain": [
              "PASS    92\n",
              "FAIL     3\n",
              "Name: result_cc, dtype: int64"
            ]
          },
          "metadata": {},
          "execution_count": 115
        }
      ],
      "source": [
        "cc_marks.result_cc.value_counts()"
      ]
    },
    {
      "cell_type": "code",
      "execution_count": null,
      "metadata": {
        "colab": {
          "base_uri": "https://localhost:8080/",
          "height": 404
        },
        "id": "GgR5gaSmp0E8",
        "outputId": "1d2b5a8c-a0f7-448b-f923-7302067e3e8d"
      },
      "outputs": [
        {
          "output_type": "display_data",
          "data": {
            "text/plain": [
              "<Figure size 1080x432 with 1 Axes>"
            ],
            "image/png": "[encoded data removed]"
          },
          "metadata": {
            "needs_background": "light"
          }
        }
      ],
      "source": [
        "plt.figure(figsize=(15,6))\n",
        "sns.countplot('result_cc', data = cc_marks, palette='hls')\n",
        "plt.xticks(rotation = 90)\n",
        "plt.show()"
      ]
    },
    {
      "cell_type": "code",
      "execution_count": null,
      "metadata": {
        "colab": {
          "base_uri": "https://localhost:8080/",
          "height": 381
        },
        "id": "o-cgkncGp0E8",
        "outputId": "12ddbc9a-1396-4594-d68e-cac6996c3a2d"
      },
      "outputs": [
        {
          "output_type": "display_data",
          "data": {
            "text/plain": [
              "<Figure size 1080x432 with 1 Axes>"
            ],
            "image/png": "[encoded data removed]"
          },
          "metadata": {}
        }
      ],
      "source": [
        "plt.figure(figsize=(15,6))\n",
        "colors = sns.color_palette('bright')\n",
        "explode = [0.3, 0.02]\n",
        "plt.pie(cc_marks['result_cc'].value_counts(), colors = colors, labels = ['pass', 'fail'],\n",
        "        explode = explode, autopct = '%0.0f%%', shadow = 'True', startangle = 90)\n",
        "plt.show()"
      ]
    },
    {
      "cell_type": "code",
      "execution_count": null,
      "metadata": {
        "id": "EFS-sgQJp0E9"
      },
      "outputs": [],
      "source": [
        "cc_marks['percentage'] = cc_marks['total_marks_cc'].div(100).round(2)"
      ]
    },
    {
      "cell_type": "code",
      "execution_count": null,
      "metadata": {
        "id": "gxd3lCB0p0E9"
      },
      "outputs": [],
      "source": [
        "conditions = [\n",
        "    (cc_marks['percentage'] > 0.7),\n",
        "    (cc_marks['percentage'] >= 0.5) & (cc_marks['percentage'] < 0.69),\n",
        "    (cc_marks['percentage'] >= 0.35) & (cc_marks['percentage'] < 0.49),\n",
        "    (cc_marks['percentage'] < 0.35)\n",
        "]\n",
        "\n",
        "values = [0, 1, 2, 3]\n",
        "\n",
        "cc_marks['time_per_day'] = np.select(conditions, values)\n"
      ]
    },
    {
      "cell_type": "code",
      "execution_count": null,
      "metadata": {
        "id": "MgN1eatZp0E-"
      },
      "outputs": [],
      "source": [
        "data2 = ['result_cc']\n",
        "for i in data2:\n",
        "    cc_marks[i] = le.fit_transform(cc_marks[i])"
      ]
    },
    {
      "cell_type": "code",
      "execution_count": null,
      "metadata": {
        "id": "Q2EYGlMgp0E_"
      },
      "outputs": [],
      "source": [
        "x_cc= cc_marks.drop(['enrollment_number', 'student_name', 'total_marks_cc',\n",
        "                   'time_per_day', 'result_cc', 'internal_marks_cc',\n",
        "                   'external_marks_cc'], axis = 1)  \n",
        "y_cc= cc_marks['time_per_day']"
      ]
    },
    {
      "cell_type": "code",
      "execution_count": null,
      "metadata": {
        "id": "IdHU7cRDp0E_"
      },
      "outputs": [],
      "source": [
        "x_train_cc = x_cc.iloc[:75]"
      ]
    },
    {
      "cell_type": "code",
      "execution_count": null,
      "metadata": {
        "id": "Mbkj9dpqp0FA"
      },
      "outputs": [],
      "source": [
        "y_train_cc = y_cc.iloc[:75]"
      ]
    },
    {
      "cell_type": "code",
      "execution_count": null,
      "metadata": {
        "id": "GO1duh2Wp0FA"
      },
      "outputs": [],
      "source": [
        "x_test_cc = x_cc.iloc[75:96]"
      ]
    },
    {
      "cell_type": "code",
      "execution_count": null,
      "metadata": {
        "id": "USEaowCCp0FB"
      },
      "outputs": [],
      "source": [
        "y_test_cc = y_cc.iloc[75:96]"
      ]
    },
    {
      "cell_type": "code",
      "execution_count": null,
      "metadata": {
        "colab": {
          "base_uri": "https://localhost:8080/"
        },
        "id": "h7WgOm8ap0FB",
        "outputId": "687d7619-71cd-4bb2-a654-887f26949735"
      },
      "outputs": [
        {
          "output_type": "execute_result",
          "data": {
            "text/plain": [
              "SVR()"
            ]
          },
          "metadata": {},
          "execution_count": 126
        }
      ],
      "source": [
        "svregressor.fit(x_train_cc, y_train_cc)"
      ]
    },
    {
      "cell_type": "code",
      "execution_count": null,
      "metadata": {
        "colab": {
          "base_uri": "https://localhost:8080/"
        },
        "id": "YzX4rmpQp0FC",
        "outputId": "ba22e072-7777-4068-c869-c3b0ec3ce9b7"
      },
      "outputs": [
        {
          "output_type": "stream",
          "name": "stdout",
          "text": [
            "Training Accuracy : 0.8191074860522307\n",
            "Testing Accuracy : 0.5615379933181904\n"
          ]
        }
      ],
      "source": [
        "print(\"Training Accuracy :\", svregressor.score(x_train_cc, y_train_cc))\n",
        "print(\"Testing Accuracy :\", svregressor.score(x_test_cc, y_test_cc))"
      ]
    },
    {
      "cell_type": "code",
      "execution_count": null,
      "metadata": {
        "colab": {
          "base_uri": "https://localhost:8080/"
        },
        "id": "B26rgPAfp0FC",
        "outputId": "0ef3e366-1f68-4544-b4ca-4bcb7fc3aef5"
      },
      "outputs": [
        {
          "output_type": "execute_result",
          "data": {
            "text/plain": [
              "LinearRegression()"
            ]
          },
          "metadata": {},
          "execution_count": 128
        }
      ],
      "source": [
        "liregressor.fit(x_train_cc, y_train_cc)"
      ]
    },
    {
      "cell_type": "code",
      "execution_count": null,
      "metadata": {
        "colab": {
          "base_uri": "https://localhost:8080/"
        },
        "id": "beQ358T7p0FC",
        "outputId": "d44228e6-e7f6-42e3-9cee-0feecc541599"
      },
      "outputs": [
        {
          "output_type": "stream",
          "name": "stdout",
          "text": [
            "Training Accuracy : 0.6472684553059114\n",
            "Testing Accuracy : 0.34903085007601853\n"
          ]
        }
      ],
      "source": [
        "print(\"Training Accuracy :\", liregressor.score(x_train_cc, y_train_cc))\n",
        "print(\"Testing Accuracy :\", liregressor.score(x_test_cc, y_test_cc))"
      ]
    },
    {
      "cell_type": "code",
      "execution_count": null,
      "metadata": {
        "colab": {
          "base_uri": "https://localhost:8080/"
        },
        "id": "DIVtY2wNp0FD",
        "outputId": "81dd04d8-1f65-44d1-e991-4e5c31e19c66"
      },
      "outputs": [
        {
          "output_type": "execute_result",
          "data": {
            "text/plain": [
              "LogisticRegression()"
            ]
          },
          "metadata": {},
          "execution_count": 130
        }
      ],
      "source": [
        "loregressor.fit(x_train_cc, y_train_cc)"
      ]
    },
    {
      "cell_type": "code",
      "execution_count": null,
      "metadata": {
        "colab": {
          "base_uri": "https://localhost:8080/"
        },
        "id": "26NV56tXp0FD",
        "outputId": "13950721-5208-476f-be88-413cffc23b90"
      },
      "outputs": [
        {
          "output_type": "stream",
          "name": "stdout",
          "text": [
            "Training Accuracy : 0.7066666666666667\n",
            "Testing Accuracy : 0.7\n"
          ]
        }
      ],
      "source": [
        "print(\"Training Accuracy :\", loregressor.score(x_train_cc, y_train_cc))\n",
        "print(\"Testing Accuracy :\", loregressor.score(x_test_cc, y_test_cc))"
      ]
    },
    {
      "cell_type": "code",
      "execution_count": null,
      "metadata": {
        "colab": {
          "base_uri": "https://localhost:8080/"
        },
        "id": "0rPTK2P4p0FD",
        "outputId": "ae6da0e0-9efa-4afd-b93e-4c6de3f3e7e3"
      },
      "outputs": [
        {
          "output_type": "execute_result",
          "data": {
            "text/plain": [
              "DecisionTreeRegressor()"
            ]
          },
          "metadata": {},
          "execution_count": 132
        }
      ],
      "source": [
        "dtregressor.fit(x_train_cc, y_train_cc)"
      ]
    },
    {
      "cell_type": "code",
      "execution_count": null,
      "metadata": {
        "colab": {
          "base_uri": "https://localhost:8080/"
        },
        "id": "esuxqhUmp0FD",
        "outputId": "328d3941-a979-4b95-fb49-344a264b148a"
      },
      "outputs": [
        {
          "output_type": "stream",
          "name": "stdout",
          "text": [
            "Training Accuracy : 1.0\n",
            "Testing Accuracy : 1.0\n"
          ]
        }
      ],
      "source": [
        "print(\"Training Accuracy :\", dtregressor.score(x_train_cc, y_train_cc))\n",
        "print(\"Testing Accuracy :\", dtregressor.score(x_test_cc, y_test_cc))"
      ]
    },
    {
      "cell_type": "code",
      "execution_count": null,
      "metadata": {
        "colab": {
          "base_uri": "https://localhost:8080/"
        },
        "id": "uufeF6BUp0FE",
        "outputId": "63199662-f5a1-4e14-c4b1-9bf2349142e3"
      },
      "outputs": [
        {
          "output_type": "execute_result",
          "data": {
            "text/plain": [
              "RandomForestRegressor()"
            ]
          },
          "metadata": {},
          "execution_count": 134
        }
      ],
      "source": [
        "rfregressor.fit(x_train_cc, y_train_cc)"
      ]
    },
    {
      "cell_type": "code",
      "execution_count": null,
      "metadata": {
        "colab": {
          "base_uri": "https://localhost:8080/"
        },
        "id": "8bGns84Bp0FE",
        "outputId": "d7873b9e-ab32-44f1-b1c9-3b95bb3efafe"
      },
      "outputs": [
        {
          "output_type": "stream",
          "name": "stdout",
          "text": [
            "Training Accuracy : 0.9613227272727273\n",
            "Testing Accuracy : 0.9485238095238095\n"
          ]
        }
      ],
      "source": [
        "print(\"Training Accuracy :\", rfregressor.score(x_train_cc, y_train_cc))\n",
        "print(\"Testing Accuracy :\", rfregressor.score(x_test_cc, y_test_cc))"
      ]
    },
    {
      "cell_type": "code",
      "execution_count": null,
      "metadata": {
        "colab": {
          "base_uri": "https://localhost:8080/"
        },
        "id": "sy55jXdZp0FE",
        "outputId": "c62b4b24-4af9-4029-9b73-02bcc6fe7cb6"
      },
      "outputs": [
        {
          "output_type": "execute_result",
          "data": {
            "text/plain": [
              "array([-0.04365036,  0.8671829 ,  0.62998338])"
            ]
          },
          "metadata": {},
          "execution_count": 136
        }
      ],
      "source": [
        "cross_val_score(SVR(),x_cc, y_cc, cv = 3)"
      ]
    },
    {
      "cell_type": "code",
      "execution_count": null,
      "metadata": {
        "colab": {
          "base_uri": "https://localhost:8080/"
        },
        "id": "0ag_tW0Ap0FE",
        "outputId": "d0711661-c9bb-4f39-d2b8-a191876115e1"
      },
      "outputs": [
        {
          "output_type": "execute_result",
          "data": {
            "text/plain": [
              "array([0.62957117, 0.61755795, 0.33338199])"
            ]
          },
          "metadata": {},
          "execution_count": 137
        }
      ],
      "source": [
        "cross_val_score(LinearRegression(),x_cc, y_cc, cv = 3)"
      ]
    },
    {
      "cell_type": "code",
      "execution_count": null,
      "metadata": {
        "colab": {
          "base_uri": "https://localhost:8080/"
        },
        "id": "Vzth3tmYp0FF",
        "outputId": "e4c42752-0752-4846-bfd0-9bed21d80845"
      },
      "outputs": [
        {
          "output_type": "execute_result",
          "data": {
            "text/plain": [
              "array([0.6875    , 0.6875    , 0.74193548])"
            ]
          },
          "metadata": {},
          "execution_count": 138
        }
      ],
      "source": [
        "cross_val_score(LogisticRegression(),x_cc, y_cc, cv = 3)"
      ]
    },
    {
      "cell_type": "code",
      "execution_count": null,
      "metadata": {
        "colab": {
          "base_uri": "https://localhost:8080/"
        },
        "id": "g-6437d_p0FF",
        "outputId": "92b819aa-803b-4970-800f-e0696fd89987"
      },
      "outputs": [
        {
          "output_type": "execute_result",
          "data": {
            "text/plain": [
              "array([-0.43157895,  1.        ,  1.        ])"
            ]
          },
          "metadata": {},
          "execution_count": 139
        }
      ],
      "source": [
        "cross_val_score(DecisionTreeRegressor(),x_cc, y_cc, cv = 3)"
      ]
    },
    {
      "cell_type": "code",
      "execution_count": null,
      "metadata": {
        "colab": {
          "base_uri": "https://localhost:8080/"
        },
        "id": "mYqnbN8-p0FF",
        "outputId": "5dc1d9eb-95f6-45f9-f9f3-ea8b000de5b9"
      },
      "outputs": [
        {
          "output_type": "execute_result",
          "data": {
            "text/plain": [
              "array([-0.08002526,  0.99441333,  0.9670625 ])"
            ]
          },
          "metadata": {},
          "execution_count": 140
        }
      ],
      "source": [
        "cross_val_score(RandomForestRegressor(),x_cc, y_cc, cv = 3)"
      ]
    },
    {
      "cell_type": "code",
      "execution_count": null,
      "metadata": {
        "id": "8Z9VIXKzp0FF"
      },
      "outputs": [],
      "source": [
        "def time_predict_cc(percentage):\n",
        "    x=np.zeros(len(x_cc.columns))\n",
        "    x[0]=percentage\n",
        "    return svregressor.predict([x])[0]"
      ]
    },
    {
      "cell_type": "code",
      "execution_count": null,
      "metadata": {
        "colab": {
          "base_uri": "https://localhost:8080/"
        },
        "id": "OO4bK8EQp0FG",
        "outputId": "5f570018-8f30-4e9e-bd7c-f5079f1defda"
      },
      "outputs": [
        {
          "output_type": "execute_result",
          "data": {
            "text/plain": [
              "0.9000715547988563"
            ]
          },
          "metadata": {},
          "execution_count": 142
        }
      ],
      "source": [
        "time_predict_cc(0.55)"
      ]
    },
    {
      "cell_type": "code",
      "execution_count": null,
      "metadata": {
        "id": "lIV4ai4Vp0FG"
      },
      "outputs": [],
      "source": [
        "def time_predict_cc(percentage):\n",
        "    x=np.zeros(len(x_cc.columns))\n",
        "    x[0]=percentage\n",
        "    return liregressor.predict([x])[0]"
      ]
    },
    {
      "cell_type": "code",
      "execution_count": null,
      "metadata": {
        "colab": {
          "base_uri": "https://localhost:8080/"
        },
        "id": "x4WBlTwlp0FG",
        "outputId": "64cef7db-ea35-4610-9f18-063b1be091e8"
      },
      "outputs": [
        {
          "output_type": "execute_result",
          "data": {
            "text/plain": [
              "1.148979775589218"
            ]
          },
          "metadata": {},
          "execution_count": 144
        }
      ],
      "source": [
        "time_predict_cc(0.55)"
      ]
    },
    {
      "cell_type": "code",
      "execution_count": null,
      "metadata": {
        "id": "KLn8-Sk4p0FG"
      },
      "outputs": [],
      "source": [
        "def time_predict_cc(percentage):\n",
        "    x=np.zeros(len(x_cc.columns))\n",
        "    x[0]=percentage\n",
        "    return loregressor.predict([x])[0]"
      ]
    },
    {
      "cell_type": "code",
      "execution_count": null,
      "metadata": {
        "colab": {
          "base_uri": "https://localhost:8080/"
        },
        "id": "X49Eqaxfp0FH",
        "outputId": "223a6c30-36d6-4b38-e4d4-6175450ba034"
      },
      "outputs": [
        {
          "output_type": "execute_result",
          "data": {
            "text/plain": [
              "1"
            ]
          },
          "metadata": {},
          "execution_count": 146
        }
      ],
      "source": [
        "time_predict_cc(0.55)"
      ]
    },
    {
      "cell_type": "code",
      "execution_count": null,
      "metadata": {
        "id": "MSuQWH09p0FH"
      },
      "outputs": [],
      "source": [
        "def time_predict_cc(percentage):\n",
        "    x=np.zeros(len(x_cc.columns))\n",
        "    x[0]=percentage\n",
        "    return dtregressor.predict([x])[0]"
      ]
    },
    {
      "cell_type": "code",
      "execution_count": null,
      "metadata": {
        "colab": {
          "base_uri": "https://localhost:8080/"
        },
        "id": "l6sgWDYVp0FH",
        "outputId": "10eb7d41-5b7f-4ffc-84d4-d164fe10a46d"
      },
      "outputs": [
        {
          "output_type": "execute_result",
          "data": {
            "text/plain": [
              "1.0"
            ]
          },
          "metadata": {},
          "execution_count": 148
        }
      ],
      "source": [
        "time_predict_cc(0.55)"
      ]
    },
    {
      "cell_type": "code",
      "execution_count": null,
      "metadata": {
        "id": "SdXHfVHwp0FH"
      },
      "outputs": [],
      "source": [
        "def time_predict_cc(percentage):\n",
        "    x=np.zeros(len(x_cc.columns))\n",
        "    x[0]=percentage\n",
        "    return rfregressor.predict([x])[0]"
      ]
    },
    {
      "cell_type": "code",
      "execution_count": null,
      "metadata": {
        "colab": {
          "base_uri": "https://localhost:8080/"
        },
        "id": "OmKp98zzp0FI",
        "outputId": "0369e27d-d51c-4f3d-b115-89e8df2a0822"
      },
      "outputs": [
        {
          "output_type": "execute_result",
          "data": {
            "text/plain": [
              "2.44"
            ]
          },
          "metadata": {},
          "execution_count": 152
        }
      ],
      "source": [
        "time_predict_cc(0.14)"
      ]
    },
    {
      "cell_type": "code",
      "execution_count": null,
      "metadata": {
        "id": "XCWM90MIp0FI"
      },
      "outputs": [],
      "source": [
        "aca_marks = pd.read_csv('aca_marks.csv')"
      ]
    },
    {
      "cell_type": "code",
      "execution_count": null,
      "metadata": {
        "colab": {
          "base_uri": "https://localhost:8080/",
          "height": 206
        },
        "id": "PG_nhF9mp0FI",
        "outputId": "ae3b1205-b953-4bf8-cb1c-5c6e32f56933"
      },
      "outputs": [
        {
          "output_type": "execute_result",
          "data": {
            "text/plain": [
              "  enrollment_number         student_name  internal_marks_aca  \\\n",
              "0        1KG16CS025            DIVYA R D                  24   \n",
              "1        1KG16CS054    M D MAHATAP PASHA                  32   \n",
              "2        1KG16CS059          P YASHWANTH                  25   \n",
              "3        1KG16CS113  V CHANDANA CHOWDARY                  28   \n",
              "4        1KG17CS002     ABHIMANYU BANSAL                  37   \n",
              "\n",
              "   external_marks_aca  total_marks_aca result_aca  \n",
              "0                  21               45       PASS  \n",
              "1                  30               62       PASS  \n",
              "2                  26               51       PASS  \n",
              "3                  23               51       PASS  \n",
              "4                  29               66       PASS  "
            ],
            "text/html": [
              "\n",
              "  <div id=\"df-d732dd95-7e6b-42f8-b35c-e4821b286a79\">\n",
              "    <div class=\"colab-df-container\">\n",
              "      <div>\n",
              "<style scoped>\n",
              "    .dataframe tbody tr th:only-of-type {\n",
              "        vertical-align: middle;\n",
              "    }\n",
              "\n",
              "    .dataframe tbody tr th {\n",
              "        vertical-align: top;\n",
              "    }\n",
              "\n",
              "    .dataframe thead th {\n",
              "        text-align: right;\n",
              "    }\n",
              "</style>\n",
              "<table border=\"1\" class=\"dataframe\">\n",
              "  <thead>\n",
              "    <tr style=\"text-align: right;\">\n",
              "      <th></th>\n",
              "      <th>enrollment_number</th>\n",
              "      <th>student_name</th>\n",
              "      <th>internal_marks_aca</th>\n",
              "      <th>external_marks_aca</th>\n",
              "      <th>total_marks_aca</th>\n",
              "      <th>result_aca</th>\n",
              "    </tr>\n",
              "  </thead>\n",
              "  <tbody>\n",
              "    <tr>\n",
              "      <th>0</th>\n",
              "      <td>1KG16CS025</td>\n",
              "      <td>DIVYA R D</td>\n",
              "      <td>24</td>\n",
              "      <td>21</td>\n",
              "      <td>45</td>\n",
              "      <td>PASS</td>\n",
              "    </tr>\n",
              "    <tr>\n",
              "      <th>1</th>\n",
              "      <td>1KG16CS054</td>\n",
              "      <td>M D MAHATAP PASHA</td>\n",
              "      <td>32</td>\n",
              "      <td>30</td>\n",
              "      <td>62</td>\n",
              "      <td>PASS</td>\n",
              "    </tr>\n",
              "    <tr>\n",
              "      <th>2</th>\n",
              "      <td>1KG16CS059</td>\n",
              "      <td>P YASHWANTH</td>\n",
              "      <td>25</td>\n",
              "      <td>26</td>\n",
              "      <td>51</td>\n",
              "      <td>PASS</td>\n",
              "    </tr>\n",
              "    <tr>\n",
              "      <th>3</th>\n",
              "      <td>1KG16CS113</td>\n",
              "      <td>V CHANDANA CHOWDARY</td>\n",
              "      <td>28</td>\n",
              "      <td>23</td>\n",
              "      <td>51</td>\n",
              "      <td>PASS</td>\n",
              "    </tr>\n",
              "    <tr>\n",
              "      <th>4</th>\n",
              "      <td>1KG17CS002</td>\n",
              "      <td>ABHIMANYU BANSAL</td>\n",
              "      <td>37</td>\n",
              "      <td>29</td>\n",
              "      <td>66</td>\n",
              "      <td>PASS</td>\n",
              "    </tr>\n",
              "  </tbody>\n",
              "</table>\n",
              "</div>\n",
              "      <button class=\"colab-df-convert\" onclick=\"convertToInteractive('df-d732dd95-7e6b-42f8-b35c-e4821b286a79')\"\n",
              "              title=\"Convert this dataframe to an interactive table.\"\n",
              "              style=\"display:none;\">\n",
              "        \n",
              "  <svg xmlns=\"http://www.w3.org/2000/svg\" height=\"24px\"viewBox=\"0 0 24 24\"\n",
              "       width=\"24px\">\n",
              "    <path d=\"M0 0h24v24H0V0z\" fill=\"none\"/>\n",
              "    <path d=\"M18.56 5.44l.94 2.06.94-2.06 2.06-.94-2.06-.94-.94-2.06-.94 2.06-2.06.94zm-11 1L8.5 8.5l.94-2.06 2.06-.94-2.06-.94L8.5 2.5l-.94 2.06-2.06.94zm10 10l.94 2.06.94-2.06 2.06-.94-2.06-.94-.94-2.06-.94 2.06-2.06.94z\"/><path d=\"M17.41 7.96l-1.37-1.37c-.4-.4-.92-.59-1.43-.59-.52 0-1.04.2-1.43.59L10.3 9.45l-7.72 7.72c-.78.78-.78 2.05 0 2.83L4 21.41c.39.39.9.59 1.41.59.51 0 1.02-.2 1.41-.59l7.78-7.78 2.81-2.81c.8-.78.8-2.07 0-2.86zM5.41 20L4 18.59l7.72-7.72 1.47 1.35L5.41 20z\"/>\n",
              "  </svg>\n",
              "      </button>\n",
              "      \n",
              "  <style>\n",
              "    .colab-df-container {\n",
              "      display:flex;\n",
              "      flex-wrap:wrap;\n",
              "      gap: 12px;\n",
              "    }\n",
              "\n",
              "    .colab-df-convert {\n",
              "      background-color: #E8F0FE;\n",
              "      border: none;\n",
              "      border-radius: 50%;\n",
              "      cursor: pointer;\n",
              "      display: none;\n",
              "      fill: #1967D2;\n",
              "      height: 32px;\n",
              "      padding: 0 0 0 0;\n",
              "      width: 32px;\n",
              "    }\n",
              "\n",
              "    .colab-df-convert:hover {\n",
              "      background-color: #E2EBFA;\n",
              "      box-shadow: 0px 1px 2px rgba(60, 64, 67, 0.3), 0px 1px 3px 1px rgba(60, 64, 67, 0.15);\n",
              "      fill: #174EA6;\n",
              "    }\n",
              "\n",
              "    [theme=dark] .colab-df-convert {\n",
              "      background-color: #3B4455;\n",
              "      fill: #D2E3FC;\n",
              "    }\n",
              "\n",
              "    [theme=dark] .colab-df-convert:hover {\n",
              "      background-color: #434B5C;\n",
              "      box-shadow: 0px 1px 3px 1px rgba(0, 0, 0, 0.15);\n",
              "      filter: drop-shadow(0px 1px 2px rgba(0, 0, 0, 0.3));\n",
              "      fill: #FFFFFF;\n",
              "    }\n",
              "  </style>\n",
              "\n",
              "      <script>\n",
              "        const buttonEl =\n",
              "          document.querySelector('#df-d732dd95-7e6b-42f8-b35c-e4821b286a79 button.colab-df-convert');\n",
              "        buttonEl.style.display =\n",
              "          google.colab.kernel.accessAllowed ? 'block' : 'none';\n",
              "\n",
              "        async function convertToInteractive(key) {\n",
              "          const element = document.querySelector('#df-d732dd95-7e6b-42f8-b35c-e4821b286a79');\n",
              "          const dataTable =\n",
              "            await google.colab.kernel.invokeFunction('convertToInteractive',\n",
              "                                                     [key], {});\n",
              "          if (!dataTable) return;\n",
              "\n",
              "          const docLinkHtml = 'Like what you see? Visit the ' +\n",
              "            '<a target=\"_blank\" href=https://colab.research.google.com/notebooks/data_table.ipynb>data table notebook</a>'\n",
              "            + ' to learn more about interactive tables.';\n",
              "          element.innerHTML = '';\n",
              "          dataTable['output_type'] = 'display_data';\n",
              "          await google.colab.output.renderOutput(dataTable, element);\n",
              "          const docLink = document.createElement('div');\n",
              "          docLink.innerHTML = docLinkHtml;\n",
              "          element.appendChild(docLink);\n",
              "        }\n",
              "      </script>\n",
              "    </div>\n",
              "  </div>\n",
              "  "
            ]
          },
          "metadata": {},
          "execution_count": 154
        }
      ],
      "source": [
        "aca_marks.head()"
      ]
    },
    {
      "cell_type": "code",
      "execution_count": null,
      "metadata": {
        "colab": {
          "base_uri": "https://localhost:8080/",
          "height": 206
        },
        "id": "3PJ4_1pQp0FI",
        "outputId": "9ae0299f-efd3-4676-c44a-cd07d41c37fd"
      },
      "outputs": [
        {
          "output_type": "execute_result",
          "data": {
            "text/plain": [
              "   enrollment_number            student_name  internal_marks_aca  \\\n",
              "90        1KG17CS106                 VIKAS B                  37   \n",
              "91        1KG17CS107          VINITH RAJ B U                  32   \n",
              "92        1KG17CS108                 VINOD N                  32   \n",
              "93        1KG17CS109  YASH KUMAR SINGH PATWA                  37   \n",
              "94        1KG17CS110             YASHASH T V                  38   \n",
              "\n",
              "    external_marks_aca  total_marks_aca result_aca  \n",
              "90                  30               67       PASS  \n",
              "91                  28               60       PASS  \n",
              "92                  21               53       PASS  \n",
              "93                  29               66       PASS  \n",
              "94                  26               64       PASS  "
            ],
            "text/html": [
              "\n",
              "  <div id=\"df-67b1b589-974d-418c-92dc-017ca561255a\">\n",
              "    <div class=\"colab-df-container\">\n",
              "      <div>\n",
              "<style scoped>\n",
              "    .dataframe tbody tr th:only-of-type {\n",
              "        vertical-align: middle;\n",
              "    }\n",
              "\n",
              "    .dataframe tbody tr th {\n",
              "        vertical-align: top;\n",
              "    }\n",
              "\n",
              "    .dataframe thead th {\n",
              "        text-align: right;\n",
              "    }\n",
              "</style>\n",
              "<table border=\"1\" class=\"dataframe\">\n",
              "  <thead>\n",
              "    <tr style=\"text-align: right;\">\n",
              "      <th></th>\n",
              "      <th>enrollment_number</th>\n",
              "      <th>student_name</th>\n",
              "      <th>internal_marks_aca</th>\n",
              "      <th>external_marks_aca</th>\n",
              "      <th>total_marks_aca</th>\n",
              "      <th>result_aca</th>\n",
              "    </tr>\n",
              "  </thead>\n",
              "  <tbody>\n",
              "    <tr>\n",
              "      <th>90</th>\n",
              "      <td>1KG17CS106</td>\n",
              "      <td>VIKAS B</td>\n",
              "      <td>37</td>\n",
              "      <td>30</td>\n",
              "      <td>67</td>\n",
              "      <td>PASS</td>\n",
              "    </tr>\n",
              "    <tr>\n",
              "      <th>91</th>\n",
              "      <td>1KG17CS107</td>\n",
              "      <td>VINITH RAJ B U</td>\n",
              "      <td>32</td>\n",
              "      <td>28</td>\n",
              "      <td>60</td>\n",
              "      <td>PASS</td>\n",
              "    </tr>\n",
              "    <tr>\n",
              "      <th>92</th>\n",
              "      <td>1KG17CS108</td>\n",
              "      <td>VINOD N</td>\n",
              "      <td>32</td>\n",
              "      <td>21</td>\n",
              "      <td>53</td>\n",
              "      <td>PASS</td>\n",
              "    </tr>\n",
              "    <tr>\n",
              "      <th>93</th>\n",
              "      <td>1KG17CS109</td>\n",
              "      <td>YASH KUMAR SINGH PATWA</td>\n",
              "      <td>37</td>\n",
              "      <td>29</td>\n",
              "      <td>66</td>\n",
              "      <td>PASS</td>\n",
              "    </tr>\n",
              "    <tr>\n",
              "      <th>94</th>\n",
              "      <td>1KG17CS110</td>\n",
              "      <td>YASHASH T V</td>\n",
              "      <td>38</td>\n",
              "      <td>26</td>\n",
              "      <td>64</td>\n",
              "      <td>PASS</td>\n",
              "    </tr>\n",
              "  </tbody>\n",
              "</table>\n",
              "</div>\n",
              "      <button class=\"colab-df-convert\" onclick=\"convertToInteractive('df-67b1b589-974d-418c-92dc-017ca561255a')\"\n",
              "              title=\"Convert this dataframe to an interactive table.\"\n",
              "              style=\"display:none;\">\n",
              "        \n",
              "  <svg xmlns=\"http://www.w3.org/2000/svg\" height=\"24px\"viewBox=\"0 0 24 24\"\n",
              "       width=\"24px\">\n",
              "    <path d=\"M0 0h24v24H0V0z\" fill=\"none\"/>\n",
              "    <path d=\"M18.56 5.44l.94 2.06.94-2.06 2.06-.94-2.06-.94-.94-2.06-.94 2.06-2.06.94zm-11 1L8.5 8.5l.94-2.06 2.06-.94-2.06-.94L8.5 2.5l-.94 2.06-2.06.94zm10 10l.94 2.06.94-2.06 2.06-.94-2.06-.94-.94-2.06-.94 2.06-2.06.94z\"/><path d=\"M17.41 7.96l-1.37-1.37c-.4-.4-.92-.59-1.43-.59-.52 0-1.04.2-1.43.59L10.3 9.45l-7.72 7.72c-.78.78-.78 2.05 0 2.83L4 21.41c.39.39.9.59 1.41.59.51 0 1.02-.2 1.41-.59l7.78-7.78 2.81-2.81c.8-.78.8-2.07 0-2.86zM5.41 20L4 18.59l7.72-7.72 1.47 1.35L5.41 20z\"/>\n",
              "  </svg>\n",
              "      </button>\n",
              "      \n",
              "  <style>\n",
              "    .colab-df-container {\n",
              "      display:flex;\n",
              "      flex-wrap:wrap;\n",
              "      gap: 12px;\n",
              "    }\n",
              "\n",
              "    .colab-df-convert {\n",
              "      background-color: #E8F0FE;\n",
              "      border: none;\n",
              "      border-radius: 50%;\n",
              "      cursor: pointer;\n",
              "      display: none;\n",
              "      fill: #1967D2;\n",
              "      height: 32px;\n",
              "      padding: 0 0 0 0;\n",
              "      width: 32px;\n",
              "    }\n",
              "\n",
              "    .colab-df-convert:hover {\n",
              "      background-color: #E2EBFA;\n",
              "      box-shadow: 0px 1px 2px rgba(60, 64, 67, 0.3), 0px 1px 3px 1px rgba(60, 64, 67, 0.15);\n",
              "      fill: #174EA6;\n",
              "    }\n",
              "\n",
              "    [theme=dark] .colab-df-convert {\n",
              "      background-color: #3B4455;\n",
              "      fill: #D2E3FC;\n",
              "    }\n",
              "\n",
              "    [theme=dark] .colab-df-convert:hover {\n",
              "      background-color: #434B5C;\n",
              "      box-shadow: 0px 1px 3px 1px rgba(0, 0, 0, 0.15);\n",
              "      filter: drop-shadow(0px 1px 2px rgba(0, 0, 0, 0.3));\n",
              "      fill: #FFFFFF;\n",
              "    }\n",
              "  </style>\n",
              "\n",
              "      <script>\n",
              "        const buttonEl =\n",
              "          document.querySelector('#df-67b1b589-974d-418c-92dc-017ca561255a button.colab-df-convert');\n",
              "        buttonEl.style.display =\n",
              "          google.colab.kernel.accessAllowed ? 'block' : 'none';\n",
              "\n",
              "        async function convertToInteractive(key) {\n",
              "          const element = document.querySelector('#df-67b1b589-974d-418c-92dc-017ca561255a');\n",
              "          const dataTable =\n",
              "            await google.colab.kernel.invokeFunction('convertToInteractive',\n",
              "                                                     [key], {});\n",
              "          if (!dataTable) return;\n",
              "\n",
              "          const docLinkHtml = 'Like what you see? Visit the ' +\n",
              "            '<a target=\"_blank\" href=https://colab.research.google.com/notebooks/data_table.ipynb>data table notebook</a>'\n",
              "            + ' to learn more about interactive tables.';\n",
              "          element.innerHTML = '';\n",
              "          dataTable['output_type'] = 'display_data';\n",
              "          await google.colab.output.renderOutput(dataTable, element);\n",
              "          const docLink = document.createElement('div');\n",
              "          docLink.innerHTML = docLinkHtml;\n",
              "          element.appendChild(docLink);\n",
              "        }\n",
              "      </script>\n",
              "    </div>\n",
              "  </div>\n",
              "  "
            ]
          },
          "metadata": {},
          "execution_count": 155
        }
      ],
      "source": [
        "aca_marks.tail()"
      ]
    },
    {
      "cell_type": "code",
      "execution_count": null,
      "metadata": {
        "colab": {
          "base_uri": "https://localhost:8080/"
        },
        "id": "aCly7kSvp0FJ",
        "outputId": "237cb0bf-4f16-4de6-d5c8-3c2fbf7cd896"
      },
      "outputs": [
        {
          "output_type": "execute_result",
          "data": {
            "text/plain": [
              "(95, 6)"
            ]
          },
          "metadata": {},
          "execution_count": 156
        }
      ],
      "source": [
        "aca_marks.shape"
      ]
    },
    {
      "cell_type": "code",
      "execution_count": null,
      "metadata": {
        "colab": {
          "base_uri": "https://localhost:8080/"
        },
        "id": "Psr9vrw5p0FJ",
        "outputId": "7806c8c0-4003-478e-819e-ff35ed7f99b6"
      },
      "outputs": [
        {
          "output_type": "execute_result",
          "data": {
            "text/plain": [
              "Index(['enrollment_number', 'student_name', 'internal_marks_aca',\n",
              "       'external_marks_aca', 'total_marks_aca', 'result_aca'],\n",
              "      dtype='object')"
            ]
          },
          "metadata": {},
          "execution_count": 157
        }
      ],
      "source": [
        "aca_marks.columns"
      ]
    },
    {
      "cell_type": "code",
      "execution_count": null,
      "metadata": {
        "colab": {
          "base_uri": "https://localhost:8080/"
        },
        "id": "JFjOEyVwp0FJ",
        "outputId": "584639ec-9b37-44eb-e4ce-bb2e61e9b374"
      },
      "outputs": [
        {
          "output_type": "stream",
          "name": "stdout",
          "text": [
            "<class 'pandas.core.frame.DataFrame'>\n",
            "RangeIndex: 95 entries, 0 to 94\n",
            "Data columns (total 6 columns):\n",
            " #   Column              Non-Null Count  Dtype \n",
            "---  ------              --------------  ----- \n",
            " 0   enrollment_number   95 non-null     object\n",
            " 1   student_name        95 non-null     object\n",
            " 2   internal_marks_aca  95 non-null     int64 \n",
            " 3   external_marks_aca  95 non-null     int64 \n",
            " 4   total_marks_aca     95 non-null     int64 \n",
            " 5   result_aca          95 non-null     object\n",
            "dtypes: int64(3), object(3)\n",
            "memory usage: 4.6+ KB\n"
          ]
        }
      ],
      "source": [
        "aca_marks.info()"
      ]
    },
    {
      "cell_type": "code",
      "execution_count": null,
      "metadata": {
        "colab": {
          "base_uri": "https://localhost:8080/",
          "height": 301
        },
        "id": "4Wuw5meGp0FJ",
        "outputId": "cdcfb3ac-a512-442e-c7a3-1a04a321f669"
      },
      "outputs": [
        {
          "output_type": "execute_result",
          "data": {
            "text/plain": [
              "       internal_marks_aca  external_marks_aca  total_marks_aca\n",
              "count           95.000000           95.000000        95.000000\n",
              "mean            35.936842           28.231579        64.168421\n",
              "std              3.634382            6.691456         8.896153\n",
              "min             24.000000            0.000000        33.000000\n",
              "25%             34.000000           24.000000        61.000000\n",
              "50%             37.000000           29.000000        65.000000\n",
              "75%             38.000000           32.000000        71.000000\n",
              "max             40.000000           45.000000        85.000000"
            ],
            "text/html": [
              "\n",
              "  <div id=\"df-b698d480-e140-43e6-aaff-5cf36b75d861\">\n",
              "    <div class=\"colab-df-container\">\n",
              "      <div>\n",
              "<style scoped>\n",
              "    .dataframe tbody tr th:only-of-type {\n",
              "        vertical-align: middle;\n",
              "    }\n",
              "\n",
              "    .dataframe tbody tr th {\n",
              "        vertical-align: top;\n",
              "    }\n",
              "\n",
              "    .dataframe thead th {\n",
              "        text-align: right;\n",
              "    }\n",
              "</style>\n",
              "<table border=\"1\" class=\"dataframe\">\n",
              "  <thead>\n",
              "    <tr style=\"text-align: right;\">\n",
              "      <th></th>\n",
              "      <th>internal_marks_aca</th>\n",
              "      <th>external_marks_aca</th>\n",
              "      <th>total_marks_aca</th>\n",
              "    </tr>\n",
              "  </thead>\n",
              "  <tbody>\n",
              "    <tr>\n",
              "      <th>count</th>\n",
              "      <td>95.000000</td>\n",
              "      <td>95.000000</td>\n",
              "      <td>95.000000</td>\n",
              "    </tr>\n",
              "    <tr>\n",
              "      <th>mean</th>\n",
              "      <td>35.936842</td>\n",
              "      <td>28.231579</td>\n",
              "      <td>64.168421</td>\n",
              "    </tr>\n",
              "    <tr>\n",
              "      <th>std</th>\n",
              "      <td>3.634382</td>\n",
              "      <td>6.691456</td>\n",
              "      <td>8.896153</td>\n",
              "    </tr>\n",
              "    <tr>\n",
              "      <th>min</th>\n",
              "      <td>24.000000</td>\n",
              "      <td>0.000000</td>\n",
              "      <td>33.000000</td>\n",
              "    </tr>\n",
              "    <tr>\n",
              "      <th>25%</th>\n",
              "      <td>34.000000</td>\n",
              "      <td>24.000000</td>\n",
              "      <td>61.000000</td>\n",
              "    </tr>\n",
              "    <tr>\n",
              "      <th>50%</th>\n",
              "      <td>37.000000</td>\n",
              "      <td>29.000000</td>\n",
              "      <td>65.000000</td>\n",
              "    </tr>\n",
              "    <tr>\n",
              "      <th>75%</th>\n",
              "      <td>38.000000</td>\n",
              "      <td>32.000000</td>\n",
              "      <td>71.000000</td>\n",
              "    </tr>\n",
              "    <tr>\n",
              "      <th>max</th>\n",
              "      <td>40.000000</td>\n",
              "      <td>45.000000</td>\n",
              "      <td>85.000000</td>\n",
              "    </tr>\n",
              "  </tbody>\n",
              "</table>\n",
              "</div>\n",
              "      <button class=\"colab-df-convert\" onclick=\"convertToInteractive('df-b698d480-e140-43e6-aaff-5cf36b75d861')\"\n",
              "              title=\"Convert this dataframe to an interactive table.\"\n",
              "              style=\"display:none;\">\n",
              "        \n",
              "  <svg xmlns=\"http://www.w3.org/2000/svg\" height=\"24px\"viewBox=\"0 0 24 24\"\n",
              "       width=\"24px\">\n",
              "    <path d=\"M0 0h24v24H0V0z\" fill=\"none\"/>\n",
              "    <path d=\"M18.56 5.44l.94 2.06.94-2.06 2.06-.94-2.06-.94-.94-2.06-.94 2.06-2.06.94zm-11 1L8.5 8.5l.94-2.06 2.06-.94-2.06-.94L8.5 2.5l-.94 2.06-2.06.94zm10 10l.94 2.06.94-2.06 2.06-.94-2.06-.94-.94-2.06-.94 2.06-2.06.94z\"/><path d=\"M17.41 7.96l-1.37-1.37c-.4-.4-.92-.59-1.43-.59-.52 0-1.04.2-1.43.59L10.3 9.45l-7.72 7.72c-.78.78-.78 2.05 0 2.83L4 21.41c.39.39.9.59 1.41.59.51 0 1.02-.2 1.41-.59l7.78-7.78 2.81-2.81c.8-.78.8-2.07 0-2.86zM5.41 20L4 18.59l7.72-7.72 1.47 1.35L5.41 20z\"/>\n",
              "  </svg>\n",
              "      </button>\n",
              "      \n",
              "  <style>\n",
              "    .colab-df-container {\n",
              "      display:flex;\n",
              "      flex-wrap:wrap;\n",
              "      gap: 12px;\n",
              "    }\n",
              "\n",
              "    .colab-df-convert {\n",
              "      background-color: #E8F0FE;\n",
              "      border: none;\n",
              "      border-radius: 50%;\n",
              "      cursor: pointer;\n",
              "      display: none;\n",
              "      fill: #1967D2;\n",
              "      height: 32px;\n",
              "      padding: 0 0 0 0;\n",
              "      width: 32px;\n",
              "    }\n",
              "\n",
              "    .colab-df-convert:hover {\n",
              "      background-color: #E2EBFA;\n",
              "      box-shadow: 0px 1px 2px rgba(60, 64, 67, 0.3), 0px 1px 3px 1px rgba(60, 64, 67, 0.15);\n",
              "      fill: #174EA6;\n",
              "    }\n",
              "\n",
              "    [theme=dark] .colab-df-convert {\n",
              "      background-color: #3B4455;\n",
              "      fill: #D2E3FC;\n",
              "    }\n",
              "\n",
              "    [theme=dark] .colab-df-convert:hover {\n",
              "      background-color: #434B5C;\n",
              "      box-shadow: 0px 1px 3px 1px rgba(0, 0, 0, 0.15);\n",
              "      filter: drop-shadow(0px 1px 2px rgba(0, 0, 0, 0.3));\n",
              "      fill: #FFFFFF;\n",
              "    }\n",
              "  </style>\n",
              "\n",
              "      <script>\n",
              "        const buttonEl =\n",
              "          document.querySelector('#df-b698d480-e140-43e6-aaff-5cf36b75d861 button.colab-df-convert');\n",
              "        buttonEl.style.display =\n",
              "          google.colab.kernel.accessAllowed ? 'block' : 'none';\n",
              "\n",
              "        async function convertToInteractive(key) {\n",
              "          const element = document.querySelector('#df-b698d480-e140-43e6-aaff-5cf36b75d861');\n",
              "          const dataTable =\n",
              "            await google.colab.kernel.invokeFunction('convertToInteractive',\n",
              "                                                     [key], {});\n",
              "          if (!dataTable) return;\n",
              "\n",
              "          const docLinkHtml = 'Like what you see? Visit the ' +\n",
              "            '<a target=\"_blank\" href=https://colab.research.google.com/notebooks/data_table.ipynb>data table notebook</a>'\n",
              "            + ' to learn more about interactive tables.';\n",
              "          element.innerHTML = '';\n",
              "          dataTable['output_type'] = 'display_data';\n",
              "          await google.colab.output.renderOutput(dataTable, element);\n",
              "          const docLink = document.createElement('div');\n",
              "          docLink.innerHTML = docLinkHtml;\n",
              "          element.appendChild(docLink);\n",
              "        }\n",
              "      </script>\n",
              "    </div>\n",
              "  </div>\n",
              "  "
            ]
          },
          "metadata": {},
          "execution_count": 159
        }
      ],
      "source": [
        "aca_marks.describe()"
      ]
    },
    {
      "cell_type": "code",
      "execution_count": null,
      "metadata": {
        "colab": {
          "base_uri": "https://localhost:8080/"
        },
        "id": "ftpQJCC1p0FK",
        "outputId": "f76184f3-f627-45d5-bfb6-e681d63a2a55"
      },
      "outputs": [
        {
          "output_type": "execute_result",
          "data": {
            "text/plain": [
              "enrollment_number     0\n",
              "student_name          0\n",
              "internal_marks_aca    0\n",
              "external_marks_aca    0\n",
              "total_marks_aca       0\n",
              "result_aca            0\n",
              "dtype: int64"
            ]
          },
          "metadata": {},
          "execution_count": 160
        }
      ],
      "source": [
        "aca_marks.isnull().sum()"
      ]
    },
    {
      "cell_type": "code",
      "execution_count": null,
      "metadata": {
        "colab": {
          "base_uri": "https://localhost:8080/"
        },
        "id": "ZEGozOxrp0FK",
        "outputId": "7a810a23-99a5-48fb-ebf4-eb847281297d"
      },
      "outputs": [
        {
          "output_type": "execute_result",
          "data": {
            "text/plain": [
              "array(['PASS', 'FAIL'], dtype=object)"
            ]
          },
          "metadata": {},
          "execution_count": 161
        }
      ],
      "source": [
        "aca_marks['result_aca'].unique()"
      ]
    },
    {
      "cell_type": "code",
      "execution_count": null,
      "metadata": {
        "colab": {
          "base_uri": "https://localhost:8080/"
        },
        "id": "a5ZU8j_Vp0FK",
        "outputId": "c83aae41-273d-40bc-ceab-567301b2e769"
      },
      "outputs": [
        {
          "output_type": "execute_result",
          "data": {
            "text/plain": [
              "PASS    91\n",
              "FAIL     4\n",
              "Name: result_aca, dtype: int64"
            ]
          },
          "metadata": {},
          "execution_count": 162
        }
      ],
      "source": [
        "aca_marks['result_aca'].value_counts()"
      ]
    },
    {
      "cell_type": "code",
      "execution_count": null,
      "metadata": {
        "colab": {
          "base_uri": "https://localhost:8080/",
          "height": 404
        },
        "id": "POXm_wfRp0FK",
        "outputId": "00676171-85fd-4f81-b28f-d3c835e1c888"
      },
      "outputs": [
        {
          "output_type": "display_data",
          "data": {
            "text/plain": [
              "<Figure size 1080x432 with 1 Axes>"
            ],
            "image/png": "[encoded data removed]"
          },
          "metadata": {
            "needs_background": "light"
          }
        }
      ],
      "source": [
        "plt.figure(figsize=(15,6))\n",
        "sns.countplot('result_aca', data = aca_marks, palette='hls')\n",
        "plt.xticks(rotation = 90)\n",
        "plt.show()"
      ]
    },
    {
      "cell_type": "code",
      "execution_count": null,
      "metadata": {
        "colab": {
          "base_uri": "https://localhost:8080/",
          "height": 380
        },
        "id": "bK_gX-eKp0FL",
        "outputId": "651562a2-f30f-454d-918c-fbc37b267078"
      },
      "outputs": [
        {
          "output_type": "display_data",
          "data": {
            "text/plain": [
              "<Figure size 1080x432 with 1 Axes>"
            ],
            "image/png": "[encoded data removed]"
          },
          "metadata": {}
        }
      ],
      "source": [
        "plt.figure(figsize=(15,6))\n",
        "colors = sns.color_palette('bright')\n",
        "explode = [0.3, 0.02]\n",
        "plt.pie(aca_marks['result_aca'].value_counts(), colors = colors, labels = ['pass', 'fail'],\n",
        "        explode = explode, autopct = '%0.0f%%', shadow = 'True', startangle = 90)\n",
        "plt.show()"
      ]
    },
    {
      "cell_type": "code",
      "execution_count": null,
      "metadata": {
        "id": "Z-RcjaO2p0FL"
      },
      "outputs": [],
      "source": [
        "aca_marks['percentage'] = aca_marks['total_marks_aca'].div(100).round(2)"
      ]
    },
    {
      "cell_type": "code",
      "execution_count": null,
      "metadata": {
        "id": "Kq9N-Ss6p0FL"
      },
      "outputs": [],
      "source": [
        "conditions = [\n",
        "    (aca_marks['percentage'] > 0.7),\n",
        "    (aca_marks['percentage'] >= 0.5) & (aca_marks['percentage'] < 0.69),\n",
        "    (aca_marks['percentage'] >= 0.35) & (aca_marks['percentage'] < 0.49),\n",
        "    (aca_marks['percentage'] < 0.35)\n",
        "]\n",
        "\n",
        "values = [0, 1, 2, 3]\n",
        "\n",
        "aca_marks['time_per_day'] = np.select(conditions, values)"
      ]
    },
    {
      "cell_type": "code",
      "execution_count": null,
      "metadata": {
        "id": "W1ykIsJrp0FM"
      },
      "outputs": [],
      "source": [
        "data3 = ['result_aca']\n",
        "for i in data3:\n",
        "    aca_marks[i] = le.fit_transform(aca_marks[i])"
      ]
    },
    {
      "cell_type": "code",
      "execution_count": null,
      "metadata": {
        "id": "119l-aKAp0FM"
      },
      "outputs": [],
      "source": [
        "x_aca= aca_marks.drop(['enrollment_number', 'student_name', 'total_marks_aca',\n",
        "                   'time_per_day', 'result_aca', 'internal_marks_aca',\n",
        "                   'external_marks_aca'], axis = 1)  \n",
        "y_aca= aca_marks['time_per_day']"
      ]
    },
    {
      "cell_type": "code",
      "execution_count": null,
      "metadata": {
        "id": "ElH_LFrxp0FM"
      },
      "outputs": [],
      "source": [
        "x_train_aca = x_aca.iloc[:75]"
      ]
    },
    {
      "cell_type": "code",
      "execution_count": null,
      "metadata": {
        "id": "YzlSudd2p0FM"
      },
      "outputs": [],
      "source": [
        "y_train_aca = y_aca.iloc[:75]"
      ]
    },
    {
      "cell_type": "code",
      "execution_count": null,
      "metadata": {
        "id": "6_7AbOuip0FN"
      },
      "outputs": [],
      "source": [
        "x_test_aca = x_aca.iloc[75:96]"
      ]
    },
    {
      "cell_type": "code",
      "execution_count": null,
      "metadata": {
        "id": "MP3elCSap0FN"
      },
      "outputs": [],
      "source": [
        "y_test_aca = y_aca.iloc[75:96]"
      ]
    },
    {
      "cell_type": "code",
      "execution_count": null,
      "metadata": {
        "colab": {
          "base_uri": "https://localhost:8080/"
        },
        "id": "fxkegxMtp0FN",
        "outputId": "cb82c058-af98-4652-e782-79c4bd5b88dc"
      },
      "outputs": [
        {
          "output_type": "execute_result",
          "data": {
            "text/plain": [
              "SVR()"
            ]
          },
          "metadata": {},
          "execution_count": 173
        }
      ],
      "source": [
        "svregressor.fit(x_train_aca, y_train_aca)"
      ]
    },
    {
      "cell_type": "code",
      "execution_count": null,
      "metadata": {
        "colab": {
          "base_uri": "https://localhost:8080/"
        },
        "id": "iBaK3M1Gp0FN",
        "outputId": "6cb6e0be-6682-4125-8458-16a0372b5099"
      },
      "outputs": [
        {
          "output_type": "stream",
          "name": "stdout",
          "text": [
            "Training Accuracy : 0.8906471395359261\n",
            "Testing Accuracy : 0.5516215081384374\n"
          ]
        }
      ],
      "source": [
        "print(\"Training Accuracy :\", svregressor.score(x_train_aca, y_train_aca))\n",
        "print(\"Testing Accuracy :\", svregressor.score(x_test_aca, y_test_aca))"
      ]
    },
    {
      "cell_type": "code",
      "execution_count": null,
      "metadata": {
        "colab": {
          "base_uri": "https://localhost:8080/"
        },
        "id": "K-4JwvwDp0FO",
        "outputId": "98109efe-16ce-42fe-e20f-6a4590c9f7ff"
      },
      "outputs": [
        {
          "output_type": "execute_result",
          "data": {
            "text/plain": [
              "LinearRegression()"
            ]
          },
          "metadata": {},
          "execution_count": 175
        }
      ],
      "source": [
        "liregressor.fit(x_train_aca, y_train_aca)"
      ]
    },
    {
      "cell_type": "code",
      "execution_count": null,
      "metadata": {
        "colab": {
          "base_uri": "https://localhost:8080/"
        },
        "id": "AKfVwtq0p0FO",
        "outputId": "14b71c22-ab24-4c1d-d4c7-d5c79c262ae5"
      },
      "outputs": [
        {
          "output_type": "stream",
          "name": "stdout",
          "text": [
            "Training Accuracy : 0.7294414251997658\n",
            "Testing Accuracy : 0.21241987461919887\n"
          ]
        }
      ],
      "source": [
        "print(\"Training Accuracy :\", liregressor.score(x_train_aca, y_train_aca))\n",
        "print(\"Testing Accuracy :\", liregressor.score(x_test_aca, y_test_aca))"
      ]
    },
    {
      "cell_type": "code",
      "execution_count": null,
      "metadata": {
        "colab": {
          "base_uri": "https://localhost:8080/"
        },
        "id": "77fTIob_p0FP",
        "outputId": "cc4ac3ec-3c86-4c4a-bbba-0d4b8c3c0d78"
      },
      "outputs": [
        {
          "output_type": "execute_result",
          "data": {
            "text/plain": [
              "LogisticRegression()"
            ]
          },
          "metadata": {},
          "execution_count": 177
        }
      ],
      "source": [
        "loregressor.fit(x_train_aca, y_train_aca)"
      ]
    },
    {
      "cell_type": "code",
      "execution_count": null,
      "metadata": {
        "colab": {
          "base_uri": "https://localhost:8080/"
        },
        "id": "22jx-vi0p0FP",
        "outputId": "3d1576c6-7bb3-4517-b8d0-698ff61194f1"
      },
      "outputs": [
        {
          "output_type": "stream",
          "name": "stdout",
          "text": [
            "Training Accuracy : 0.6266666666666667\n",
            "Testing Accuracy : 0.7\n"
          ]
        }
      ],
      "source": [
        "print(\"Training Accuracy :\", loregressor.score(x_train_aca, y_train_aca))\n",
        "print(\"Testing Accuracy :\", loregressor.score(x_test_aca, y_test_aca))"
      ]
    },
    {
      "cell_type": "code",
      "execution_count": null,
      "metadata": {
        "colab": {
          "base_uri": "https://localhost:8080/"
        },
        "id": "s1TWUVlwp0FP",
        "outputId": "7fd7cde9-7132-4e5f-abc7-fd3cc023c9ee"
      },
      "outputs": [
        {
          "output_type": "execute_result",
          "data": {
            "text/plain": [
              "DecisionTreeRegressor()"
            ]
          },
          "metadata": {},
          "execution_count": 179
        }
      ],
      "source": [
        "dtregressor.fit(x_train_aca, y_train_aca)"
      ]
    },
    {
      "cell_type": "code",
      "execution_count": null,
      "metadata": {
        "colab": {
          "base_uri": "https://localhost:8080/"
        },
        "id": "NJn2qcavp0FQ",
        "outputId": "990f4147-1865-43c4-b61b-9accb9d8c78c"
      },
      "outputs": [
        {
          "output_type": "stream",
          "name": "stdout",
          "text": [
            "Training Accuracy : 1.0\n",
            "Testing Accuracy : 0.8076923076923077\n"
          ]
        }
      ],
      "source": [
        "print(\"Training Accuracy :\", dtregressor.score(x_train_aca, y_train_aca))\n",
        "print(\"Testing Accuracy :\", dtregressor.score(x_test_aca, y_test_aca))"
      ]
    },
    {
      "cell_type": "code",
      "execution_count": null,
      "metadata": {
        "colab": {
          "base_uri": "https://localhost:8080/"
        },
        "id": "-1rZJkIip0FQ",
        "outputId": "25beb6df-a337-4168-f964-2ee3411335d2"
      },
      "outputs": [
        {
          "output_type": "execute_result",
          "data": {
            "text/plain": [
              "RandomForestRegressor()"
            ]
          },
          "metadata": {},
          "execution_count": 181
        }
      ],
      "source": [
        "rfregressor.fit(x_train_aca, y_train_aca)"
      ]
    },
    {
      "cell_type": "code",
      "execution_count": null,
      "metadata": {
        "colab": {
          "base_uri": "https://localhost:8080/"
        },
        "id": "ECVPgoBHp0FR",
        "outputId": "ea69f2c4-8a58-4fb3-e913-b768d671a102"
      },
      "outputs": [
        {
          "output_type": "stream",
          "name": "stdout",
          "text": [
            "Training Accuracy : 0.9923042797494781\n",
            "Testing Accuracy : 0.7808846153846154\n"
          ]
        }
      ],
      "source": [
        "print(\"Training Accuracy :\", rfregressor.score(x_train_aca, y_train_aca))\n",
        "print(\"Testing Accuracy :\", rfregressor.score(x_test_aca, y_test_aca))"
      ]
    },
    {
      "cell_type": "code",
      "execution_count": null,
      "metadata": {
        "colab": {
          "base_uri": "https://localhost:8080/"
        },
        "id": "Sn-XjkEyp0FR",
        "outputId": "d37b41f3-89f9-437f-fa45-2a3f619f3115"
      },
      "outputs": [
        {
          "output_type": "execute_result",
          "data": {
            "text/plain": [
              "array([0.86987713, 0.65006984, 0.66651966])"
            ]
          },
          "metadata": {},
          "execution_count": 183
        }
      ],
      "source": [
        "cross_val_score(SVR(),x_aca, y_aca, cv = 3)"
      ]
    },
    {
      "cell_type": "code",
      "execution_count": null,
      "metadata": {
        "colab": {
          "base_uri": "https://localhost:8080/"
        },
        "id": "8zcjwfYgp0FR",
        "outputId": "c2590fd3-2708-40c0-8fc8-78183a2afc25"
      },
      "outputs": [
        {
          "output_type": "execute_result",
          "data": {
            "text/plain": [
              "array([0.53716731, 0.765092  , 0.36500143])"
            ]
          },
          "metadata": {},
          "execution_count": 184
        }
      ],
      "source": [
        "cross_val_score(LinearRegression(),x_aca, y_aca, cv = 3)"
      ]
    },
    {
      "cell_type": "code",
      "execution_count": null,
      "metadata": {
        "colab": {
          "base_uri": "https://localhost:8080/"
        },
        "id": "69bcHy1yp0FS",
        "outputId": "c391f9bc-7a55-4f24-9725-d2e5a50106c9"
      },
      "outputs": [
        {
          "output_type": "execute_result",
          "data": {
            "text/plain": [
              "array([0.625     , 0.625     , 0.64516129])"
            ]
          },
          "metadata": {},
          "execution_count": 185
        }
      ],
      "source": [
        "cross_val_score(LogisticRegression(),x_aca, y_aca, cv = 3)"
      ]
    },
    {
      "cell_type": "code",
      "execution_count": null,
      "metadata": {
        "colab": {
          "base_uri": "https://localhost:8080/"
        },
        "id": "PtwMNyRkp0FS",
        "outputId": "8fa1ab50-b136-437c-eb3d-3b95fd2ad078"
      },
      "outputs": [
        {
          "output_type": "execute_result",
          "data": {
            "text/plain": [
              "array([1.        , 0.93429158, 0.88076923])"
            ]
          },
          "metadata": {},
          "execution_count": 186
        }
      ],
      "source": [
        "cross_val_score(DecisionTreeRegressor(),x_aca, y_aca, cv = 3)"
      ]
    },
    {
      "cell_type": "code",
      "execution_count": null,
      "metadata": {
        "colab": {
          "base_uri": "https://localhost:8080/"
        },
        "id": "acd_sFvWp0FT",
        "outputId": "6d70951c-243f-457e-c55d-1aa69092628b"
      },
      "outputs": [
        {
          "output_type": "execute_result",
          "data": {
            "text/plain": [
              "array([0.96734545, 0.89298727, 0.86547192])"
            ]
          },
          "metadata": {},
          "execution_count": 187
        }
      ],
      "source": [
        "cross_val_score(RandomForestRegressor(),x_aca, y_aca, cv = 3)"
      ]
    },
    {
      "cell_type": "code",
      "execution_count": null,
      "metadata": {
        "id": "BglqrRJfp0FT"
      },
      "outputs": [],
      "source": [
        "def time_predict_aca(percentage):\n",
        "    x=np.zeros(len(x_aca.columns))\n",
        "    x[0]=percentage\n",
        "    return svregressor.predict([x])[0]"
      ]
    },
    {
      "cell_type": "code",
      "execution_count": null,
      "metadata": {
        "colab": {
          "base_uri": "https://localhost:8080/"
        },
        "id": "L-1ZXv0jp0FU",
        "outputId": "0ac815a8-48fe-4c0e-aded-eafc414e4c85"
      },
      "outputs": [
        {
          "output_type": "execute_result",
          "data": {
            "text/plain": [
              "1.6984273729112682"
            ]
          },
          "metadata": {},
          "execution_count": 189
        }
      ],
      "source": [
        "time_predict_aca(0.45)"
      ]
    },
    {
      "cell_type": "code",
      "execution_count": null,
      "metadata": {
        "id": "R6l9GFgrp0FU"
      },
      "outputs": [],
      "source": [
        "def time_predict_aca(percentage):\n",
        "    x=np.zeros(len(x_aca.columns))\n",
        "    x[0]=percentage\n",
        "    return liregressor.predict([x])[0]"
      ]
    },
    {
      "cell_type": "code",
      "execution_count": null,
      "metadata": {
        "colab": {
          "base_uri": "https://localhost:8080/"
        },
        "id": "z9rv-h25p0FV",
        "outputId": "2eeb6719-21fb-4340-f4fc-25ccd92c6c2e"
      },
      "outputs": [
        {
          "output_type": "execute_result",
          "data": {
            "text/plain": [
              "1.800630059105957"
            ]
          },
          "metadata": {},
          "execution_count": 191
        }
      ],
      "source": [
        "time_predict_aca(0.45)"
      ]
    },
    {
      "cell_type": "code",
      "execution_count": null,
      "metadata": {
        "id": "U7ToFCNAp0FV"
      },
      "outputs": [],
      "source": [
        "def time_predict_aca(percentage):\n",
        "    x=np.zeros(len(x_aca.columns))\n",
        "    x[0]=percentage\n",
        "    return loregressor.predict([x])[0]"
      ]
    },
    {
      "cell_type": "code",
      "execution_count": null,
      "metadata": {
        "colab": {
          "base_uri": "https://localhost:8080/"
        },
        "id": "AUR8RaQbp0FV",
        "outputId": "60dfe8da-6aa6-40ab-8ef5-6483d63390b7"
      },
      "outputs": [
        {
          "output_type": "execute_result",
          "data": {
            "text/plain": [
              "1"
            ]
          },
          "metadata": {},
          "execution_count": 193
        }
      ],
      "source": [
        "time_predict_aca(0.45)"
      ]
    },
    {
      "cell_type": "code",
      "execution_count": null,
      "metadata": {
        "id": "nUcBRXrgp0FV"
      },
      "outputs": [],
      "source": [
        "def time_predict_aca(percentage):\n",
        "    x=np.zeros(len(x_aca.columns))\n",
        "    x[0]=percentage\n",
        "    return dtregressor.predict([x])[0]"
      ]
    },
    {
      "cell_type": "code",
      "execution_count": null,
      "metadata": {
        "colab": {
          "base_uri": "https://localhost:8080/"
        },
        "id": "mlY7se0Dp0FW",
        "outputId": "136ceade-befb-46eb-f3c0-d1bbf76e3b3f"
      },
      "outputs": [
        {
          "output_type": "execute_result",
          "data": {
            "text/plain": [
              "2.0"
            ]
          },
          "metadata": {},
          "execution_count": 195
        }
      ],
      "source": [
        "time_predict_aca(0.45)"
      ]
    },
    {
      "cell_type": "code",
      "execution_count": null,
      "metadata": {
        "id": "zvdRhQ4qp0FW"
      },
      "outputs": [],
      "source": [
        "def time_predict_aca(percentage):\n",
        "    x=np.zeros(len(x_aca.columns))\n",
        "    x[0]=percentage\n",
        "    return rfregressor.predict([x])[0]"
      ]
    },
    {
      "cell_type": "code",
      "execution_count": null,
      "metadata": {
        "colab": {
          "base_uri": "https://localhost:8080/"
        },
        "id": "Y4JWlnlRp0FX",
        "outputId": "fb676767-bc81-43a2-d266-d1031dc45970"
      },
      "outputs": [
        {
          "output_type": "execute_result",
          "data": {
            "text/plain": [
              "1.79"
            ]
          },
          "metadata": {},
          "execution_count": 197
        }
      ],
      "source": [
        "time_predict_aca(0.45)"
      ]
    },
    {
      "cell_type": "code",
      "execution_count": null,
      "metadata": {
        "id": "9mPz-CXVp0FX"
      },
      "outputs": [],
      "source": [
        "ml_marks = pd.read_csv('ml_marks.csv')"
      ]
    },
    {
      "cell_type": "code",
      "execution_count": null,
      "metadata": {
        "colab": {
          "base_uri": "https://localhost:8080/",
          "height": 206
        },
        "id": "Ila1C6Aip0FY",
        "outputId": "d088bfc5-9e97-4d39-ec6f-1b1daf71a1e5"
      },
      "outputs": [
        {
          "output_type": "execute_result",
          "data": {
            "text/plain": [
              "  enrollment_number         student_name  internal_marks_ml  \\\n",
              "0        1KG16CS025            DIVYA R D                 19   \n",
              "1        1KG16CS054    M D MAHATAP PASHA                 30   \n",
              "2        1KG16CS059          P YASHWANTH                 21   \n",
              "3        1KG16CS113  V CHANDANA CHOWDARY                 27   \n",
              "4        1KG17CS002     ABHIMANYU BANSAL                 28   \n",
              "\n",
              "   external_marks_ml  total_marks_ml result_ml  \n",
              "0                  9              28      FAIL  \n",
              "1                 29              59      PASS  \n",
              "2                 26              47      PASS  \n",
              "3                 21              48      PASS  \n",
              "4                 21              49      PASS  "
            ],
            "text/html": [
              "\n",
              "  <div id=\"df-83c9b1c6-9ef2-47e6-b128-c4afa9bd3c55\">\n",
              "    <div class=\"colab-df-container\">\n",
              "      <div>\n",
              "<style scoped>\n",
              "    .dataframe tbody tr th:only-of-type {\n",
              "        vertical-align: middle;\n",
              "    }\n",
              "\n",
              "    .dataframe tbody tr th {\n",
              "        vertical-align: top;\n",
              "    }\n",
              "\n",
              "    .dataframe thead th {\n",
              "        text-align: right;\n",
              "    }\n",
              "</style>\n",
              "<table border=\"1\" class=\"dataframe\">\n",
              "  <thead>\n",
              "    <tr style=\"text-align: right;\">\n",
              "      <th></th>\n",
              "      <th>enrollment_number</th>\n",
              "      <th>student_name</th>\n",
              "      <th>internal_marks_ml</th>\n",
              "      <th>external_marks_ml</th>\n",
              "      <th>total_marks_ml</th>\n",
              "      <th>result_ml</th>\n",
              "    </tr>\n",
              "  </thead>\n",
              "  <tbody>\n",
              "    <tr>\n",
              "      <th>0</th>\n",
              "      <td>1KG16CS025</td>\n",
              "      <td>DIVYA R D</td>\n",
              "      <td>19</td>\n",
              "      <td>9</td>\n",
              "      <td>28</td>\n",
              "      <td>FAIL</td>\n",
              "    </tr>\n",
              "    <tr>\n",
              "      <th>1</th>\n",
              "      <td>1KG16CS054</td>\n",
              "      <td>M D MAHATAP PASHA</td>\n",
              "      <td>30</td>\n",
              "      <td>29</td>\n",
              "      <td>59</td>\n",
              "      <td>PASS</td>\n",
              "    </tr>\n",
              "    <tr>\n",
              "      <th>2</th>\n",
              "      <td>1KG16CS059</td>\n",
              "      <td>P YASHWANTH</td>\n",
              "      <td>21</td>\n",
              "      <td>26</td>\n",
              "      <td>47</td>\n",
              "      <td>PASS</td>\n",
              "    </tr>\n",
              "    <tr>\n",
              "      <th>3</th>\n",
              "      <td>1KG16CS113</td>\n",
              "      <td>V CHANDANA CHOWDARY</td>\n",
              "      <td>27</td>\n",
              "      <td>21</td>\n",
              "      <td>48</td>\n",
              "      <td>PASS</td>\n",
              "    </tr>\n",
              "    <tr>\n",
              "      <th>4</th>\n",
              "      <td>1KG17CS002</td>\n",
              "      <td>ABHIMANYU BANSAL</td>\n",
              "      <td>28</td>\n",
              "      <td>21</td>\n",
              "      <td>49</td>\n",
              "      <td>PASS</td>\n",
              "    </tr>\n",
              "  </tbody>\n",
              "</table>\n",
              "</div>\n",
              "      <button class=\"colab-df-convert\" onclick=\"convertToInteractive('df-83c9b1c6-9ef2-47e6-b128-c4afa9bd3c55')\"\n",
              "              title=\"Convert this dataframe to an interactive table.\"\n",
              "              style=\"display:none;\">\n",
              "        \n",
              "  <svg xmlns=\"http://www.w3.org/2000/svg\" height=\"24px\"viewBox=\"0 0 24 24\"\n",
              "       width=\"24px\">\n",
              "    <path d=\"M0 0h24v24H0V0z\" fill=\"none\"/>\n",
              "    <path d=\"M18.56 5.44l.94 2.06.94-2.06 2.06-.94-2.06-.94-.94-2.06-.94 2.06-2.06.94zm-11 1L8.5 8.5l.94-2.06 2.06-.94-2.06-.94L8.5 2.5l-.94 2.06-2.06.94zm10 10l.94 2.06.94-2.06 2.06-.94-2.06-.94-.94-2.06-.94 2.06-2.06.94z\"/><path d=\"M17.41 7.96l-1.37-1.37c-.4-.4-.92-.59-1.43-.59-.52 0-1.04.2-1.43.59L10.3 9.45l-7.72 7.72c-.78.78-.78 2.05 0 2.83L4 21.41c.39.39.9.59 1.41.59.51 0 1.02-.2 1.41-.59l7.78-7.78 2.81-2.81c.8-.78.8-2.07 0-2.86zM5.41 20L4 18.59l7.72-7.72 1.47 1.35L5.41 20z\"/>\n",
              "  </svg>\n",
              "      </button>\n",
              "      \n",
              "  <style>\n",
              "    .colab-df-container {\n",
              "      display:flex;\n",
              "      flex-wrap:wrap;\n",
              "      gap: 12px;\n",
              "    }\n",
              "\n",
              "    .colab-df-convert {\n",
              "      background-color: #E8F0FE;\n",
              "      border: none;\n",
              "      border-radius: 50%;\n",
              "      cursor: pointer;\n",
              "      display: none;\n",
              "      fill: #1967D2;\n",
              "      height: 32px;\n",
              "      padding: 0 0 0 0;\n",
              "      width: 32px;\n",
              "    }\n",
              "\n",
              "    .colab-df-convert:hover {\n",
              "      background-color: #E2EBFA;\n",
              "      box-shadow: 0px 1px 2px rgba(60, 64, 67, 0.3), 0px 1px 3px 1px rgba(60, 64, 67, 0.15);\n",
              "      fill: #174EA6;\n",
              "    }\n",
              "\n",
              "    [theme=dark] .colab-df-convert {\n",
              "      background-color: #3B4455;\n",
              "      fill: #D2E3FC;\n",
              "    }\n",
              "\n",
              "    [theme=dark] .colab-df-convert:hover {\n",
              "      background-color: #434B5C;\n",
              "      box-shadow: 0px 1px 3px 1px rgba(0, 0, 0, 0.15);\n",
              "      filter: drop-shadow(0px 1px 2px rgba(0, 0, 0, 0.3));\n",
              "      fill: #FFFFFF;\n",
              "    }\n",
              "  </style>\n",
              "\n",
              "      <script>\n",
              "        const buttonEl =\n",
              "          document.querySelector('#df-83c9b1c6-9ef2-47e6-b128-c4afa9bd3c55 button.colab-df-convert');\n",
              "        buttonEl.style.display =\n",
              "          google.colab.kernel.accessAllowed ? 'block' : 'none';\n",
              "\n",
              "        async function convertToInteractive(key) {\n",
              "          const element = document.querySelector('#df-83c9b1c6-9ef2-47e6-b128-c4afa9bd3c55');\n",
              "          const dataTable =\n",
              "            await google.colab.kernel.invokeFunction('convertToInteractive',\n",
              "                                                     [key], {});\n",
              "          if (!dataTable) return;\n",
              "\n",
              "          const docLinkHtml = 'Like what you see? Visit the ' +\n",
              "            '<a target=\"_blank\" href=https://colab.research.google.com/notebooks/data_table.ipynb>data table notebook</a>'\n",
              "            + ' to learn more about interactive tables.';\n",
              "          element.innerHTML = '';\n",
              "          dataTable['output_type'] = 'display_data';\n",
              "          await google.colab.output.renderOutput(dataTable, element);\n",
              "          const docLink = document.createElement('div');\n",
              "          docLink.innerHTML = docLinkHtml;\n",
              "          element.appendChild(docLink);\n",
              "        }\n",
              "      </script>\n",
              "    </div>\n",
              "  </div>\n",
              "  "
            ]
          },
          "metadata": {},
          "execution_count": 199
        }
      ],
      "source": [
        "ml_marks.head()"
      ]
    },
    {
      "cell_type": "code",
      "execution_count": null,
      "metadata": {
        "colab": {
          "base_uri": "https://localhost:8080/",
          "height": 206
        },
        "id": "u0lHdR9Cp0FY",
        "outputId": "156f65bc-4f20-4666-ca59-60ce599b3327"
      },
      "outputs": [
        {
          "output_type": "execute_result",
          "data": {
            "text/plain": [
              "   enrollment_number            student_name  internal_marks_ml  \\\n",
              "90        1KG17CS106                 VIKAS B                 35   \n",
              "91        1KG17CS107          VINITH RAJ B U                 33   \n",
              "92        1KG17CS108                 VINOD N                 31   \n",
              "93        1KG17CS109  YASH KUMAR SINGH PATWA                 37   \n",
              "94        1KG17CS110             YASHASH T V                 28   \n",
              "\n",
              "    external_marks_ml  total_marks_ml result_ml  \n",
              "90                 27              62      PASS  \n",
              "91                 25              58      PASS  \n",
              "92                 22              53      PASS  \n",
              "93                 33              70      PASS  \n",
              "94                 27              55      PASS  "
            ],
            "text/html": [
              "\n",
              "  <div id=\"df-f93b8cb8-b5cf-4f1a-977d-aab7768314e9\">\n",
              "    <div class=\"colab-df-container\">\n",
              "      <div>\n",
              "<style scoped>\n",
              "    .dataframe tbody tr th:only-of-type {\n",
              "        vertical-align: middle;\n",
              "    }\n",
              "\n",
              "    .dataframe tbody tr th {\n",
              "        vertical-align: top;\n",
              "    }\n",
              "\n",
              "    .dataframe thead th {\n",
              "        text-align: right;\n",
              "    }\n",
              "</style>\n",
              "<table border=\"1\" class=\"dataframe\">\n",
              "  <thead>\n",
              "    <tr style=\"text-align: right;\">\n",
              "      <th></th>\n",
              "      <th>enrollment_number</th>\n",
              "      <th>student_name</th>\n",
              "      <th>internal_marks_ml</th>\n",
              "      <th>external_marks_ml</th>\n",
              "      <th>total_marks_ml</th>\n",
              "      <th>result_ml</th>\n",
              "    </tr>\n",
              "  </thead>\n",
              "  <tbody>\n",
              "    <tr>\n",
              "      <th>90</th>\n",
              "      <td>1KG17CS106</td>\n",
              "      <td>VIKAS B</td>\n",
              "      <td>35</td>\n",
              "      <td>27</td>\n",
              "      <td>62</td>\n",
              "      <td>PASS</td>\n",
              "    </tr>\n",
              "    <tr>\n",
              "      <th>91</th>\n",
              "      <td>1KG17CS107</td>\n",
              "      <td>VINITH RAJ B U</td>\n",
              "      <td>33</td>\n",
              "      <td>25</td>\n",
              "      <td>58</td>\n",
              "      <td>PASS</td>\n",
              "    </tr>\n",
              "    <tr>\n",
              "      <th>92</th>\n",
              "      <td>1KG17CS108</td>\n",
              "      <td>VINOD N</td>\n",
              "      <td>31</td>\n",
              "      <td>22</td>\n",
              "      <td>53</td>\n",
              "      <td>PASS</td>\n",
              "    </tr>\n",
              "    <tr>\n",
              "      <th>93</th>\n",
              "      <td>1KG17CS109</td>\n",
              "      <td>YASH KUMAR SINGH PATWA</td>\n",
              "      <td>37</td>\n",
              "      <td>33</td>\n",
              "      <td>70</td>\n",
              "      <td>PASS</td>\n",
              "    </tr>\n",
              "    <tr>\n",
              "      <th>94</th>\n",
              "      <td>1KG17CS110</td>\n",
              "      <td>YASHASH T V</td>\n",
              "      <td>28</td>\n",
              "      <td>27</td>\n",
              "      <td>55</td>\n",
              "      <td>PASS</td>\n",
              "    </tr>\n",
              "  </tbody>\n",
              "</table>\n",
              "</div>\n",
              "      <button class=\"colab-df-convert\" onclick=\"convertToInteractive('df-f93b8cb8-b5cf-4f1a-977d-aab7768314e9')\"\n",
              "              title=\"Convert this dataframe to an interactive table.\"\n",
              "              style=\"display:none;\">\n",
              "        \n",
              "  <svg xmlns=\"http://www.w3.org/2000/svg\" height=\"24px\"viewBox=\"0 0 24 24\"\n",
              "       width=\"24px\">\n",
              "    <path d=\"M0 0h24v24H0V0z\" fill=\"none\"/>\n",
              "    <path d=\"M18.56 5.44l.94 2.06.94-2.06 2.06-.94-2.06-.94-.94-2.06-.94 2.06-2.06.94zm-11 1L8.5 8.5l.94-2.06 2.06-.94-2.06-.94L8.5 2.5l-.94 2.06-2.06.94zm10 10l.94 2.06.94-2.06 2.06-.94-2.06-.94-.94-2.06-.94 2.06-2.06.94z\"/><path d=\"M17.41 7.96l-1.37-1.37c-.4-.4-.92-.59-1.43-.59-.52 0-1.04.2-1.43.59L10.3 9.45l-7.72 7.72c-.78.78-.78 2.05 0 2.83L4 21.41c.39.39.9.59 1.41.59.51 0 1.02-.2 1.41-.59l7.78-7.78 2.81-2.81c.8-.78.8-2.07 0-2.86zM5.41 20L4 18.59l7.72-7.72 1.47 1.35L5.41 20z\"/>\n",
              "  </svg>\n",
              "      </button>\n",
              "      \n",
              "  <style>\n",
              "    .colab-df-container {\n",
              "      display:flex;\n",
              "      flex-wrap:wrap;\n",
              "      gap: 12px;\n",
              "    }\n",
              "\n",
              "    .colab-df-convert {\n",
              "      background-color: #E8F0FE;\n",
              "      border: none;\n",
              "      border-radius: 50%;\n",
              "      cursor: pointer;\n",
              "      display: none;\n",
              "      fill: #1967D2;\n",
              "      height: 32px;\n",
              "      padding: 0 0 0 0;\n",
              "      width: 32px;\n",
              "    }\n",
              "\n",
              "    .colab-df-convert:hover {\n",
              "      background-color: #E2EBFA;\n",
              "      box-shadow: 0px 1px 2px rgba(60, 64, 67, 0.3), 0px 1px 3px 1px rgba(60, 64, 67, 0.15);\n",
              "      fill: #174EA6;\n",
              "    }\n",
              "\n",
              "    [theme=dark] .colab-df-convert {\n",
              "      background-color: #3B4455;\n",
              "      fill: #D2E3FC;\n",
              "    }\n",
              "\n",
              "    [theme=dark] .colab-df-convert:hover {\n",
              "      background-color: #434B5C;\n",
              "      box-shadow: 0px 1px 3px 1px rgba(0, 0, 0, 0.15);\n",
              "      filter: drop-shadow(0px 1px 2px rgba(0, 0, 0, 0.3));\n",
              "      fill: #FFFFFF;\n",
              "    }\n",
              "  </style>\n",
              "\n",
              "      <script>\n",
              "        const buttonEl =\n",
              "          document.querySelector('#df-f93b8cb8-b5cf-4f1a-977d-aab7768314e9 button.colab-df-convert');\n",
              "        buttonEl.style.display =\n",
              "          google.colab.kernel.accessAllowed ? 'block' : 'none';\n",
              "\n",
              "        async function convertToInteractive(key) {\n",
              "          const element = document.querySelector('#df-f93b8cb8-b5cf-4f1a-977d-aab7768314e9');\n",
              "          const dataTable =\n",
              "            await google.colab.kernel.invokeFunction('convertToInteractive',\n",
              "                                                     [key], {});\n",
              "          if (!dataTable) return;\n",
              "\n",
              "          const docLinkHtml = 'Like what you see? Visit the ' +\n",
              "            '<a target=\"_blank\" href=https://colab.research.google.com/notebooks/data_table.ipynb>data table notebook</a>'\n",
              "            + ' to learn more about interactive tables.';\n",
              "          element.innerHTML = '';\n",
              "          dataTable['output_type'] = 'display_data';\n",
              "          await google.colab.output.renderOutput(dataTable, element);\n",
              "          const docLink = document.createElement('div');\n",
              "          docLink.innerHTML = docLinkHtml;\n",
              "          element.appendChild(docLink);\n",
              "        }\n",
              "      </script>\n",
              "    </div>\n",
              "  </div>\n",
              "  "
            ]
          },
          "metadata": {},
          "execution_count": 200
        }
      ],
      "source": [
        "ml_marks.tail()"
      ]
    },
    {
      "cell_type": "code",
      "execution_count": null,
      "metadata": {
        "colab": {
          "base_uri": "https://localhost:8080/"
        },
        "id": "szkwEhyrp0FY",
        "outputId": "980154e8-7289-403d-924b-e2a5d2844f3c"
      },
      "outputs": [
        {
          "output_type": "execute_result",
          "data": {
            "text/plain": [
              "(95, 6)"
            ]
          },
          "metadata": {},
          "execution_count": 201
        }
      ],
      "source": [
        "ml_marks.shape"
      ]
    },
    {
      "cell_type": "code",
      "execution_count": null,
      "metadata": {
        "colab": {
          "base_uri": "https://localhost:8080/"
        },
        "id": "Q6-EilYLp0FY",
        "outputId": "d7579fa7-b164-4ca6-81d4-2ab6fa0928ee"
      },
      "outputs": [
        {
          "output_type": "execute_result",
          "data": {
            "text/plain": [
              "Index(['enrollment_number', 'student_name', 'internal_marks_ml',\n",
              "       'external_marks_ml', 'total_marks_ml', 'result_ml'],\n",
              "      dtype='object')"
            ]
          },
          "metadata": {},
          "execution_count": 202
        }
      ],
      "source": [
        "ml_marks.columns"
      ]
    },
    {
      "cell_type": "code",
      "execution_count": null,
      "metadata": {
        "colab": {
          "base_uri": "https://localhost:8080/"
        },
        "id": "USlVLUjkp0FZ",
        "outputId": "19a9e938-e08f-4e38-81e9-23a8fa79d6c7"
      },
      "outputs": [
        {
          "output_type": "stream",
          "name": "stdout",
          "text": [
            "<class 'pandas.core.frame.DataFrame'>\n",
            "RangeIndex: 95 entries, 0 to 94\n",
            "Data columns (total 6 columns):\n",
            " #   Column             Non-Null Count  Dtype \n",
            "---  ------             --------------  ----- \n",
            " 0   enrollment_number  95 non-null     object\n",
            " 1   student_name       95 non-null     object\n",
            " 2   internal_marks_ml  95 non-null     int64 \n",
            " 3   external_marks_ml  95 non-null     int64 \n",
            " 4   total_marks_ml     95 non-null     int64 \n",
            " 5   result_ml          95 non-null     object\n",
            "dtypes: int64(3), object(3)\n",
            "memory usage: 4.6+ KB\n"
          ]
        }
      ],
      "source": [
        "ml_marks.info()"
      ]
    },
    {
      "cell_type": "code",
      "execution_count": null,
      "metadata": {
        "colab": {
          "base_uri": "https://localhost:8080/",
          "height": 301
        },
        "id": "oQo57Ujnp0FZ",
        "outputId": "8d44b361-565e-494c-b1e7-979be98d03af"
      },
      "outputs": [
        {
          "output_type": "execute_result",
          "data": {
            "text/plain": [
              "       internal_marks_ml  external_marks_ml  total_marks_ml\n",
              "count          95.000000          95.000000       95.000000\n",
              "mean           32.442105          28.421053       60.863158\n",
              "std             3.811282           7.701311        9.767086\n",
              "min            19.000000           0.000000       28.000000\n",
              "25%            31.000000          23.000000       54.000000\n",
              "50%            33.000000          27.000000       60.000000\n",
              "75%            35.000000          33.500000       68.000000\n",
              "max            39.000000          45.000000       82.000000"
            ],
            "text/html": [
              "\n",
              "  <div id=\"df-93129aba-c57a-4081-8ec3-224d2b9c75d6\">\n",
              "    <div class=\"colab-df-container\">\n",
              "      <div>\n",
              "<style scoped>\n",
              "    .dataframe tbody tr th:only-of-type {\n",
              "        vertical-align: middle;\n",
              "    }\n",
              "\n",
              "    .dataframe tbody tr th {\n",
              "        vertical-align: top;\n",
              "    }\n",
              "\n",
              "    .dataframe thead th {\n",
              "        text-align: right;\n",
              "    }\n",
              "</style>\n",
              "<table border=\"1\" class=\"dataframe\">\n",
              "  <thead>\n",
              "    <tr style=\"text-align: right;\">\n",
              "      <th></th>\n",
              "      <th>internal_marks_ml</th>\n",
              "      <th>external_marks_ml</th>\n",
              "      <th>total_marks_ml</th>\n",
              "    </tr>\n",
              "  </thead>\n",
              "  <tbody>\n",
              "    <tr>\n",
              "      <th>count</th>\n",
              "      <td>95.000000</td>\n",
              "      <td>95.000000</td>\n",
              "      <td>95.000000</td>\n",
              "    </tr>\n",
              "    <tr>\n",
              "      <th>mean</th>\n",
              "      <td>32.442105</td>\n",
              "      <td>28.421053</td>\n",
              "      <td>60.863158</td>\n",
              "    </tr>\n",
              "    <tr>\n",
              "      <th>std</th>\n",
              "      <td>3.811282</td>\n",
              "      <td>7.701311</td>\n",
              "      <td>9.767086</td>\n",
              "    </tr>\n",
              "    <tr>\n",
              "      <th>min</th>\n",
              "      <td>19.000000</td>\n",
              "      <td>0.000000</td>\n",
              "      <td>28.000000</td>\n",
              "    </tr>\n",
              "    <tr>\n",
              "      <th>25%</th>\n",
              "      <td>31.000000</td>\n",
              "      <td>23.000000</td>\n",
              "      <td>54.000000</td>\n",
              "    </tr>\n",
              "    <tr>\n",
              "      <th>50%</th>\n",
              "      <td>33.000000</td>\n",
              "      <td>27.000000</td>\n",
              "      <td>60.000000</td>\n",
              "    </tr>\n",
              "    <tr>\n",
              "      <th>75%</th>\n",
              "      <td>35.000000</td>\n",
              "      <td>33.500000</td>\n",
              "      <td>68.000000</td>\n",
              "    </tr>\n",
              "    <tr>\n",
              "      <th>max</th>\n",
              "      <td>39.000000</td>\n",
              "      <td>45.000000</td>\n",
              "      <td>82.000000</td>\n",
              "    </tr>\n",
              "  </tbody>\n",
              "</table>\n",
              "</div>\n",
              "      <button class=\"colab-df-convert\" onclick=\"convertToInteractive('df-93129aba-c57a-4081-8ec3-224d2b9c75d6')\"\n",
              "              title=\"Convert this dataframe to an interactive table.\"\n",
              "              style=\"display:none;\">\n",
              "        \n",
              "  <svg xmlns=\"http://www.w3.org/2000/svg\" height=\"24px\"viewBox=\"0 0 24 24\"\n",
              "       width=\"24px\">\n",
              "    <path d=\"M0 0h24v24H0V0z\" fill=\"none\"/>\n",
              "    <path d=\"M18.56 5.44l.94 2.06.94-2.06 2.06-.94-2.06-.94-.94-2.06-.94 2.06-2.06.94zm-11 1L8.5 8.5l.94-2.06 2.06-.94-2.06-.94L8.5 2.5l-.94 2.06-2.06.94zm10 10l.94 2.06.94-2.06 2.06-.94-2.06-.94-.94-2.06-.94 2.06-2.06.94z\"/><path d=\"M17.41 7.96l-1.37-1.37c-.4-.4-.92-.59-1.43-.59-.52 0-1.04.2-1.43.59L10.3 9.45l-7.72 7.72c-.78.78-.78 2.05 0 2.83L4 21.41c.39.39.9.59 1.41.59.51 0 1.02-.2 1.41-.59l7.78-7.78 2.81-2.81c.8-.78.8-2.07 0-2.86zM5.41 20L4 18.59l7.72-7.72 1.47 1.35L5.41 20z\"/>\n",
              "  </svg>\n",
              "      </button>\n",
              "      \n",
              "  <style>\n",
              "    .colab-df-container {\n",
              "      display:flex;\n",
              "      flex-wrap:wrap;\n",
              "      gap: 12px;\n",
              "    }\n",
              "\n",
              "    .colab-df-convert {\n",
              "      background-color: #E8F0FE;\n",
              "      border: none;\n",
              "      border-radius: 50%;\n",
              "      cursor: pointer;\n",
              "      display: none;\n",
              "      fill: #1967D2;\n",
              "      height: 32px;\n",
              "      padding: 0 0 0 0;\n",
              "      width: 32px;\n",
              "    }\n",
              "\n",
              "    .colab-df-convert:hover {\n",
              "      background-color: #E2EBFA;\n",
              "      box-shadow: 0px 1px 2px rgba(60, 64, 67, 0.3), 0px 1px 3px 1px rgba(60, 64, 67, 0.15);\n",
              "      fill: #174EA6;\n",
              "    }\n",
              "\n",
              "    [theme=dark] .colab-df-convert {\n",
              "      background-color: #3B4455;\n",
              "      fill: #D2E3FC;\n",
              "    }\n",
              "\n",
              "    [theme=dark] .colab-df-convert:hover {\n",
              "      background-color: #434B5C;\n",
              "      box-shadow: 0px 1px 3px 1px rgba(0, 0, 0, 0.15);\n",
              "      filter: drop-shadow(0px 1px 2px rgba(0, 0, 0, 0.3));\n",
              "      fill: #FFFFFF;\n",
              "    }\n",
              "  </style>\n",
              "\n",
              "      <script>\n",
              "        const buttonEl =\n",
              "          document.querySelector('#df-93129aba-c57a-4081-8ec3-224d2b9c75d6 button.colab-df-convert');\n",
              "        buttonEl.style.display =\n",
              "          google.colab.kernel.accessAllowed ? 'block' : 'none';\n",
              "\n",
              "        async function convertToInteractive(key) {\n",
              "          const element = document.querySelector('#df-93129aba-c57a-4081-8ec3-224d2b9c75d6');\n",
              "          const dataTable =\n",
              "            await google.colab.kernel.invokeFunction('convertToInteractive',\n",
              "                                                     [key], {});\n",
              "          if (!dataTable) return;\n",
              "\n",
              "          const docLinkHtml = 'Like what you see? Visit the ' +\n",
              "            '<a target=\"_blank\" href=https://colab.research.google.com/notebooks/data_table.ipynb>data table notebook</a>'\n",
              "            + ' to learn more about interactive tables.';\n",
              "          element.innerHTML = '';\n",
              "          dataTable['output_type'] = 'display_data';\n",
              "          await google.colab.output.renderOutput(dataTable, element);\n",
              "          const docLink = document.createElement('div');\n",
              "          docLink.innerHTML = docLinkHtml;\n",
              "          element.appendChild(docLink);\n",
              "        }\n",
              "      </script>\n",
              "    </div>\n",
              "  </div>\n",
              "  "
            ]
          },
          "metadata": {},
          "execution_count": 204
        }
      ],
      "source": [
        "ml_marks.describe()"
      ]
    },
    {
      "cell_type": "code",
      "execution_count": null,
      "metadata": {
        "colab": {
          "base_uri": "https://localhost:8080/"
        },
        "id": "AqWis4UTp0FZ",
        "outputId": "ae71d5ac-256d-4710-9272-78f00ce2290f"
      },
      "outputs": [
        {
          "output_type": "execute_result",
          "data": {
            "text/plain": [
              "enrollment_number    0\n",
              "student_name         0\n",
              "internal_marks_ml    0\n",
              "external_marks_ml    0\n",
              "total_marks_ml       0\n",
              "result_ml            0\n",
              "dtype: int64"
            ]
          },
          "metadata": {},
          "execution_count": 205
        }
      ],
      "source": [
        "ml_marks.isnull().sum()"
      ]
    },
    {
      "cell_type": "code",
      "execution_count": null,
      "metadata": {
        "colab": {
          "base_uri": "https://localhost:8080/"
        },
        "id": "n82xATA8p0FZ",
        "outputId": "bcd51457-beb9-4872-f0ae-1e8ccef41eb4"
      },
      "outputs": [
        {
          "output_type": "execute_result",
          "data": {
            "text/plain": [
              "array(['FAIL', 'PASS'], dtype=object)"
            ]
          },
          "metadata": {},
          "execution_count": 206
        }
      ],
      "source": [
        "ml_marks['result_ml'].unique()"
      ]
    },
    {
      "cell_type": "code",
      "execution_count": null,
      "metadata": {
        "colab": {
          "base_uri": "https://localhost:8080/"
        },
        "id": "4PcUqLgdp0Fa",
        "outputId": "60dd57d5-a3d5-49fd-d7f7-5c281ff848db"
      },
      "outputs": [
        {
          "output_type": "execute_result",
          "data": {
            "text/plain": [
              "PASS    90\n",
              "FAIL     5\n",
              "Name: result_ml, dtype: int64"
            ]
          },
          "metadata": {},
          "execution_count": 207
        }
      ],
      "source": [
        "ml_marks['result_ml'].value_counts()"
      ]
    },
    {
      "cell_type": "code",
      "execution_count": null,
      "metadata": {
        "colab": {
          "base_uri": "https://localhost:8080/",
          "height": 404
        },
        "id": "bhK2zy9mp0Fa",
        "outputId": "16e681ba-d094-4d05-b531-db9af83bd18a"
      },
      "outputs": [
        {
          "output_type": "display_data",
          "data": {
            "text/plain": [
              "<Figure size 1080x432 with 1 Axes>"
            ],
            "image/png": "[encoded data removed]"
          },
          "metadata": {
            "needs_background": "light"
          }
        }
      ],
      "source": [
        "plt.figure(figsize=(15,6))\n",
        "sns.countplot('result_ml', data = ml_marks, palette='hls')\n",
        "plt.xticks(rotation = 90)\n",
        "plt.show()"
      ]
    },
    {
      "cell_type": "code",
      "execution_count": null,
      "metadata": {
        "colab": {
          "base_uri": "https://localhost:8080/",
          "height": 379
        },
        "id": "ogjNZ558p0Fa",
        "outputId": "03070846-b255-4ce5-d5e5-e2a271ae5ab7"
      },
      "outputs": [
        {
          "output_type": "display_data",
          "data": {
            "text/plain": [
              "<Figure size 1080x432 with 1 Axes>"
            ],
            "image/png": "[encoded data removed]"
          },
          "metadata": {}
        }
      ],
      "source": [
        "plt.figure(figsize=(15,6))\n",
        "colors = sns.color_palette('bright')\n",
        "explode = [0.3, 0.02]\n",
        "plt.pie(ml_marks['result_ml'].value_counts(), colors = colors, labels = ['pass', 'fail'],\n",
        "        explode = explode, autopct = '%0.0f%%', shadow = 'True', startangle = 90)\n",
        "plt.show()"
      ]
    },
    {
      "cell_type": "code",
      "execution_count": null,
      "metadata": {
        "id": "TWyjmD1Cp0Fa"
      },
      "outputs": [],
      "source": [
        "ml_marks['percentage'] = ml_marks['total_marks_ml'].div(100).round(2)"
      ]
    },
    {
      "cell_type": "code",
      "execution_count": null,
      "metadata": {
        "id": "eOK4iPvDp0Fb"
      },
      "outputs": [],
      "source": [
        "conditions = [\n",
        "    (ml_marks['percentage'] > 0.7),\n",
        "    (ml_marks['percentage'] >= 0.5) & (ml_marks['percentage'] < 0.69),\n",
        "    (ml_marks['percentage'] >= 0.35) & (ml_marks['percentage'] < 0.49),\n",
        "    (ml_marks['percentage'] < 0.35)\n",
        "]\n",
        "\n",
        "values = [0, 1, 2, 3]\n",
        "\n",
        "ml_marks['time_per_day'] = np.select(conditions, values)"
      ]
    },
    {
      "cell_type": "code",
      "execution_count": null,
      "metadata": {
        "id": "EV0XdOVCp0Fb"
      },
      "outputs": [],
      "source": [
        "data4 = ['result_ml']\n",
        "for i in data4:\n",
        "    ml_marks[i] = le.fit_transform(ml_marks[i])"
      ]
    },
    {
      "cell_type": "code",
      "execution_count": null,
      "metadata": {
        "id": "QI_njUBvp0Fb"
      },
      "outputs": [],
      "source": [
        "x_ml= ml_marks.drop(['enrollment_number', 'student_name', 'total_marks_ml',\n",
        "                   'time_per_day', 'result_ml', 'internal_marks_ml',\n",
        "                   'external_marks_ml'], axis = 1)  \n",
        "y_ml= ml_marks['time_per_day']"
      ]
    },
    {
      "cell_type": "code",
      "execution_count": null,
      "metadata": {
        "id": "rexJPd9vp0Fb"
      },
      "outputs": [],
      "source": [
        "x_train_ml = x_ml.iloc[:75]"
      ]
    },
    {
      "cell_type": "code",
      "execution_count": null,
      "metadata": {
        "id": "qxM6h9Y_p0Fc"
      },
      "outputs": [],
      "source": [
        "y_train_ml = y_ml.iloc[:75]"
      ]
    },
    {
      "cell_type": "code",
      "execution_count": null,
      "metadata": {
        "id": "4Njq8HaQp0Fc"
      },
      "outputs": [],
      "source": [
        "x_test_ml = x_ml.iloc[75:96]"
      ]
    },
    {
      "cell_type": "code",
      "execution_count": null,
      "metadata": {
        "id": "tlXsKno2p0Fc"
      },
      "outputs": [],
      "source": [
        "y_test_ml = y_ml.iloc[75:96]"
      ]
    },
    {
      "cell_type": "code",
      "execution_count": null,
      "metadata": {
        "colab": {
          "base_uri": "https://localhost:8080/"
        },
        "id": "NGGE6WxMp0Fc",
        "outputId": "304eb979-7307-41f5-e729-f591164335aa"
      },
      "outputs": [
        {
          "output_type": "execute_result",
          "data": {
            "text/plain": [
              "SVR()"
            ]
          },
          "metadata": {},
          "execution_count": 218
        }
      ],
      "source": [
        "svregressor.fit(x_train_ml, y_train_ml)"
      ]
    },
    {
      "cell_type": "code",
      "execution_count": null,
      "metadata": {
        "colab": {
          "base_uri": "https://localhost:8080/"
        },
        "id": "WEb_aLYUp0Fd",
        "outputId": "057af27d-7334-4f68-a88f-83b1a2b2f50d"
      },
      "outputs": [
        {
          "output_type": "stream",
          "name": "stdout",
          "text": [
            "Training Accuracy : 0.7820455675583629\n",
            "Testing Accuracy : 0.2909533961533832\n"
          ]
        }
      ],
      "source": [
        "print(\"Training Accuracy :\", svregressor.score(x_train_ml, y_train_ml))\n",
        "print(\"Testing Accuracy :\", svregressor.score(x_test_ml, y_test_ml))"
      ]
    },
    {
      "cell_type": "code",
      "execution_count": null,
      "metadata": {
        "colab": {
          "base_uri": "https://localhost:8080/"
        },
        "id": "z8DmWdDIp0Fd",
        "outputId": "3029ac64-11b7-4e43-9a8b-493abdfdaa4d"
      },
      "outputs": [
        {
          "output_type": "execute_result",
          "data": {
            "text/plain": [
              "LinearRegression()"
            ]
          },
          "metadata": {},
          "execution_count": 220
        }
      ],
      "source": [
        "liregressor.fit(x_train_ml, y_train_ml)"
      ]
    },
    {
      "cell_type": "code",
      "execution_count": null,
      "metadata": {
        "colab": {
          "base_uri": "https://localhost:8080/"
        },
        "id": "eQjV7LC7p0Fd",
        "outputId": "9c9865e6-df7a-4c88-ca6d-79e64f61e023"
      },
      "outputs": [
        {
          "output_type": "stream",
          "name": "stdout",
          "text": [
            "Training Accuracy : 0.6733999367595538\n",
            "Testing Accuracy : -0.05018158800590622\n"
          ]
        }
      ],
      "source": [
        "print(\"Training Accuracy :\", liregressor.score(x_train_ml, y_train_ml))\n",
        "print(\"Testing Accuracy :\", liregressor.score(x_test_ml, y_test_ml))"
      ]
    },
    {
      "cell_type": "code",
      "execution_count": null,
      "metadata": {
        "colab": {
          "base_uri": "https://localhost:8080/"
        },
        "id": "b1sR7uI_p0Fd",
        "outputId": "96ab8fb2-1786-4a0d-b1f4-4cf7d380652e"
      },
      "outputs": [
        {
          "output_type": "execute_result",
          "data": {
            "text/plain": [
              "LogisticRegression()"
            ]
          },
          "metadata": {},
          "execution_count": 222
        }
      ],
      "source": [
        "loregressor.fit(x_train_ml, y_train_ml)"
      ]
    },
    {
      "cell_type": "code",
      "execution_count": null,
      "metadata": {
        "colab": {
          "base_uri": "https://localhost:8080/"
        },
        "id": "q-Vemfuqp0Fe",
        "outputId": "7025411e-c8fd-4786-e98c-493b6591724e"
      },
      "outputs": [
        {
          "output_type": "stream",
          "name": "stdout",
          "text": [
            "Training Accuracy : 0.64\n",
            "Testing Accuracy : 0.75\n"
          ]
        }
      ],
      "source": [
        "print(\"Training Accuracy :\", loregressor.score(x_train_ml, y_train_ml))\n",
        "print(\"Testing Accuracy :\", loregressor.score(x_test_ml, y_test_ml))"
      ]
    },
    {
      "cell_type": "code",
      "execution_count": null,
      "metadata": {
        "colab": {
          "base_uri": "https://localhost:8080/"
        },
        "id": "XAjwhue7p0Fe",
        "outputId": "fdf445ca-5293-4690-9104-8b3da3b643df"
      },
      "outputs": [
        {
          "output_type": "execute_result",
          "data": {
            "text/plain": [
              "DecisionTreeRegressor()"
            ]
          },
          "metadata": {},
          "execution_count": 224
        }
      ],
      "source": [
        "dtregressor.fit(x_train_ml, y_train_ml)"
      ]
    },
    {
      "cell_type": "code",
      "execution_count": null,
      "metadata": {
        "colab": {
          "base_uri": "https://localhost:8080/"
        },
        "id": "JlRoqcJ-p0Ff",
        "outputId": "a552e621-3658-49f8-8025-adf2eb9c11ff"
      },
      "outputs": [
        {
          "output_type": "stream",
          "name": "stdout",
          "text": [
            "Training Accuracy : 1.0\n",
            "Testing Accuracy : 1.0\n"
          ]
        }
      ],
      "source": [
        "print(\"Training Accuracy :\", dtregressor.score(x_train_ml, y_train_ml))\n",
        "print(\"Testing Accuracy :\", dtregressor.score(x_test_ml, y_test_ml))"
      ]
    },
    {
      "cell_type": "code",
      "execution_count": null,
      "metadata": {
        "colab": {
          "base_uri": "https://localhost:8080/"
        },
        "id": "mfl9CihNp0Fk",
        "outputId": "48ef2030-0018-48e5-eab6-fecec771dbd5"
      },
      "outputs": [
        {
          "output_type": "execute_result",
          "data": {
            "text/plain": [
              "RandomForestRegressor()"
            ]
          },
          "metadata": {},
          "execution_count": 226
        }
      ],
      "source": [
        "rfregressor.fit(x_train_ml, y_train_ml)"
      ]
    },
    {
      "cell_type": "code",
      "execution_count": null,
      "metadata": {
        "colab": {
          "base_uri": "https://localhost:8080/"
        },
        "id": "p4hPGgd4p0Fk",
        "outputId": "44c32655-99b0-4500-dd35-eadd337a64d7"
      },
      "outputs": [
        {
          "output_type": "stream",
          "name": "stdout",
          "text": [
            "Training Accuracy : 0.99303525913339\n",
            "Testing Accuracy : 0.9928533333333334\n"
          ]
        }
      ],
      "source": [
        "print(\"Training Accuracy :\", rfregressor.score(x_train_ml, y_train_ml))\n",
        "print(\"Testing Accuracy :\", rfregressor.score(x_test_ml, y_test_ml))"
      ]
    },
    {
      "cell_type": "code",
      "execution_count": null,
      "metadata": {
        "colab": {
          "base_uri": "https://localhost:8080/"
        },
        "id": "JlQYRjGfp0Fk",
        "outputId": "7489528f-ee67-403a-a849-26317f534a82"
      },
      "outputs": [
        {
          "output_type": "execute_result",
          "data": {
            "text/plain": [
              "array([-0.04365036,  0.8671829 ,  0.62998338])"
            ]
          },
          "metadata": {},
          "execution_count": 229
        }
      ],
      "source": [
        "\n",
        "cross_val_score(SVR(),x_cc, y_cc, cv = 3)"
      ]
    },
    {
      "cell_type": "code",
      "execution_count": null,
      "metadata": {
        "colab": {
          "base_uri": "https://localhost:8080/"
        },
        "id": "hTUep7aLp0Fk",
        "outputId": "5dd7fd3d-88ce-4c80-83c6-0fadb4c4e4ac"
      },
      "outputs": [
        {
          "output_type": "execute_result",
          "data": {
            "text/plain": [
              "array([0.62957117, 0.61755795, 0.33338199])"
            ]
          },
          "metadata": {},
          "execution_count": 230
        }
      ],
      "source": [
        "cross_val_score(LinearRegression(),x_cc, y_cc, cv = 3)"
      ]
    },
    {
      "cell_type": "code",
      "execution_count": null,
      "metadata": {
        "colab": {
          "base_uri": "https://localhost:8080/"
        },
        "id": "byCj2pWIp0Fl",
        "outputId": "df256dc5-32f8-423b-d9ae-18c2daed6c6c"
      },
      "outputs": [
        {
          "output_type": "execute_result",
          "data": {
            "text/plain": [
              "array([0.6875    , 0.6875    , 0.74193548])"
            ]
          },
          "metadata": {},
          "execution_count": 231
        }
      ],
      "source": [
        "cross_val_score(LogisticRegression(),x_cc, y_cc, cv = 3)"
      ]
    },
    {
      "cell_type": "code",
      "execution_count": null,
      "metadata": {
        "colab": {
          "base_uri": "https://localhost:8080/"
        },
        "id": "fG10Hkkqp0Fl",
        "outputId": "27501a1a-f918-45c0-aaff-142655d1c474"
      },
      "outputs": [
        {
          "output_type": "execute_result",
          "data": {
            "text/plain": [
              "array([-0.43157895,  1.        ,  1.        ])"
            ]
          },
          "metadata": {},
          "execution_count": 232
        }
      ],
      "source": [
        "cross_val_score(DecisionTreeRegressor(),x_cc, y_cc, cv = 3)"
      ]
    },
    {
      "cell_type": "code",
      "execution_count": null,
      "metadata": {
        "colab": {
          "base_uri": "https://localhost:8080/"
        },
        "id": "ZBqD8X_Wp0Fl",
        "outputId": "ad42df97-4829-426e-fa9f-9fad4f3fd266"
      },
      "outputs": [
        {
          "output_type": "execute_result",
          "data": {
            "text/plain": [
              "array([-0.05219368,  0.99222667,  0.97191548])"
            ]
          },
          "metadata": {},
          "execution_count": 233
        }
      ],
      "source": [
        "cross_val_score(RandomForestRegressor(),x_cc, y_cc, cv = 3)"
      ]
    },
    {
      "cell_type": "code",
      "execution_count": null,
      "metadata": {
        "id": "RjiXs8B7p0Fl"
      },
      "outputs": [],
      "source": [
        "def time_predict_ml(percentage):\n",
        "    x=np.zeros(len(x_ml.columns))\n",
        "    x[0]=percentage\n",
        "    return svregressor.predict([x])[0]"
      ]
    },
    {
      "cell_type": "code",
      "execution_count": null,
      "metadata": {
        "colab": {
          "base_uri": "https://localhost:8080/"
        },
        "id": "jcW1GjTap0Fm",
        "outputId": "31085f09-ca27-40c1-8cf8-aa4326be8681"
      },
      "outputs": [
        {
          "output_type": "execute_result",
          "data": {
            "text/plain": [
              "2.9390560044665044"
            ]
          },
          "metadata": {},
          "execution_count": 235
        }
      ],
      "source": [
        "time_predict_ml(0.31)"
      ]
    },
    {
      "cell_type": "code",
      "source": [
        "time_predict_ml(0.65)"
      ],
      "metadata": {
        "colab": {
          "base_uri": "https://localhost:8080/"
        },
        "id": "LIaRIniO_x5z",
        "outputId": "3102c529-de1b-46b9-83eb-09a8d3837a74"
      },
      "execution_count": null,
      "outputs": [
        {
          "output_type": "execute_result",
          "data": {
            "text/plain": [
              "1.0"
            ]
          },
          "metadata": {},
          "execution_count": 339
        }
      ]
    },
    {
      "cell_type": "code",
      "source": [
        "time_predict_ml(0.48)"
      ],
      "metadata": {
        "colab": {
          "base_uri": "https://localhost:8080/"
        },
        "id": "LA5wNcLR_ye7",
        "outputId": "502d378f-3ebb-4864-f493-2c83f2f7dd35"
      },
      "execution_count": null,
      "outputs": [
        {
          "output_type": "execute_result",
          "data": {
            "text/plain": [
              "1.97"
            ]
          },
          "metadata": {},
          "execution_count": 342
        }
      ]
    },
    {
      "cell_type": "code",
      "source": [
        "time_predict_ml(0.80)"
      ],
      "metadata": {
        "colab": {
          "base_uri": "https://localhost:8080/"
        },
        "id": "Oq5kDMuJ_yx0",
        "outputId": "762a2512-9acc-4eaf-96bf-8f43001215f8"
      },
      "execution_count": null,
      "outputs": [
        {
          "output_type": "execute_result",
          "data": {
            "text/plain": [
              "0.38"
            ]
          },
          "metadata": {},
          "execution_count": 344
        }
      ]
    },
    {
      "cell_type": "code",
      "execution_count": null,
      "metadata": {
        "id": "18ntf5ozp0Fm"
      },
      "outputs": [],
      "source": [
        "def time_predict_ml(percentage):\n",
        "    x=np.zeros(len(x_ml.columns))\n",
        "    x[0]=percentage\n",
        "    return liregressor.predict([x])[0]"
      ]
    },
    {
      "cell_type": "code",
      "execution_count": null,
      "metadata": {
        "colab": {
          "base_uri": "https://localhost:8080/"
        },
        "id": "6PuKs2Mrp0Fm",
        "outputId": "2ce5348c-75d1-4e00-9762-590c4131df61"
      },
      "outputs": [
        {
          "output_type": "execute_result",
          "data": {
            "text/plain": [
              "2.4162024480795474"
            ]
          },
          "metadata": {},
          "execution_count": 237
        }
      ],
      "source": [
        "time_predict_ml(0.31)"
      ]
    },
    {
      "cell_type": "code",
      "execution_count": null,
      "metadata": {
        "id": "3FIYFbzxp0Fm"
      },
      "outputs": [],
      "source": [
        "def time_predict_ml(percentage):\n",
        "    x=np.zeros(len(x_ml.columns))\n",
        "    x[0]=percentage\n",
        "    return loregressor.predict([x])[0]"
      ]
    },
    {
      "cell_type": "code",
      "execution_count": null,
      "metadata": {
        "colab": {
          "base_uri": "https://localhost:8080/"
        },
        "id": "QlPBerBop0Fm",
        "outputId": "9ff4fc3e-19dd-40ec-9573-b8978349f508"
      },
      "outputs": [
        {
          "output_type": "execute_result",
          "data": {
            "text/plain": [
              "1"
            ]
          },
          "metadata": {},
          "execution_count": 239
        }
      ],
      "source": [
        "time_predict_ml(0.31)"
      ]
    },
    {
      "cell_type": "code",
      "execution_count": null,
      "metadata": {
        "id": "YJ13mSWYp0Fn"
      },
      "outputs": [],
      "source": [
        "def time_predict_ml(percentage):\n",
        "    x=np.zeros(len(x_ml.columns))\n",
        "    x[0]=percentage\n",
        "    return dtregressor.predict([x])[0]"
      ]
    },
    {
      "cell_type": "code",
      "execution_count": null,
      "metadata": {
        "colab": {
          "base_uri": "https://localhost:8080/"
        },
        "id": "KkIfiGZop0Fn",
        "outputId": "76834d5e-a327-4a79-ef67-8479d86f2bb1"
      },
      "outputs": [
        {
          "output_type": "execute_result",
          "data": {
            "text/plain": [
              "3.0"
            ]
          },
          "metadata": {},
          "execution_count": 241
        }
      ],
      "source": [
        "time_predict_ml(0.31)"
      ]
    },
    {
      "cell_type": "code",
      "execution_count": null,
      "metadata": {
        "id": "dNgf-fPzp0Fn"
      },
      "outputs": [],
      "source": [
        "def time_predict_ml(percentage):\n",
        "    x=np.zeros(len(x_ml.columns))\n",
        "    x[0]=percentage\n",
        "    return rfregressor.predict([x])[0]"
      ]
    },
    {
      "cell_type": "code",
      "execution_count": null,
      "metadata": {
        "colab": {
          "base_uri": "https://localhost:8080/"
        },
        "id": "H-4ySTSZp0Fo",
        "outputId": "a1f387ee-ec48-43ea-b967-eddcb67d55ac"
      },
      "outputs": [
        {
          "output_type": "execute_result",
          "data": {
            "text/plain": [
              "2.85"
            ]
          },
          "metadata": {},
          "execution_count": 243
        }
      ],
      "source": [
        "time_predict_ml(0.31)"
      ]
    },
    {
      "cell_type": "code",
      "execution_count": null,
      "metadata": {
        "id": "GF1S6LW4p0Fo"
      },
      "outputs": [],
      "source": [
        "san_marks = pd.read_csv('san_marks.csv')"
      ]
    },
    {
      "cell_type": "code",
      "execution_count": null,
      "metadata": {
        "colab": {
          "base_uri": "https://localhost:8080/",
          "height": 206
        },
        "id": "tPblU3nWp0Fp",
        "outputId": "42b2f641-6a2c-40ca-c7cb-dd3b471d5483"
      },
      "outputs": [
        {
          "output_type": "execute_result",
          "data": {
            "text/plain": [
              "  enrollment_number         student_name  internal_marks_san  \\\n",
              "0        1KG16CS025            DIVYA R D                  25   \n",
              "1        1KG16CS054    M D MAHATAP PASHA                  34   \n",
              "2        1KG16CS059          P YASHWANTH                  33   \n",
              "3        1KG16CS113  V CHANDANA CHOWDARY                  29   \n",
              "4        1KG17CS002     ABHIMANYU BANSAL                  38   \n",
              "\n",
              "   external_marks_san  total_marks_san result_san  \n",
              "0                  21               46       PASS  \n",
              "1                  26               60       PASS  \n",
              "2                  32               65       PASS  \n",
              "3                  37               66       PASS  \n",
              "4                  29               67       PASS  "
            ],
            "text/html": [
              "\n",
              "  <div id=\"df-bd9e9382-cf41-47be-88b7-5daa1529a888\">\n",
              "    <div class=\"colab-df-container\">\n",
              "      <div>\n",
              "<style scoped>\n",
              "    .dataframe tbody tr th:only-of-type {\n",
              "        vertical-align: middle;\n",
              "    }\n",
              "\n",
              "    .dataframe tbody tr th {\n",
              "        vertical-align: top;\n",
              "    }\n",
              "\n",
              "    .dataframe thead th {\n",
              "        text-align: right;\n",
              "    }\n",
              "</style>\n",
              "<table border=\"1\" class=\"dataframe\">\n",
              "  <thead>\n",
              "    <tr style=\"text-align: right;\">\n",
              "      <th></th>\n",
              "      <th>enrollment_number</th>\n",
              "      <th>student_name</th>\n",
              "      <th>internal_marks_san</th>\n",
              "      <th>external_marks_san</th>\n",
              "      <th>total_marks_san</th>\n",
              "      <th>result_san</th>\n",
              "    </tr>\n",
              "  </thead>\n",
              "  <tbody>\n",
              "    <tr>\n",
              "      <th>0</th>\n",
              "      <td>1KG16CS025</td>\n",
              "      <td>DIVYA R D</td>\n",
              "      <td>25</td>\n",
              "      <td>21</td>\n",
              "      <td>46</td>\n",
              "      <td>PASS</td>\n",
              "    </tr>\n",
              "    <tr>\n",
              "      <th>1</th>\n",
              "      <td>1KG16CS054</td>\n",
              "      <td>M D MAHATAP PASHA</td>\n",
              "      <td>34</td>\n",
              "      <td>26</td>\n",
              "      <td>60</td>\n",
              "      <td>PASS</td>\n",
              "    </tr>\n",
              "    <tr>\n",
              "      <th>2</th>\n",
              "      <td>1KG16CS059</td>\n",
              "      <td>P YASHWANTH</td>\n",
              "      <td>33</td>\n",
              "      <td>32</td>\n",
              "      <td>65</td>\n",
              "      <td>PASS</td>\n",
              "    </tr>\n",
              "    <tr>\n",
              "      <th>3</th>\n",
              "      <td>1KG16CS113</td>\n",
              "      <td>V CHANDANA CHOWDARY</td>\n",
              "      <td>29</td>\n",
              "      <td>37</td>\n",
              "      <td>66</td>\n",
              "      <td>PASS</td>\n",
              "    </tr>\n",
              "    <tr>\n",
              "      <th>4</th>\n",
              "      <td>1KG17CS002</td>\n",
              "      <td>ABHIMANYU BANSAL</td>\n",
              "      <td>38</td>\n",
              "      <td>29</td>\n",
              "      <td>67</td>\n",
              "      <td>PASS</td>\n",
              "    </tr>\n",
              "  </tbody>\n",
              "</table>\n",
              "</div>\n",
              "      <button class=\"colab-df-convert\" onclick=\"convertToInteractive('df-bd9e9382-cf41-47be-88b7-5daa1529a888')\"\n",
              "              title=\"Convert this dataframe to an interactive table.\"\n",
              "              style=\"display:none;\">\n",
              "        \n",
              "  <svg xmlns=\"http://www.w3.org/2000/svg\" height=\"24px\"viewBox=\"0 0 24 24\"\n",
              "       width=\"24px\">\n",
              "    <path d=\"M0 0h24v24H0V0z\" fill=\"none\"/>\n",
              "    <path d=\"M18.56 5.44l.94 2.06.94-2.06 2.06-.94-2.06-.94-.94-2.06-.94 2.06-2.06.94zm-11 1L8.5 8.5l.94-2.06 2.06-.94-2.06-.94L8.5 2.5l-.94 2.06-2.06.94zm10 10l.94 2.06.94-2.06 2.06-.94-2.06-.94-.94-2.06-.94 2.06-2.06.94z\"/><path d=\"M17.41 7.96l-1.37-1.37c-.4-.4-.92-.59-1.43-.59-.52 0-1.04.2-1.43.59L10.3 9.45l-7.72 7.72c-.78.78-.78 2.05 0 2.83L4 21.41c.39.39.9.59 1.41.59.51 0 1.02-.2 1.41-.59l7.78-7.78 2.81-2.81c.8-.78.8-2.07 0-2.86zM5.41 20L4 18.59l7.72-7.72 1.47 1.35L5.41 20z\"/>\n",
              "  </svg>\n",
              "      </button>\n",
              "      \n",
              "  <style>\n",
              "    .colab-df-container {\n",
              "      display:flex;\n",
              "      flex-wrap:wrap;\n",
              "      gap: 12px;\n",
              "    }\n",
              "\n",
              "    .colab-df-convert {\n",
              "      background-color: #E8F0FE;\n",
              "      border: none;\n",
              "      border-radius: 50%;\n",
              "      cursor: pointer;\n",
              "      display: none;\n",
              "      fill: #1967D2;\n",
              "      height: 32px;\n",
              "      padding: 0 0 0 0;\n",
              "      width: 32px;\n",
              "    }\n",
              "\n",
              "    .colab-df-convert:hover {\n",
              "      background-color: #E2EBFA;\n",
              "      box-shadow: 0px 1px 2px rgba(60, 64, 67, 0.3), 0px 1px 3px 1px rgba(60, 64, 67, 0.15);\n",
              "      fill: #174EA6;\n",
              "    }\n",
              "\n",
              "    [theme=dark] .colab-df-convert {\n",
              "      background-color: #3B4455;\n",
              "      fill: #D2E3FC;\n",
              "    }\n",
              "\n",
              "    [theme=dark] .colab-df-convert:hover {\n",
              "      background-color: #434B5C;\n",
              "      box-shadow: 0px 1px 3px 1px rgba(0, 0, 0, 0.15);\n",
              "      filter: drop-shadow(0px 1px 2px rgba(0, 0, 0, 0.3));\n",
              "      fill: #FFFFFF;\n",
              "    }\n",
              "  </style>\n",
              "\n",
              "      <script>\n",
              "        const buttonEl =\n",
              "          document.querySelector('#df-bd9e9382-cf41-47be-88b7-5daa1529a888 button.colab-df-convert');\n",
              "        buttonEl.style.display =\n",
              "          google.colab.kernel.accessAllowed ? 'block' : 'none';\n",
              "\n",
              "        async function convertToInteractive(key) {\n",
              "          const element = document.querySelector('#df-bd9e9382-cf41-47be-88b7-5daa1529a888');\n",
              "          const dataTable =\n",
              "            await google.colab.kernel.invokeFunction('convertToInteractive',\n",
              "                                                     [key], {});\n",
              "          if (!dataTable) return;\n",
              "\n",
              "          const docLinkHtml = 'Like what you see? Visit the ' +\n",
              "            '<a target=\"_blank\" href=https://colab.research.google.com/notebooks/data_table.ipynb>data table notebook</a>'\n",
              "            + ' to learn more about interactive tables.';\n",
              "          element.innerHTML = '';\n",
              "          dataTable['output_type'] = 'display_data';\n",
              "          await google.colab.output.renderOutput(dataTable, element);\n",
              "          const docLink = document.createElement('div');\n",
              "          docLink.innerHTML = docLinkHtml;\n",
              "          element.appendChild(docLink);\n",
              "        }\n",
              "      </script>\n",
              "    </div>\n",
              "  </div>\n",
              "  "
            ]
          },
          "metadata": {},
          "execution_count": 245
        }
      ],
      "source": [
        "san_marks.head()"
      ]
    },
    {
      "cell_type": "code",
      "execution_count": null,
      "metadata": {
        "colab": {
          "base_uri": "https://localhost:8080/",
          "height": 206
        },
        "id": "cpSbuVsQp0Fp",
        "outputId": "57671fd0-44dd-42a9-a08e-3e412c65ba70"
      },
      "outputs": [
        {
          "output_type": "execute_result",
          "data": {
            "text/plain": [
              "   enrollment_number            student_name  internal_marks_san  \\\n",
              "90        1KG17CS106                 VIKAS B                  35   \n",
              "91        1KG17CS107          VINITH RAJ B U                  32   \n",
              "92        1KG17CS108                 VINOD N                  30   \n",
              "93        1KG17CS109  YASH KUMAR SINGH PATWA                  38   \n",
              "94        1KG17CS110             YASHASH T V                  35   \n",
              "\n",
              "    external_marks_san  total_marks_san result_san  \n",
              "90                  47               82       PASS  \n",
              "91                  32               64       PASS  \n",
              "92                  29               59       PASS  \n",
              "93                  45               83       PASS  \n",
              "94                  51               86       PASS  "
            ],
            "text/html": [
              "\n",
              "  <div id=\"df-0c17c858-262d-4695-9455-5afed77ba105\">\n",
              "    <div class=\"colab-df-container\">\n",
              "      <div>\n",
              "<style scoped>\n",
              "    .dataframe tbody tr th:only-of-type {\n",
              "        vertical-align: middle;\n",
              "    }\n",
              "\n",
              "    .dataframe tbody tr th {\n",
              "        vertical-align: top;\n",
              "    }\n",
              "\n",
              "    .dataframe thead th {\n",
              "        text-align: right;\n",
              "    }\n",
              "</style>\n",
              "<table border=\"1\" class=\"dataframe\">\n",
              "  <thead>\n",
              "    <tr style=\"text-align: right;\">\n",
              "      <th></th>\n",
              "      <th>enrollment_number</th>\n",
              "      <th>student_name</th>\n",
              "      <th>internal_marks_san</th>\n",
              "      <th>external_marks_san</th>\n",
              "      <th>total_marks_san</th>\n",
              "      <th>result_san</th>\n",
              "    </tr>\n",
              "  </thead>\n",
              "  <tbody>\n",
              "    <tr>\n",
              "      <th>90</th>\n",
              "      <td>1KG17CS106</td>\n",
              "      <td>VIKAS B</td>\n",
              "      <td>35</td>\n",
              "      <td>47</td>\n",
              "      <td>82</td>\n",
              "      <td>PASS</td>\n",
              "    </tr>\n",
              "    <tr>\n",
              "      <th>91</th>\n",
              "      <td>1KG17CS107</td>\n",
              "      <td>VINITH RAJ B U</td>\n",
              "      <td>32</td>\n",
              "      <td>32</td>\n",
              "      <td>64</td>\n",
              "      <td>PASS</td>\n",
              "    </tr>\n",
              "    <tr>\n",
              "      <th>92</th>\n",
              "      <td>1KG17CS108</td>\n",
              "      <td>VINOD N</td>\n",
              "      <td>30</td>\n",
              "      <td>29</td>\n",
              "      <td>59</td>\n",
              "      <td>PASS</td>\n",
              "    </tr>\n",
              "    <tr>\n",
              "      <th>93</th>\n",
              "      <td>1KG17CS109</td>\n",
              "      <td>YASH KUMAR SINGH PATWA</td>\n",
              "      <td>38</td>\n",
              "      <td>45</td>\n",
              "      <td>83</td>\n",
              "      <td>PASS</td>\n",
              "    </tr>\n",
              "    <tr>\n",
              "      <th>94</th>\n",
              "      <td>1KG17CS110</td>\n",
              "      <td>YASHASH T V</td>\n",
              "      <td>35</td>\n",
              "      <td>51</td>\n",
              "      <td>86</td>\n",
              "      <td>PASS</td>\n",
              "    </tr>\n",
              "  </tbody>\n",
              "</table>\n",
              "</div>\n",
              "      <button class=\"colab-df-convert\" onclick=\"convertToInteractive('df-0c17c858-262d-4695-9455-5afed77ba105')\"\n",
              "              title=\"Convert this dataframe to an interactive table.\"\n",
              "              style=\"display:none;\">\n",
              "        \n",
              "  <svg xmlns=\"http://www.w3.org/2000/svg\" height=\"24px\"viewBox=\"0 0 24 24\"\n",
              "       width=\"24px\">\n",
              "    <path d=\"M0 0h24v24H0V0z\" fill=\"none\"/>\n",
              "    <path d=\"M18.56 5.44l.94 2.06.94-2.06 2.06-.94-2.06-.94-.94-2.06-.94 2.06-2.06.94zm-11 1L8.5 8.5l.94-2.06 2.06-.94-2.06-.94L8.5 2.5l-.94 2.06-2.06.94zm10 10l.94 2.06.94-2.06 2.06-.94-2.06-.94-.94-2.06-.94 2.06-2.06.94z\"/><path d=\"M17.41 7.96l-1.37-1.37c-.4-.4-.92-.59-1.43-.59-.52 0-1.04.2-1.43.59L10.3 9.45l-7.72 7.72c-.78.78-.78 2.05 0 2.83L4 21.41c.39.39.9.59 1.41.59.51 0 1.02-.2 1.41-.59l7.78-7.78 2.81-2.81c.8-.78.8-2.07 0-2.86zM5.41 20L4 18.59l7.72-7.72 1.47 1.35L5.41 20z\"/>\n",
              "  </svg>\n",
              "      </button>\n",
              "      \n",
              "  <style>\n",
              "    .colab-df-container {\n",
              "      display:flex;\n",
              "      flex-wrap:wrap;\n",
              "      gap: 12px;\n",
              "    }\n",
              "\n",
              "    .colab-df-convert {\n",
              "      background-color: #E8F0FE;\n",
              "      border: none;\n",
              "      border-radius: 50%;\n",
              "      cursor: pointer;\n",
              "      display: none;\n",
              "      fill: #1967D2;\n",
              "      height: 32px;\n",
              "      padding: 0 0 0 0;\n",
              "      width: 32px;\n",
              "    }\n",
              "\n",
              "    .colab-df-convert:hover {\n",
              "      background-color: #E2EBFA;\n",
              "      box-shadow: 0px 1px 2px rgba(60, 64, 67, 0.3), 0px 1px 3px 1px rgba(60, 64, 67, 0.15);\n",
              "      fill: #174EA6;\n",
              "    }\n",
              "\n",
              "    [theme=dark] .colab-df-convert {\n",
              "      background-color: #3B4455;\n",
              "      fill: #D2E3FC;\n",
              "    }\n",
              "\n",
              "    [theme=dark] .colab-df-convert:hover {\n",
              "      background-color: #434B5C;\n",
              "      box-shadow: 0px 1px 3px 1px rgba(0, 0, 0, 0.15);\n",
              "      filter: drop-shadow(0px 1px 2px rgba(0, 0, 0, 0.3));\n",
              "      fill: #FFFFFF;\n",
              "    }\n",
              "  </style>\n",
              "\n",
              "      <script>\n",
              "        const buttonEl =\n",
              "          document.querySelector('#df-0c17c858-262d-4695-9455-5afed77ba105 button.colab-df-convert');\n",
              "        buttonEl.style.display =\n",
              "          google.colab.kernel.accessAllowed ? 'block' : 'none';\n",
              "\n",
              "        async function convertToInteractive(key) {\n",
              "          const element = document.querySelector('#df-0c17c858-262d-4695-9455-5afed77ba105');\n",
              "          const dataTable =\n",
              "            await google.colab.kernel.invokeFunction('convertToInteractive',\n",
              "                                                     [key], {});\n",
              "          if (!dataTable) return;\n",
              "\n",
              "          const docLinkHtml = 'Like what you see? Visit the ' +\n",
              "            '<a target=\"_blank\" href=https://colab.research.google.com/notebooks/data_table.ipynb>data table notebook</a>'\n",
              "            + ' to learn more about interactive tables.';\n",
              "          element.innerHTML = '';\n",
              "          dataTable['output_type'] = 'display_data';\n",
              "          await google.colab.output.renderOutput(dataTable, element);\n",
              "          const docLink = document.createElement('div');\n",
              "          docLink.innerHTML = docLinkHtml;\n",
              "          element.appendChild(docLink);\n",
              "        }\n",
              "      </script>\n",
              "    </div>\n",
              "  </div>\n",
              "  "
            ]
          },
          "metadata": {},
          "execution_count": 246
        }
      ],
      "source": [
        "san_marks.tail()"
      ]
    },
    {
      "cell_type": "code",
      "execution_count": null,
      "metadata": {
        "colab": {
          "base_uri": "https://localhost:8080/"
        },
        "id": "clusJgJxp0Fp",
        "outputId": "199f19d3-1d56-48c6-facd-27aa3eea1229"
      },
      "outputs": [
        {
          "output_type": "execute_result",
          "data": {
            "text/plain": [
              "(95, 6)"
            ]
          },
          "metadata": {},
          "execution_count": 247
        }
      ],
      "source": [
        "san_marks.shape"
      ]
    },
    {
      "cell_type": "code",
      "execution_count": null,
      "metadata": {
        "colab": {
          "base_uri": "https://localhost:8080/"
        },
        "id": "bIdX8xGRp0Fq",
        "outputId": "e96a72dc-4b54-4c64-ed5f-d0ab715c55c5"
      },
      "outputs": [
        {
          "output_type": "execute_result",
          "data": {
            "text/plain": [
              "Index(['enrollment_number', 'student_name', 'internal_marks_san',\n",
              "       'external_marks_san', 'total_marks_san', 'result_san'],\n",
              "      dtype='object')"
            ]
          },
          "metadata": {},
          "execution_count": 248
        }
      ],
      "source": [
        "san_marks.columns"
      ]
    },
    {
      "cell_type": "code",
      "execution_count": null,
      "metadata": {
        "colab": {
          "base_uri": "https://localhost:8080/"
        },
        "id": "QSDCTgWnp0Fq",
        "outputId": "fbee6735-f07a-47c3-f7a9-e7891d843c01"
      },
      "outputs": [
        {
          "output_type": "stream",
          "name": "stdout",
          "text": [
            "<class 'pandas.core.frame.DataFrame'>\n",
            "RangeIndex: 95 entries, 0 to 94\n",
            "Data columns (total 6 columns):\n",
            " #   Column              Non-Null Count  Dtype \n",
            "---  ------              --------------  ----- \n",
            " 0   enrollment_number   95 non-null     object\n",
            " 1   student_name        95 non-null     object\n",
            " 2   internal_marks_san  95 non-null     int64 \n",
            " 3   external_marks_san  95 non-null     int64 \n",
            " 4   total_marks_san     95 non-null     int64 \n",
            " 5   result_san          95 non-null     object\n",
            "dtypes: int64(3), object(3)\n",
            "memory usage: 4.6+ KB\n"
          ]
        }
      ],
      "source": [
        "san_marks.info()"
      ]
    },
    {
      "cell_type": "code",
      "execution_count": null,
      "metadata": {
        "colab": {
          "base_uri": "https://localhost:8080/",
          "height": 301
        },
        "id": "p1TbRKo5p0Fq",
        "outputId": "fb5433ad-fcab-424b-9945-d4b7b63c074d"
      },
      "outputs": [
        {
          "output_type": "execute_result",
          "data": {
            "text/plain": [
              "       internal_marks_san  external_marks_san  total_marks_san\n",
              "count           95.000000           95.000000        95.000000\n",
              "mean            34.610526           33.715789        68.326316\n",
              "std              4.000784            6.975128         9.403985\n",
              "min             25.000000           21.000000        46.000000\n",
              "25%             31.000000           29.000000        61.000000\n",
              "50%             35.000000           33.000000        67.000000\n",
              "75%             38.000000           38.000000        75.000000\n",
              "max             40.000000           51.000000        89.000000"
            ],
            "text/html": [
              "\n",
              "  <div id=\"df-646427a0-399c-451e-9fbe-6920cf190139\">\n",
              "    <div class=\"colab-df-container\">\n",
              "      <div>\n",
              "<style scoped>\n",
              "    .dataframe tbody tr th:only-of-type {\n",
              "        vertical-align: middle;\n",
              "    }\n",
              "\n",
              "    .dataframe tbody tr th {\n",
              "        vertical-align: top;\n",
              "    }\n",
              "\n",
              "    .dataframe thead th {\n",
              "        text-align: right;\n",
              "    }\n",
              "</style>\n",
              "<table border=\"1\" class=\"dataframe\">\n",
              "  <thead>\n",
              "    <tr style=\"text-align: right;\">\n",
              "      <th></th>\n",
              "      <th>internal_marks_san</th>\n",
              "      <th>external_marks_san</th>\n",
              "      <th>total_marks_san</th>\n",
              "    </tr>\n",
              "  </thead>\n",
              "  <tbody>\n",
              "    <tr>\n",
              "      <th>count</th>\n",
              "      <td>95.000000</td>\n",
              "      <td>95.000000</td>\n",
              "      <td>95.000000</td>\n",
              "    </tr>\n",
              "    <tr>\n",
              "      <th>mean</th>\n",
              "      <td>34.610526</td>\n",
              "      <td>33.715789</td>\n",
              "      <td>68.326316</td>\n",
              "    </tr>\n",
              "    <tr>\n",
              "      <th>std</th>\n",
              "      <td>4.000784</td>\n",
              "      <td>6.975128</td>\n",
              "      <td>9.403985</td>\n",
              "    </tr>\n",
              "    <tr>\n",
              "      <th>min</th>\n",
              "      <td>25.000000</td>\n",
              "      <td>21.000000</td>\n",
              "      <td>46.000000</td>\n",
              "    </tr>\n",
              "    <tr>\n",
              "      <th>25%</th>\n",
              "      <td>31.000000</td>\n",
              "      <td>29.000000</td>\n",
              "      <td>61.000000</td>\n",
              "    </tr>\n",
              "    <tr>\n",
              "      <th>50%</th>\n",
              "      <td>35.000000</td>\n",
              "      <td>33.000000</td>\n",
              "      <td>67.000000</td>\n",
              "    </tr>\n",
              "    <tr>\n",
              "      <th>75%</th>\n",
              "      <td>38.000000</td>\n",
              "      <td>38.000000</td>\n",
              "      <td>75.000000</td>\n",
              "    </tr>\n",
              "    <tr>\n",
              "      <th>max</th>\n",
              "      <td>40.000000</td>\n",
              "      <td>51.000000</td>\n",
              "      <td>89.000000</td>\n",
              "    </tr>\n",
              "  </tbody>\n",
              "</table>\n",
              "</div>\n",
              "      <button class=\"colab-df-convert\" onclick=\"convertToInteractive('df-646427a0-399c-451e-9fbe-6920cf190139')\"\n",
              "              title=\"Convert this dataframe to an interactive table.\"\n",
              "              style=\"display:none;\">\n",
              "        \n",
              "  <svg xmlns=\"http://www.w3.org/2000/svg\" height=\"24px\"viewBox=\"0 0 24 24\"\n",
              "       width=\"24px\">\n",
              "    <path d=\"M0 0h24v24H0V0z\" fill=\"none\"/>\n",
              "    <path d=\"M18.56 5.44l.94 2.06.94-2.06 2.06-.94-2.06-.94-.94-2.06-.94 2.06-2.06.94zm-11 1L8.5 8.5l.94-2.06 2.06-.94-2.06-.94L8.5 2.5l-.94 2.06-2.06.94zm10 10l.94 2.06.94-2.06 2.06-.94-2.06-.94-.94-2.06-.94 2.06-2.06.94z\"/><path d=\"M17.41 7.96l-1.37-1.37c-.4-.4-.92-.59-1.43-.59-.52 0-1.04.2-1.43.59L10.3 9.45l-7.72 7.72c-.78.78-.78 2.05 0 2.83L4 21.41c.39.39.9.59 1.41.59.51 0 1.02-.2 1.41-.59l7.78-7.78 2.81-2.81c.8-.78.8-2.07 0-2.86zM5.41 20L4 18.59l7.72-7.72 1.47 1.35L5.41 20z\"/>\n",
              "  </svg>\n",
              "      </button>\n",
              "      \n",
              "  <style>\n",
              "    .colab-df-container {\n",
              "      display:flex;\n",
              "      flex-wrap:wrap;\n",
              "      gap: 12px;\n",
              "    }\n",
              "\n",
              "    .colab-df-convert {\n",
              "      background-color: #E8F0FE;\n",
              "      border: none;\n",
              "      border-radius: 50%;\n",
              "      cursor: pointer;\n",
              "      display: none;\n",
              "      fill: #1967D2;\n",
              "      height: 32px;\n",
              "      padding: 0 0 0 0;\n",
              "      width: 32px;\n",
              "    }\n",
              "\n",
              "    .colab-df-convert:hover {\n",
              "      background-color: #E2EBFA;\n",
              "      box-shadow: 0px 1px 2px rgba(60, 64, 67, 0.3), 0px 1px 3px 1px rgba(60, 64, 67, 0.15);\n",
              "      fill: #174EA6;\n",
              "    }\n",
              "\n",
              "    [theme=dark] .colab-df-convert {\n",
              "      background-color: #3B4455;\n",
              "      fill: #D2E3FC;\n",
              "    }\n",
              "\n",
              "    [theme=dark] .colab-df-convert:hover {\n",
              "      background-color: #434B5C;\n",
              "      box-shadow: 0px 1px 3px 1px rgba(0, 0, 0, 0.15);\n",
              "      filter: drop-shadow(0px 1px 2px rgba(0, 0, 0, 0.3));\n",
              "      fill: #FFFFFF;\n",
              "    }\n",
              "  </style>\n",
              "\n",
              "      <script>\n",
              "        const buttonEl =\n",
              "          document.querySelector('#df-646427a0-399c-451e-9fbe-6920cf190139 button.colab-df-convert');\n",
              "        buttonEl.style.display =\n",
              "          google.colab.kernel.accessAllowed ? 'block' : 'none';\n",
              "\n",
              "        async function convertToInteractive(key) {\n",
              "          const element = document.querySelector('#df-646427a0-399c-451e-9fbe-6920cf190139');\n",
              "          const dataTable =\n",
              "            await google.colab.kernel.invokeFunction('convertToInteractive',\n",
              "                                                     [key], {});\n",
              "          if (!dataTable) return;\n",
              "\n",
              "          const docLinkHtml = 'Like what you see? Visit the ' +\n",
              "            '<a target=\"_blank\" href=https://colab.research.google.com/notebooks/data_table.ipynb>data table notebook</a>'\n",
              "            + ' to learn more about interactive tables.';\n",
              "          element.innerHTML = '';\n",
              "          dataTable['output_type'] = 'display_data';\n",
              "          await google.colab.output.renderOutput(dataTable, element);\n",
              "          const docLink = document.createElement('div');\n",
              "          docLink.innerHTML = docLinkHtml;\n",
              "          element.appendChild(docLink);\n",
              "        }\n",
              "      </script>\n",
              "    </div>\n",
              "  </div>\n",
              "  "
            ]
          },
          "metadata": {},
          "execution_count": 250
        }
      ],
      "source": [
        "san_marks.describe()"
      ]
    },
    {
      "cell_type": "code",
      "execution_count": null,
      "metadata": {
        "colab": {
          "base_uri": "https://localhost:8080/"
        },
        "id": "Rftz3gH_p0Fq",
        "outputId": "d0e69e48-1c47-4837-b03f-12566fc5c46d"
      },
      "outputs": [
        {
          "output_type": "execute_result",
          "data": {
            "text/plain": [
              "enrollment_number     0\n",
              "student_name          0\n",
              "internal_marks_san    0\n",
              "external_marks_san    0\n",
              "total_marks_san       0\n",
              "result_san            0\n",
              "dtype: int64"
            ]
          },
          "metadata": {},
          "execution_count": 251
        }
      ],
      "source": [
        "san_marks.isnull().sum()"
      ]
    },
    {
      "cell_type": "code",
      "execution_count": null,
      "metadata": {
        "id": "3_yls7wKp0Fq"
      },
      "outputs": [],
      "source": [
        "san_marks['percentage'] = san_marks['total_marks_san'].div(100).round(2)"
      ]
    },
    {
      "cell_type": "code",
      "execution_count": null,
      "metadata": {
        "id": "CVG830KHp0Fr"
      },
      "outputs": [],
      "source": [
        "conditions = [\n",
        "    (san_marks['percentage'] > 0.7),\n",
        "    (san_marks['percentage'] >= 0.5) & (san_marks['percentage'] < 0.69),\n",
        "    (san_marks['percentage'] >= 0.35) & (san_marks['percentage'] < 0.49),\n",
        "    (san_marks['percentage'] < 0.35)\n",
        "]\n",
        "\n",
        "values = [0, 1, 2, 3]\n",
        "\n",
        "san_marks['time_per_day'] = np.select(conditions, values)"
      ]
    },
    {
      "cell_type": "code",
      "execution_count": null,
      "metadata": {
        "id": "yorHLXZ4p0Fr"
      },
      "outputs": [],
      "source": [
        "data5 = ['result_san']\n",
        "for i in data5:\n",
        "    san_marks[i] = le.fit_transform(san_marks[i])"
      ]
    },
    {
      "cell_type": "code",
      "execution_count": null,
      "metadata": {
        "id": "h9GRmYSOp0Fr"
      },
      "outputs": [],
      "source": [
        "x_san= san_marks.drop(['enrollment_number', 'student_name', 'total_marks_san',\n",
        "                   'time_per_day', 'result_san', 'internal_marks_san',\n",
        "                   'external_marks_san'], axis = 1)  \n",
        "y_san= san_marks['time_per_day']"
      ]
    },
    {
      "cell_type": "code",
      "execution_count": null,
      "metadata": {
        "id": "75XaxJ4Tp0Fr"
      },
      "outputs": [],
      "source": [
        "x_train_san = x_san.iloc[:75]"
      ]
    },
    {
      "cell_type": "code",
      "execution_count": null,
      "metadata": {
        "id": "ghSrlu78p0Fs"
      },
      "outputs": [],
      "source": [
        "y_train_san = y_san.iloc[:75]"
      ]
    },
    {
      "cell_type": "code",
      "execution_count": null,
      "metadata": {
        "id": "8UA8GVAdp0Fs"
      },
      "outputs": [],
      "source": [
        "x_test_san = x_san.iloc[75:96]"
      ]
    },
    {
      "cell_type": "code",
      "execution_count": null,
      "metadata": {
        "id": "kvN34r-4p0Fs"
      },
      "outputs": [],
      "source": [
        "y_test_san = y_san.iloc[75:96]"
      ]
    },
    {
      "cell_type": "code",
      "execution_count": null,
      "metadata": {
        "colab": {
          "base_uri": "https://localhost:8080/"
        },
        "id": "WX84NLOkp0Fs",
        "outputId": "92c73164-edd8-4a0d-aa8c-bdf3d16343a1"
      },
      "outputs": [
        {
          "output_type": "execute_result",
          "data": {
            "text/plain": [
              "SVR()"
            ]
          },
          "metadata": {},
          "execution_count": 260
        }
      ],
      "source": [
        "svregressor.fit(x_train_san, y_train_san)"
      ]
    },
    {
      "cell_type": "code",
      "execution_count": null,
      "metadata": {
        "colab": {
          "base_uri": "https://localhost:8080/"
        },
        "id": "NzYHIBZBp0Ft",
        "outputId": "15123841-09f1-40e8-b780-1d00316760a2"
      },
      "outputs": [
        {
          "output_type": "stream",
          "name": "stdout",
          "text": [
            "Training Accuracy : 0.7988921069807298\n",
            "Testing Accuracy : 0.842647443231614\n"
          ]
        }
      ],
      "source": [
        "print(\"Training Accuracy :\", svregressor.score(x_train_san, y_train_san))\n",
        "print(\"Testing Accuracy :\", svregressor.score(x_test_san, y_test_san))"
      ]
    },
    {
      "cell_type": "code",
      "execution_count": null,
      "metadata": {
        "colab": {
          "base_uri": "https://localhost:8080/"
        },
        "id": "T-TfxCOup0Ft",
        "outputId": "0ddd24b0-abb4-43ae-b42e-2f310ba27568"
      },
      "outputs": [
        {
          "output_type": "execute_result",
          "data": {
            "text/plain": [
              "LinearRegression()"
            ]
          },
          "metadata": {},
          "execution_count": 262
        }
      ],
      "source": [
        "liregressor.fit(x_train_san, y_train_san)"
      ]
    },
    {
      "cell_type": "code",
      "execution_count": null,
      "metadata": {
        "colab": {
          "base_uri": "https://localhost:8080/"
        },
        "id": "eavFulvLp0Ft",
        "outputId": "938fed45-ba1e-4cb9-9ee7-930a61501a2b"
      },
      "outputs": [
        {
          "output_type": "stream",
          "name": "stdout",
          "text": [
            "Training Accuracy : 0.6070488681409869\n",
            "Testing Accuracy : 0.660300952346401\n"
          ]
        }
      ],
      "source": [
        "print(\"Training Accuracy :\", liregressor.score(x_train_san, y_train_san))\n",
        "print(\"Testing Accuracy :\", liregressor.score(x_test_san, y_test_san))"
      ]
    },
    {
      "cell_type": "code",
      "execution_count": null,
      "metadata": {
        "colab": {
          "base_uri": "https://localhost:8080/"
        },
        "id": "B2tJw5Dkp0Ft",
        "outputId": "1696a23c-c79a-4f58-c96b-3fcb5c321ede"
      },
      "outputs": [
        {
          "output_type": "execute_result",
          "data": {
            "text/plain": [
              "LogisticRegression()"
            ]
          },
          "metadata": {},
          "execution_count": 264
        }
      ],
      "source": [
        "loregressor.fit(x_train_san, y_train_san)"
      ]
    },
    {
      "cell_type": "code",
      "execution_count": null,
      "metadata": {
        "colab": {
          "base_uri": "https://localhost:8080/"
        },
        "id": "xhip1JRxp0Ft",
        "outputId": "87e4e08e-61eb-45cb-9fce-a0c478949b18"
      },
      "outputs": [
        {
          "output_type": "stream",
          "name": "stdout",
          "text": [
            "Training Accuracy : 0.92\n",
            "Testing Accuracy : 0.9\n"
          ]
        }
      ],
      "source": [
        "print(\"Training Accuracy :\", loregressor.score(x_train_san, y_train_san))\n",
        "print(\"Testing Accuracy :\", loregressor.score(x_test_san, y_test_san))"
      ]
    },
    {
      "cell_type": "code",
      "execution_count": null,
      "metadata": {
        "colab": {
          "base_uri": "https://localhost:8080/"
        },
        "id": "xLvCzTQ4p0Fu",
        "outputId": "b930ffe9-b3b5-4890-dd51-91f7af1252db"
      },
      "outputs": [
        {
          "output_type": "execute_result",
          "data": {
            "text/plain": [
              "DecisionTreeRegressor()"
            ]
          },
          "metadata": {},
          "execution_count": 266
        }
      ],
      "source": [
        "dtregressor.fit(x_train_san, y_train_san)"
      ]
    },
    {
      "cell_type": "code",
      "execution_count": null,
      "metadata": {
        "colab": {
          "base_uri": "https://localhost:8080/"
        },
        "id": "GxaDeYInp0Fu",
        "outputId": "9d89d580-583f-44e7-e5a9-7f9b516aa999"
      },
      "outputs": [
        {
          "output_type": "stream",
          "name": "stdout",
          "text": [
            "Training Accuracy : 1.0\n",
            "Testing Accuracy : 1.0\n"
          ]
        }
      ],
      "source": [
        "print(\"Training Accuracy :\", dtregressor.score(x_train_san, y_train_san))\n",
        "print(\"Testing Accuracy :\", dtregressor.score(x_test_san, y_test_san))"
      ]
    },
    {
      "cell_type": "code",
      "execution_count": null,
      "metadata": {
        "colab": {
          "base_uri": "https://localhost:8080/"
        },
        "id": "V9MCc93Gp0Fu",
        "outputId": "68613e2a-15d4-41c3-cf45-2cdb0e58c6ce"
      },
      "outputs": [
        {
          "output_type": "execute_result",
          "data": {
            "text/plain": [
              "RandomForestRegressor()"
            ]
          },
          "metadata": {},
          "execution_count": 268
        }
      ],
      "source": [
        "rfregressor.fit(x_train_san, y_train_san)"
      ]
    },
    {
      "cell_type": "code",
      "execution_count": null,
      "metadata": {
        "colab": {
          "base_uri": "https://localhost:8080/"
        },
        "id": "fpS8VWAGp0Fu",
        "outputId": "fd365ab0-d7bc-4707-8177-d34dc84e315f"
      },
      "outputs": [
        {
          "output_type": "stream",
          "name": "stdout",
          "text": [
            "Training Accuracy : 0.9802774193548387\n",
            "Testing Accuracy : 0.9891515151515151\n"
          ]
        }
      ],
      "source": [
        "print(\"Training Accuracy :\", rfregressor.score(x_train_san, y_train_san))\n",
        "print(\"Testing Accuracy :\", rfregressor.score(x_test_san, y_test_san))"
      ]
    },
    {
      "cell_type": "code",
      "execution_count": null,
      "metadata": {
        "colab": {
          "base_uri": "https://localhost:8080/"
        },
        "id": "QHKz1xerp0Fv",
        "outputId": "67f746f5-979b-462e-f774-03a1a630373a"
      },
      "outputs": [
        {
          "output_type": "execute_result",
          "data": {
            "text/plain": [
              "array([0.72902299, 0.86854401, 0.59256834])"
            ]
          },
          "metadata": {},
          "execution_count": 270
        }
      ],
      "source": [
        "cross_val_score(SVR(),x_san, y_san, cv = 3)"
      ]
    },
    {
      "cell_type": "code",
      "execution_count": null,
      "metadata": {
        "colab": {
          "base_uri": "https://localhost:8080/"
        },
        "id": "wM2UEh-pp0Fv",
        "outputId": "6714fb63-a898-43d5-9d3d-aae021b66359"
      },
      "outputs": [
        {
          "output_type": "execute_result",
          "data": {
            "text/plain": [
              "array([0.73114852, 0.64478285, 0.33568649])"
            ]
          },
          "metadata": {},
          "execution_count": 271
        }
      ],
      "source": [
        "cross_val_score(LinearRegression(),x_san, y_san, cv = 3)"
      ]
    },
    {
      "cell_type": "code",
      "execution_count": null,
      "metadata": {
        "colab": {
          "base_uri": "https://localhost:8080/"
        },
        "id": "THc4LkzBp0Fv",
        "outputId": "afc031fd-f64a-4419-9e85-6f7e20f0d105"
      },
      "outputs": [
        {
          "output_type": "execute_result",
          "data": {
            "text/plain": [
              "array([0.84375   , 0.9375    , 0.80645161])"
            ]
          },
          "metadata": {},
          "execution_count": 272
        }
      ],
      "source": [
        "cross_val_score(LogisticRegression(),x_san, y_san, cv = 3)"
      ]
    },
    {
      "cell_type": "code",
      "execution_count": null,
      "metadata": {
        "colab": {
          "base_uri": "https://localhost:8080/"
        },
        "id": "Js456p13p0Fv",
        "outputId": "4d37e6e1-f2dd-4e63-adfc-fff09f016269"
      },
      "outputs": [
        {
          "output_type": "execute_result",
          "data": {
            "text/plain": [
              "array([0.57894737, 1.        , 0.8697479 ])"
            ]
          },
          "metadata": {},
          "execution_count": 273
        }
      ],
      "source": [
        "cross_val_score(DecisionTreeRegressor(),x_san, y_san, cv = 3)"
      ]
    },
    {
      "cell_type": "code",
      "execution_count": null,
      "metadata": {
        "colab": {
          "base_uri": "https://localhost:8080/"
        },
        "id": "PAaySbTRp0Fv",
        "outputId": "a8dc8ab0-b7e6-40c6-8e8d-44dd5a43dfcb"
      },
      "outputs": [
        {
          "output_type": "execute_result",
          "data": {
            "text/plain": [
              "array([0.73388421, 0.9991619 , 0.80776092])"
            ]
          },
          "metadata": {},
          "execution_count": 274
        }
      ],
      "source": [
        "cross_val_score(RandomForestRegressor(),x_san, y_san, cv = 3)"
      ]
    },
    {
      "cell_type": "code",
      "execution_count": null,
      "metadata": {
        "id": "I_D54qT-p0Fw"
      },
      "outputs": [],
      "source": [
        "def time_predict_san(percentage):\n",
        "    x=np.zeros(len(x_san.columns))\n",
        "    x[0]=percentage\n",
        "    return svregressor.predict([x])[0]"
      ]
    },
    {
      "cell_type": "code",
      "execution_count": null,
      "metadata": {
        "colab": {
          "base_uri": "https://localhost:8080/"
        },
        "id": "n18wG-ejp0Fw",
        "outputId": "e3f0e121-a09b-4f86-8d71-d655e8429b8f"
      },
      "outputs": [
        {
          "output_type": "execute_result",
          "data": {
            "text/plain": [
              "0.9524553926066414"
            ]
          },
          "metadata": {},
          "execution_count": 276
        }
      ],
      "source": [
        "time_predict_san(0.48)"
      ]
    },
    {
      "cell_type": "code",
      "execution_count": null,
      "metadata": {
        "id": "TXsq0TqRp0Fw"
      },
      "outputs": [],
      "source": [
        "def time_predict_san(percentage):\n",
        "    x=np.zeros(len(x_san.columns))\n",
        "    x[0]=percentage\n",
        "    return liregressor.predict([x])[0]"
      ]
    },
    {
      "cell_type": "code",
      "execution_count": null,
      "metadata": {
        "colab": {
          "base_uri": "https://localhost:8080/"
        },
        "id": "Go32AFHEp0Fw",
        "outputId": "131bcdd0-4b93-41d3-d294-38255ba98707"
      },
      "outputs": [
        {
          "output_type": "execute_result",
          "data": {
            "text/plain": [
              "1.4321717741108948"
            ]
          },
          "metadata": {},
          "execution_count": 278
        }
      ],
      "source": [
        "time_predict_san(0.48)"
      ]
    },
    {
      "cell_type": "code",
      "execution_count": null,
      "metadata": {
        "id": "cuDfLBi0p0Fx"
      },
      "outputs": [],
      "source": [
        "def time_predict_san(percentage):\n",
        "    x=np.zeros(len(x_san.columns))\n",
        "    x[0]=percentage\n",
        "    return loregressor.predict([x])[0]"
      ]
    },
    {
      "cell_type": "code",
      "execution_count": null,
      "metadata": {
        "colab": {
          "base_uri": "https://localhost:8080/"
        },
        "id": "hSYPUY1tp0Fx",
        "outputId": "d2fe7338-e0c8-4be5-b6ba-3fedc55237f6"
      },
      "outputs": [
        {
          "output_type": "execute_result",
          "data": {
            "text/plain": [
              "1"
            ]
          },
          "metadata": {},
          "execution_count": 280
        }
      ],
      "source": [
        "time_predict_san(0.48)"
      ]
    },
    {
      "cell_type": "code",
      "execution_count": null,
      "metadata": {
        "id": "5imeu1-up0Fx"
      },
      "outputs": [],
      "source": [
        "def time_predict_san(percentage):\n",
        "    x=np.zeros(len(x_san.columns))\n",
        "    x[0]=percentage\n",
        "    return dtregressor.predict([x])[0]"
      ]
    },
    {
      "cell_type": "code",
      "execution_count": null,
      "metadata": {
        "colab": {
          "base_uri": "https://localhost:8080/"
        },
        "id": "JYzj7aI8p0Fx",
        "outputId": "b8de3d34-71da-47a0-edca-a22c655f16c8"
      },
      "outputs": [
        {
          "output_type": "execute_result",
          "data": {
            "text/plain": [
              "0.0"
            ]
          },
          "metadata": {},
          "execution_count": 282
        }
      ],
      "source": [
        "time_predict_san(0.48)"
      ]
    },
    {
      "cell_type": "code",
      "execution_count": null,
      "metadata": {
        "id": "yIiVzAS0p0Fx"
      },
      "outputs": [],
      "source": [
        "def time_predict_san(percentage):\n",
        "    x=np.zeros(len(x_san.columns))\n",
        "    x[0]=percentage\n",
        "    return rfregressor.predict([x])[0]"
      ]
    },
    {
      "cell_type": "code",
      "execution_count": null,
      "metadata": {
        "colab": {
          "base_uri": "https://localhost:8080/"
        },
        "id": "fEtVwPIxp0Fy",
        "outputId": "e3e2491f-c220-40b7-8ad1-21d1b794cb8b"
      },
      "outputs": [
        {
          "output_type": "execute_result",
          "data": {
            "text/plain": [
              "0.59"
            ]
          },
          "metadata": {},
          "execution_count": 284
        }
      ],
      "source": [
        "time_predict_san(0.48)"
      ]
    },
    {
      "cell_type": "code",
      "execution_count": null,
      "metadata": {
        "id": "9rrfc3z5p0Fy"
      },
      "outputs": [],
      "source": [
        "cc_marks.to_csv('cc_marks1.csv')"
      ]
    },
    {
      "cell_type": "code",
      "execution_count": null,
      "metadata": {
        "id": "hewBpiKrp0Fy"
      },
      "outputs": [],
      "source": [
        "result = pd.read_csv('result.csv')"
      ]
    },
    {
      "cell_type": "code",
      "execution_count": null,
      "metadata": {
        "id": "J66HRj4bp0Fy"
      },
      "outputs": [],
      "source": [
        "final_result = result[['roll_num','name','web_total', 'cc_total', 'aca_total',\n",
        "                      'ml_total', 'san_total', 'ml_lab_total', 'wta_lab_total',\n",
        "                      'csp_lab_total', 'overall_total', 'overall_result']].copy()"
      ]
    },
    {
      "cell_type": "code",
      "execution_count": null,
      "metadata": {
        "colab": {
          "base_uri": "https://localhost:8080/",
          "height": 206
        },
        "id": "piHPtv82p0Fy",
        "outputId": "8c0285b3-9ee2-40bd-9692-82ad80aa2805"
      },
      "outputs": [
        {
          "output_type": "execute_result",
          "data": {
            "text/plain": [
              "     roll_num                 name  web_total  cc_total  aca_total  ml_total  \\\n",
              "0  1KG16CS025            DIVYA R D         32        42         45        28   \n",
              "1  1KG16CS054    M D MAHATAP PASHA         67        57         62        59   \n",
              "2  1KG16CS059          P YASHWANTH         35        44         51        47   \n",
              "3  1KG16CS113  V CHANDANA CHOWDARY         54        54         51        48   \n",
              "4  1KG17CS002     ABHIMANYU BANSAL         60        57         66        49   \n",
              "\n",
              "   san_total  ml_lab_total  wta_lab_total  csp_lab_total  overall_total  \\\n",
              "0         46            54             82             83            412   \n",
              "1         60            50             98             90            543   \n",
              "2         65            47             70             93            452   \n",
              "3         66            81             77             93            524   \n",
              "4         67            91             77             91            558   \n",
              "\n",
              "  overall_result  \n",
              "0           FAIL  \n",
              "1           PASS  \n",
              "2           FAIL  \n",
              "3           PASS  \n",
              "4           PASS  "
            ],
            "text/html": [
              "\n",
              "  <div id=\"df-45194e32-d91d-4616-b35f-17cc473eea75\">\n",
              "    <div class=\"colab-df-container\">\n",
              "      <div>\n",
              "<style scoped>\n",
              "    .dataframe tbody tr th:only-of-type {\n",
              "        vertical-align: middle;\n",
              "    }\n",
              "\n",
              "    .dataframe tbody tr th {\n",
              "        vertical-align: top;\n",
              "    }\n",
              "\n",
              "    .dataframe thead th {\n",
              "        text-align: right;\n",
              "    }\n",
              "</style>\n",
              "<table border=\"1\" class=\"dataframe\">\n",
              "  <thead>\n",
              "    <tr style=\"text-align: right;\">\n",
              "      <th></th>\n",
              "      <th>roll_num</th>\n",
              "      <th>name</th>\n",
              "      <th>web_total</th>\n",
              "      <th>cc_total</th>\n",
              "      <th>aca_total</th>\n",
              "      <th>ml_total</th>\n",
              "      <th>san_total</th>\n",
              "      <th>ml_lab_total</th>\n",
              "      <th>wta_lab_total</th>\n",
              "      <th>csp_lab_total</th>\n",
              "      <th>overall_total</th>\n",
              "      <th>overall_result</th>\n",
              "    </tr>\n",
              "  </thead>\n",
              "  <tbody>\n",
              "    <tr>\n",
              "      <th>0</th>\n",
              "      <td>1KG16CS025</td>\n",
              "      <td>DIVYA R D</td>\n",
              "      <td>32</td>\n",
              "      <td>42</td>\n",
              "      <td>45</td>\n",
              "      <td>28</td>\n",
              "      <td>46</td>\n",
              "      <td>54</td>\n",
              "      <td>82</td>\n",
              "      <td>83</td>\n",
              "      <td>412</td>\n",
              "      <td>FAIL</td>\n",
              "    </tr>\n",
              "    <tr>\n",
              "      <th>1</th>\n",
              "      <td>1KG16CS054</td>\n",
              "      <td>M D MAHATAP PASHA</td>\n",
              "      <td>67</td>\n",
              "      <td>57</td>\n",
              "      <td>62</td>\n",
              "      <td>59</td>\n",
              "      <td>60</td>\n",
              "      <td>50</td>\n",
              "      <td>98</td>\n",
              "      <td>90</td>\n",
              "      <td>543</td>\n",
              "      <td>PASS</td>\n",
              "    </tr>\n",
              "    <tr>\n",
              "      <th>2</th>\n",
              "      <td>1KG16CS059</td>\n",
              "      <td>P YASHWANTH</td>\n",
              "      <td>35</td>\n",
              "      <td>44</td>\n",
              "      <td>51</td>\n",
              "      <td>47</td>\n",
              "      <td>65</td>\n",
              "      <td>47</td>\n",
              "      <td>70</td>\n",
              "      <td>93</td>\n",
              "      <td>452</td>\n",
              "      <td>FAIL</td>\n",
              "    </tr>\n",
              "    <tr>\n",
              "      <th>3</th>\n",
              "      <td>1KG16CS113</td>\n",
              "      <td>V CHANDANA CHOWDARY</td>\n",
              "      <td>54</td>\n",
              "      <td>54</td>\n",
              "      <td>51</td>\n",
              "      <td>48</td>\n",
              "      <td>66</td>\n",
              "      <td>81</td>\n",
              "      <td>77</td>\n",
              "      <td>93</td>\n",
              "      <td>524</td>\n",
              "      <td>PASS</td>\n",
              "    </tr>\n",
              "    <tr>\n",
              "      <th>4</th>\n",
              "      <td>1KG17CS002</td>\n",
              "      <td>ABHIMANYU BANSAL</td>\n",
              "      <td>60</td>\n",
              "      <td>57</td>\n",
              "      <td>66</td>\n",
              "      <td>49</td>\n",
              "      <td>67</td>\n",
              "      <td>91</td>\n",
              "      <td>77</td>\n",
              "      <td>91</td>\n",
              "      <td>558</td>\n",
              "      <td>PASS</td>\n",
              "    </tr>\n",
              "  </tbody>\n",
              "</table>\n",
              "</div>\n",
              "      <button class=\"colab-df-convert\" onclick=\"convertToInteractive('df-45194e32-d91d-4616-b35f-17cc473eea75')\"\n",
              "              title=\"Convert this dataframe to an interactive table.\"\n",
              "              style=\"display:none;\">\n",
              "        \n",
              "  <svg xmlns=\"http://www.w3.org/2000/svg\" height=\"24px\"viewBox=\"0 0 24 24\"\n",
              "       width=\"24px\">\n",
              "    <path d=\"M0 0h24v24H0V0z\" fill=\"none\"/>\n",
              "    <path d=\"M18.56 5.44l.94 2.06.94-2.06 2.06-.94-2.06-.94-.94-2.06-.94 2.06-2.06.94zm-11 1L8.5 8.5l.94-2.06 2.06-.94-2.06-.94L8.5 2.5l-.94 2.06-2.06.94zm10 10l.94 2.06.94-2.06 2.06-.94-2.06-.94-.94-2.06-.94 2.06-2.06.94z\"/><path d=\"M17.41 7.96l-1.37-1.37c-.4-.4-.92-.59-1.43-.59-.52 0-1.04.2-1.43.59L10.3 9.45l-7.72 7.72c-.78.78-.78 2.05 0 2.83L4 21.41c.39.39.9.59 1.41.59.51 0 1.02-.2 1.41-.59l7.78-7.78 2.81-2.81c.8-.78.8-2.07 0-2.86zM5.41 20L4 18.59l7.72-7.72 1.47 1.35L5.41 20z\"/>\n",
              "  </svg>\n",
              "      </button>\n",
              "      \n",
              "  <style>\n",
              "    .colab-df-container {\n",
              "      display:flex;\n",
              "      flex-wrap:wrap;\n",
              "      gap: 12px;\n",
              "    }\n",
              "\n",
              "    .colab-df-convert {\n",
              "      background-color: #E8F0FE;\n",
              "      border: none;\n",
              "      border-radius: 50%;\n",
              "      cursor: pointer;\n",
              "      display: none;\n",
              "      fill: #1967D2;\n",
              "      height: 32px;\n",
              "      padding: 0 0 0 0;\n",
              "      width: 32px;\n",
              "    }\n",
              "\n",
              "    .colab-df-convert:hover {\n",
              "      background-color: #E2EBFA;\n",
              "      box-shadow: 0px 1px 2px rgba(60, 64, 67, 0.3), 0px 1px 3px 1px rgba(60, 64, 67, 0.15);\n",
              "      fill: #174EA6;\n",
              "    }\n",
              "\n",
              "    [theme=dark] .colab-df-convert {\n",
              "      background-color: #3B4455;\n",
              "      fill: #D2E3FC;\n",
              "    }\n",
              "\n",
              "    [theme=dark] .colab-df-convert:hover {\n",
              "      background-color: #434B5C;\n",
              "      box-shadow: 0px 1px 3px 1px rgba(0, 0, 0, 0.15);\n",
              "      filter: drop-shadow(0px 1px 2px rgba(0, 0, 0, 0.3));\n",
              "      fill: #FFFFFF;\n",
              "    }\n",
              "  </style>\n",
              "\n",
              "      <script>\n",
              "        const buttonEl =\n",
              "          document.querySelector('#df-45194e32-d91d-4616-b35f-17cc473eea75 button.colab-df-convert');\n",
              "        buttonEl.style.display =\n",
              "          google.colab.kernel.accessAllowed ? 'block' : 'none';\n",
              "\n",
              "        async function convertToInteractive(key) {\n",
              "          const element = document.querySelector('#df-45194e32-d91d-4616-b35f-17cc473eea75');\n",
              "          const dataTable =\n",
              "            await google.colab.kernel.invokeFunction('convertToInteractive',\n",
              "                                                     [key], {});\n",
              "          if (!dataTable) return;\n",
              "\n",
              "          const docLinkHtml = 'Like what you see? Visit the ' +\n",
              "            '<a target=\"_blank\" href=https://colab.research.google.com/notebooks/data_table.ipynb>data table notebook</a>'\n",
              "            + ' to learn more about interactive tables.';\n",
              "          element.innerHTML = '';\n",
              "          dataTable['output_type'] = 'display_data';\n",
              "          await google.colab.output.renderOutput(dataTable, element);\n",
              "          const docLink = document.createElement('div');\n",
              "          docLink.innerHTML = docLinkHtml;\n",
              "          element.appendChild(docLink);\n",
              "        }\n",
              "      </script>\n",
              "    </div>\n",
              "  </div>\n",
              "  "
            ]
          },
          "metadata": {},
          "execution_count": 288
        }
      ],
      "source": [
        "final_result.head()"
      ]
    },
    {
      "cell_type": "code",
      "execution_count": null,
      "metadata": {
        "colab": {
          "base_uri": "https://localhost:8080/",
          "height": 206
        },
        "id": "E5Es3vt_p0Fz",
        "outputId": "38caf06f-4f6e-4d51-bb67-cae5fd48fe90"
      },
      "outputs": [
        {
          "output_type": "execute_result",
          "data": {
            "text/plain": [
              "      roll_num                    name  web_total  cc_total  aca_total  \\\n",
              "90  1KG17CS106                 VIKAS B         61        62         67   \n",
              "91  1KG17CS107          VINITH RAJ B U         52        63         60   \n",
              "92  1KG17CS108                 VINOD N         60        51         53   \n",
              "93  1KG17CS109  YASH KUMAR SINGH PATWA         68        61         66   \n",
              "94  1KG17CS110             YASHASH T V         71        59         64   \n",
              "\n",
              "    ml_total  san_total  ml_lab_total  wta_lab_total  csp_lab_total  \\\n",
              "90        62         82            84             97             93   \n",
              "91        58         64            73             93             92   \n",
              "92        53         59            63             91             80   \n",
              "93        70         83            87             98             93   \n",
              "94        55         86            90             87             94   \n",
              "\n",
              "    overall_total overall_result  \n",
              "90            608           PASS  \n",
              "91            555           PASS  \n",
              "92            510           PASS  \n",
              "93            626           PASS  \n",
              "94            606           PASS  "
            ],
            "text/html": [
              "\n",
              "  <div id=\"df-5b423be7-46c1-4541-ab77-a3ae533afacd\">\n",
              "    <div class=\"colab-df-container\">\n",
              "      <div>\n",
              "<style scoped>\n",
              "    .dataframe tbody tr th:only-of-type {\n",
              "        vertical-align: middle;\n",
              "    }\n",
              "\n",
              "    .dataframe tbody tr th {\n",
              "        vertical-align: top;\n",
              "    }\n",
              "\n",
              "    .dataframe thead th {\n",
              "        text-align: right;\n",
              "    }\n",
              "</style>\n",
              "<table border=\"1\" class=\"dataframe\">\n",
              "  <thead>\n",
              "    <tr style=\"text-align: right;\">\n",
              "      <th></th>\n",
              "      <th>roll_num</th>\n",
              "      <th>name</th>\n",
              "      <th>web_total</th>\n",
              "      <th>cc_total</th>\n",
              "      <th>aca_total</th>\n",
              "      <th>ml_total</th>\n",
              "      <th>san_total</th>\n",
              "      <th>ml_lab_total</th>\n",
              "      <th>wta_lab_total</th>\n",
              "      <th>csp_lab_total</th>\n",
              "      <th>overall_total</th>\n",
              "      <th>overall_result</th>\n",
              "    </tr>\n",
              "  </thead>\n",
              "  <tbody>\n",
              "    <tr>\n",
              "      <th>90</th>\n",
              "      <td>1KG17CS106</td>\n",
              "      <td>VIKAS B</td>\n",
              "      <td>61</td>\n",
              "      <td>62</td>\n",
              "      <td>67</td>\n",
              "      <td>62</td>\n",
              "      <td>82</td>\n",
              "      <td>84</td>\n",
              "      <td>97</td>\n",
              "      <td>93</td>\n",
              "      <td>608</td>\n",
              "      <td>PASS</td>\n",
              "    </tr>\n",
              "    <tr>\n",
              "      <th>91</th>\n",
              "      <td>1KG17CS107</td>\n",
              "      <td>VINITH RAJ B U</td>\n",
              "      <td>52</td>\n",
              "      <td>63</td>\n",
              "      <td>60</td>\n",
              "      <td>58</td>\n",
              "      <td>64</td>\n",
              "      <td>73</td>\n",
              "      <td>93</td>\n",
              "      <td>92</td>\n",
              "      <td>555</td>\n",
              "      <td>PASS</td>\n",
              "    </tr>\n",
              "    <tr>\n",
              "      <th>92</th>\n",
              "      <td>1KG17CS108</td>\n",
              "      <td>VINOD N</td>\n",
              "      <td>60</td>\n",
              "      <td>51</td>\n",
              "      <td>53</td>\n",
              "      <td>53</td>\n",
              "      <td>59</td>\n",
              "      <td>63</td>\n",
              "      <td>91</td>\n",
              "      <td>80</td>\n",
              "      <td>510</td>\n",
              "      <td>PASS</td>\n",
              "    </tr>\n",
              "    <tr>\n",
              "      <th>93</th>\n",
              "      <td>1KG17CS109</td>\n",
              "      <td>YASH KUMAR SINGH PATWA</td>\n",
              "      <td>68</td>\n",
              "      <td>61</td>\n",
              "      <td>66</td>\n",
              "      <td>70</td>\n",
              "      <td>83</td>\n",
              "      <td>87</td>\n",
              "      <td>98</td>\n",
              "      <td>93</td>\n",
              "      <td>626</td>\n",
              "      <td>PASS</td>\n",
              "    </tr>\n",
              "    <tr>\n",
              "      <th>94</th>\n",
              "      <td>1KG17CS110</td>\n",
              "      <td>YASHASH T V</td>\n",
              "      <td>71</td>\n",
              "      <td>59</td>\n",
              "      <td>64</td>\n",
              "      <td>55</td>\n",
              "      <td>86</td>\n",
              "      <td>90</td>\n",
              "      <td>87</td>\n",
              "      <td>94</td>\n",
              "      <td>606</td>\n",
              "      <td>PASS</td>\n",
              "    </tr>\n",
              "  </tbody>\n",
              "</table>\n",
              "</div>\n",
              "      <button class=\"colab-df-convert\" onclick=\"convertToInteractive('df-5b423be7-46c1-4541-ab77-a3ae533afacd')\"\n",
              "              title=\"Convert this dataframe to an interactive table.\"\n",
              "              style=\"display:none;\">\n",
              "        \n",
              "  <svg xmlns=\"http://www.w3.org/2000/svg\" height=\"24px\"viewBox=\"0 0 24 24\"\n",
              "       width=\"24px\">\n",
              "    <path d=\"M0 0h24v24H0V0z\" fill=\"none\"/>\n",
              "    <path d=\"M18.56 5.44l.94 2.06.94-2.06 2.06-.94-2.06-.94-.94-2.06-.94 2.06-2.06.94zm-11 1L8.5 8.5l.94-2.06 2.06-.94-2.06-.94L8.5 2.5l-.94 2.06-2.06.94zm10 10l.94 2.06.94-2.06 2.06-.94-2.06-.94-.94-2.06-.94 2.06-2.06.94z\"/><path d=\"M17.41 7.96l-1.37-1.37c-.4-.4-.92-.59-1.43-.59-.52 0-1.04.2-1.43.59L10.3 9.45l-7.72 7.72c-.78.78-.78 2.05 0 2.83L4 21.41c.39.39.9.59 1.41.59.51 0 1.02-.2 1.41-.59l7.78-7.78 2.81-2.81c.8-.78.8-2.07 0-2.86zM5.41 20L4 18.59l7.72-7.72 1.47 1.35L5.41 20z\"/>\n",
              "  </svg>\n",
              "      </button>\n",
              "      \n",
              "  <style>\n",
              "    .colab-df-container {\n",
              "      display:flex;\n",
              "      flex-wrap:wrap;\n",
              "      gap: 12px;\n",
              "    }\n",
              "\n",
              "    .colab-df-convert {\n",
              "      background-color: #E8F0FE;\n",
              "      border: none;\n",
              "      border-radius: 50%;\n",
              "      cursor: pointer;\n",
              "      display: none;\n",
              "      fill: #1967D2;\n",
              "      height: 32px;\n",
              "      padding: 0 0 0 0;\n",
              "      width: 32px;\n",
              "    }\n",
              "\n",
              "    .colab-df-convert:hover {\n",
              "      background-color: #E2EBFA;\n",
              "      box-shadow: 0px 1px 2px rgba(60, 64, 67, 0.3), 0px 1px 3px 1px rgba(60, 64, 67, 0.15);\n",
              "      fill: #174EA6;\n",
              "    }\n",
              "\n",
              "    [theme=dark] .colab-df-convert {\n",
              "      background-color: #3B4455;\n",
              "      fill: #D2E3FC;\n",
              "    }\n",
              "\n",
              "    [theme=dark] .colab-df-convert:hover {\n",
              "      background-color: #434B5C;\n",
              "      box-shadow: 0px 1px 3px 1px rgba(0, 0, 0, 0.15);\n",
              "      filter: drop-shadow(0px 1px 2px rgba(0, 0, 0, 0.3));\n",
              "      fill: #FFFFFF;\n",
              "    }\n",
              "  </style>\n",
              "\n",
              "      <script>\n",
              "        const buttonEl =\n",
              "          document.querySelector('#df-5b423be7-46c1-4541-ab77-a3ae533afacd button.colab-df-convert');\n",
              "        buttonEl.style.display =\n",
              "          google.colab.kernel.accessAllowed ? 'block' : 'none';\n",
              "\n",
              "        async function convertToInteractive(key) {\n",
              "          const element = document.querySelector('#df-5b423be7-46c1-4541-ab77-a3ae533afacd');\n",
              "          const dataTable =\n",
              "            await google.colab.kernel.invokeFunction('convertToInteractive',\n",
              "                                                     [key], {});\n",
              "          if (!dataTable) return;\n",
              "\n",
              "          const docLinkHtml = 'Like what you see? Visit the ' +\n",
              "            '<a target=\"_blank\" href=https://colab.research.google.com/notebooks/data_table.ipynb>data table notebook</a>'\n",
              "            + ' to learn more about interactive tables.';\n",
              "          element.innerHTML = '';\n",
              "          dataTable['output_type'] = 'display_data';\n",
              "          await google.colab.output.renderOutput(dataTable, element);\n",
              "          const docLink = document.createElement('div');\n",
              "          docLink.innerHTML = docLinkHtml;\n",
              "          element.appendChild(docLink);\n",
              "        }\n",
              "      </script>\n",
              "    </div>\n",
              "  </div>\n",
              "  "
            ]
          },
          "metadata": {},
          "execution_count": 289
        }
      ],
      "source": [
        "final_result.tail()"
      ]
    },
    {
      "cell_type": "code",
      "execution_count": null,
      "metadata": {
        "colab": {
          "base_uri": "https://localhost:8080/"
        },
        "id": "zabfMNASp0Fz",
        "outputId": "fc945dc9-c809-47c0-f29d-baecfa18a06d"
      },
      "outputs": [
        {
          "output_type": "execute_result",
          "data": {
            "text/plain": [
              "(95, 12)"
            ]
          },
          "metadata": {},
          "execution_count": 290
        }
      ],
      "source": [
        "final_result.shape"
      ]
    },
    {
      "cell_type": "code",
      "execution_count": null,
      "metadata": {
        "colab": {
          "base_uri": "https://localhost:8080/"
        },
        "id": "Tem-TwVhp0Fz",
        "outputId": "1218e4f9-5da1-4b5f-a2de-92587c5907bf"
      },
      "outputs": [
        {
          "output_type": "execute_result",
          "data": {
            "text/plain": [
              "Index(['roll_num', 'name', 'web_total', 'cc_total', 'aca_total', 'ml_total',\n",
              "       'san_total', 'ml_lab_total', 'wta_lab_total', 'csp_lab_total',\n",
              "       'overall_total', 'overall_result'],\n",
              "      dtype='object')"
            ]
          },
          "metadata": {},
          "execution_count": 291
        }
      ],
      "source": [
        "\n",
        "final_result.columns"
      ]
    },
    {
      "cell_type": "code",
      "execution_count": null,
      "metadata": {
        "colab": {
          "base_uri": "https://localhost:8080/"
        },
        "id": "lQsn0414p0Fz",
        "outputId": "a75b95fd-ab57-4e9d-d151-594aa66ebafa"
      },
      "outputs": [
        {
          "output_type": "stream",
          "name": "stdout",
          "text": [
            "<class 'pandas.core.frame.DataFrame'>\n",
            "RangeIndex: 95 entries, 0 to 94\n",
            "Data columns (total 12 columns):\n",
            " #   Column          Non-Null Count  Dtype \n",
            "---  ------          --------------  ----- \n",
            " 0   roll_num        95 non-null     object\n",
            " 1   name            95 non-null     object\n",
            " 2   web_total       95 non-null     int64 \n",
            " 3   cc_total        95 non-null     int64 \n",
            " 4   aca_total       95 non-null     int64 \n",
            " 5   ml_total        95 non-null     int64 \n",
            " 6   san_total       95 non-null     int64 \n",
            " 7   ml_lab_total    95 non-null     int64 \n",
            " 8   wta_lab_total   95 non-null     int64 \n",
            " 9   csp_lab_total   95 non-null     int64 \n",
            " 10  overall_total   95 non-null     int64 \n",
            " 11  overall_result  95 non-null     object\n",
            "dtypes: int64(9), object(3)\n",
            "memory usage: 9.0+ KB\n"
          ]
        }
      ],
      "source": [
        "final_result.info()"
      ]
    },
    {
      "cell_type": "code",
      "execution_count": null,
      "metadata": {
        "colab": {
          "base_uri": "https://localhost:8080/",
          "height": 301
        },
        "id": "2torv1Sap0Fz",
        "outputId": "af6b6b15-1bd8-4e44-b8df-9c0df8c3fbf9"
      },
      "outputs": [
        {
          "output_type": "execute_result",
          "data": {
            "text/plain": [
              "       web_total   cc_total  aca_total   ml_total  san_total  ml_lab_total  \\\n",
              "count  95.000000  95.000000  95.000000  95.000000  95.000000     95.000000   \n",
              "mean   66.347368  62.378947  64.168421  60.863158  68.326316     72.631579   \n",
              "std    13.032503   9.045016   8.896153   9.767086   9.403985     13.931483   \n",
              "min    32.000000  27.000000  33.000000  28.000000  46.000000     24.000000   \n",
              "25%    59.000000  57.000000  61.000000  54.000000  61.000000     64.500000   \n",
              "50%    66.000000  61.000000  65.000000  60.000000  67.000000     74.000000   \n",
              "75%    75.500000  68.000000  71.000000  68.000000  75.000000     83.000000   \n",
              "max    92.000000  86.000000  85.000000  82.000000  89.000000     97.000000   \n",
              "\n",
              "       wta_lab_total  csp_lab_total  overall_total  \n",
              "count      95.000000      95.000000      95.000000  \n",
              "mean       87.252632      91.326316     573.294737  \n",
              "std        11.565694       4.183153      57.623480  \n",
              "min        54.000000      80.000000     412.000000  \n",
              "25%        80.000000      90.000000     546.000000  \n",
              "50%        93.000000      91.000000     572.000000  \n",
              "75%        96.000000      94.000000     613.000000  \n",
              "max        99.000000      98.000000     717.000000  "
            ],
            "text/html": [
              "\n",
              "  <div id=\"df-ad463330-e9b7-4f34-a72e-d11b468d258b\">\n",
              "    <div class=\"colab-df-container\">\n",
              "      <div>\n",
              "<style scoped>\n",
              "    .dataframe tbody tr th:only-of-type {\n",
              "        vertical-align: middle;\n",
              "    }\n",
              "\n",
              "    .dataframe tbody tr th {\n",
              "        vertical-align: top;\n",
              "    }\n",
              "\n",
              "    .dataframe thead th {\n",
              "        text-align: right;\n",
              "    }\n",
              "</style>\n",
              "<table border=\"1\" class=\"dataframe\">\n",
              "  <thead>\n",
              "    <tr style=\"text-align: right;\">\n",
              "      <th></th>\n",
              "      <th>web_total</th>\n",
              "      <th>cc_total</th>\n",
              "      <th>aca_total</th>\n",
              "      <th>ml_total</th>\n",
              "      <th>san_total</th>\n",
              "      <th>ml_lab_total</th>\n",
              "      <th>wta_lab_total</th>\n",
              "      <th>csp_lab_total</th>\n",
              "      <th>overall_total</th>\n",
              "    </tr>\n",
              "  </thead>\n",
              "  <tbody>\n",
              "    <tr>\n",
              "      <th>count</th>\n",
              "      <td>95.000000</td>\n",
              "      <td>95.000000</td>\n",
              "      <td>95.000000</td>\n",
              "      <td>95.000000</td>\n",
              "      <td>95.000000</td>\n",
              "      <td>95.000000</td>\n",
              "      <td>95.000000</td>\n",
              "      <td>95.000000</td>\n",
              "      <td>95.000000</td>\n",
              "    </tr>\n",
              "    <tr>\n",
              "      <th>mean</th>\n",
              "      <td>66.347368</td>\n",
              "      <td>62.378947</td>\n",
              "      <td>64.168421</td>\n",
              "      <td>60.863158</td>\n",
              "      <td>68.326316</td>\n",
              "      <td>72.631579</td>\n",
              "      <td>87.252632</td>\n",
              "      <td>91.326316</td>\n",
              "      <td>573.294737</td>\n",
              "    </tr>\n",
              "    <tr>\n",
              "      <th>std</th>\n",
              "      <td>13.032503</td>\n",
              "      <td>9.045016</td>\n",
              "      <td>8.896153</td>\n",
              "      <td>9.767086</td>\n",
              "      <td>9.403985</td>\n",
              "      <td>13.931483</td>\n",
              "      <td>11.565694</td>\n",
              "      <td>4.183153</td>\n",
              "      <td>57.623480</td>\n",
              "    </tr>\n",
              "    <tr>\n",
              "      <th>min</th>\n",
              "      <td>32.000000</td>\n",
              "      <td>27.000000</td>\n",
              "      <td>33.000000</td>\n",
              "      <td>28.000000</td>\n",
              "      <td>46.000000</td>\n",
              "      <td>24.000000</td>\n",
              "      <td>54.000000</td>\n",
              "      <td>80.000000</td>\n",
              "      <td>412.000000</td>\n",
              "    </tr>\n",
              "    <tr>\n",
              "      <th>25%</th>\n",
              "      <td>59.000000</td>\n",
              "      <td>57.000000</td>\n",
              "      <td>61.000000</td>\n",
              "      <td>54.000000</td>\n",
              "      <td>61.000000</td>\n",
              "      <td>64.500000</td>\n",
              "      <td>80.000000</td>\n",
              "      <td>90.000000</td>\n",
              "      <td>546.000000</td>\n",
              "    </tr>\n",
              "    <tr>\n",
              "      <th>50%</th>\n",
              "      <td>66.000000</td>\n",
              "      <td>61.000000</td>\n",
              "      <td>65.000000</td>\n",
              "      <td>60.000000</td>\n",
              "      <td>67.000000</td>\n",
              "      <td>74.000000</td>\n",
              "      <td>93.000000</td>\n",
              "      <td>91.000000</td>\n",
              "      <td>572.000000</td>\n",
              "    </tr>\n",
              "    <tr>\n",
              "      <th>75%</th>\n",
              "      <td>75.500000</td>\n",
              "      <td>68.000000</td>\n",
              "      <td>71.000000</td>\n",
              "      <td>68.000000</td>\n",
              "      <td>75.000000</td>\n",
              "      <td>83.000000</td>\n",
              "      <td>96.000000</td>\n",
              "      <td>94.000000</td>\n",
              "      <td>613.000000</td>\n",
              "    </tr>\n",
              "    <tr>\n",
              "      <th>max</th>\n",
              "      <td>92.000000</td>\n",
              "      <td>86.000000</td>\n",
              "      <td>85.000000</td>\n",
              "      <td>82.000000</td>\n",
              "      <td>89.000000</td>\n",
              "      <td>97.000000</td>\n",
              "      <td>99.000000</td>\n",
              "      <td>98.000000</td>\n",
              "      <td>717.000000</td>\n",
              "    </tr>\n",
              "  </tbody>\n",
              "</table>\n",
              "</div>\n",
              "      <button class=\"colab-df-convert\" onclick=\"convertToInteractive('df-ad463330-e9b7-4f34-a72e-d11b468d258b')\"\n",
              "              title=\"Convert this dataframe to an interactive table.\"\n",
              "              style=\"display:none;\">\n",
              "        \n",
              "  <svg xmlns=\"http://www.w3.org/2000/svg\" height=\"24px\"viewBox=\"0 0 24 24\"\n",
              "       width=\"24px\">\n",
              "    <path d=\"M0 0h24v24H0V0z\" fill=\"none\"/>\n",
              "    <path d=\"M18.56 5.44l.94 2.06.94-2.06 2.06-.94-2.06-.94-.94-2.06-.94 2.06-2.06.94zm-11 1L8.5 8.5l.94-2.06 2.06-.94-2.06-.94L8.5 2.5l-.94 2.06-2.06.94zm10 10l.94 2.06.94-2.06 2.06-.94-2.06-.94-.94-2.06-.94 2.06-2.06.94z\"/><path d=\"M17.41 7.96l-1.37-1.37c-.4-.4-.92-.59-1.43-.59-.52 0-1.04.2-1.43.59L10.3 9.45l-7.72 7.72c-.78.78-.78 2.05 0 2.83L4 21.41c.39.39.9.59 1.41.59.51 0 1.02-.2 1.41-.59l7.78-7.78 2.81-2.81c.8-.78.8-2.07 0-2.86zM5.41 20L4 18.59l7.72-7.72 1.47 1.35L5.41 20z\"/>\n",
              "  </svg>\n",
              "      </button>\n",
              "      \n",
              "  <style>\n",
              "    .colab-df-container {\n",
              "      display:flex;\n",
              "      flex-wrap:wrap;\n",
              "      gap: 12px;\n",
              "    }\n",
              "\n",
              "    .colab-df-convert {\n",
              "      background-color: #E8F0FE;\n",
              "      border: none;\n",
              "      border-radius: 50%;\n",
              "      cursor: pointer;\n",
              "      display: none;\n",
              "      fill: #1967D2;\n",
              "      height: 32px;\n",
              "      padding: 0 0 0 0;\n",
              "      width: 32px;\n",
              "    }\n",
              "\n",
              "    .colab-df-convert:hover {\n",
              "      background-color: #E2EBFA;\n",
              "      box-shadow: 0px 1px 2px rgba(60, 64, 67, 0.3), 0px 1px 3px 1px rgba(60, 64, 67, 0.15);\n",
              "      fill: #174EA6;\n",
              "    }\n",
              "\n",
              "    [theme=dark] .colab-df-convert {\n",
              "      background-color: #3B4455;\n",
              "      fill: #D2E3FC;\n",
              "    }\n",
              "\n",
              "    [theme=dark] .colab-df-convert:hover {\n",
              "      background-color: #434B5C;\n",
              "      box-shadow: 0px 1px 3px 1px rgba(0, 0, 0, 0.15);\n",
              "      filter: drop-shadow(0px 1px 2px rgba(0, 0, 0, 0.3));\n",
              "      fill: #FFFFFF;\n",
              "    }\n",
              "  </style>\n",
              "\n",
              "      <script>\n",
              "        const buttonEl =\n",
              "          document.querySelector('#df-ad463330-e9b7-4f34-a72e-d11b468d258b button.colab-df-convert');\n",
              "        buttonEl.style.display =\n",
              "          google.colab.kernel.accessAllowed ? 'block' : 'none';\n",
              "\n",
              "        async function convertToInteractive(key) {\n",
              "          const element = document.querySelector('#df-ad463330-e9b7-4f34-a72e-d11b468d258b');\n",
              "          const dataTable =\n",
              "            await google.colab.kernel.invokeFunction('convertToInteractive',\n",
              "                                                     [key], {});\n",
              "          if (!dataTable) return;\n",
              "\n",
              "          const docLinkHtml = 'Like what you see? Visit the ' +\n",
              "            '<a target=\"_blank\" href=https://colab.research.google.com/notebooks/data_table.ipynb>data table notebook</a>'\n",
              "            + ' to learn more about interactive tables.';\n",
              "          element.innerHTML = '';\n",
              "          dataTable['output_type'] = 'display_data';\n",
              "          await google.colab.output.renderOutput(dataTable, element);\n",
              "          const docLink = document.createElement('div');\n",
              "          docLink.innerHTML = docLinkHtml;\n",
              "          element.appendChild(docLink);\n",
              "        }\n",
              "      </script>\n",
              "    </div>\n",
              "  </div>\n",
              "  "
            ]
          },
          "metadata": {},
          "execution_count": 293
        }
      ],
      "source": [
        "final_result.describe()"
      ]
    },
    {
      "cell_type": "code",
      "execution_count": null,
      "metadata": {
        "colab": {
          "base_uri": "https://localhost:8080/"
        },
        "id": "ipyStMnqp0F0",
        "outputId": "33a498ad-437f-4c80-f1cb-03a25debadcb"
      },
      "outputs": [
        {
          "output_type": "execute_result",
          "data": {
            "text/plain": [
              "roll_num          0\n",
              "name              0\n",
              "web_total         0\n",
              "cc_total          0\n",
              "aca_total         0\n",
              "ml_total          0\n",
              "san_total         0\n",
              "ml_lab_total      0\n",
              "wta_lab_total     0\n",
              "csp_lab_total     0\n",
              "overall_total     0\n",
              "overall_result    0\n",
              "dtype: int64"
            ]
          },
          "metadata": {},
          "execution_count": 294
        }
      ],
      "source": [
        "final_result.isnull().sum()"
      ]
    },
    {
      "cell_type": "code",
      "execution_count": null,
      "metadata": {
        "colab": {
          "base_uri": "https://localhost:8080/"
        },
        "id": "hL6Wdtjop0F0",
        "outputId": "764cfac4-3814-482e-9610-85d5657592f2"
      },
      "outputs": [
        {
          "output_type": "execute_result",
          "data": {
            "text/plain": [
              "array(['FAIL', 'PASS'], dtype=object)"
            ]
          },
          "metadata": {},
          "execution_count": 295
        }
      ],
      "source": [
        "final_result['overall_result'].unique()"
      ]
    },
    {
      "cell_type": "code",
      "execution_count": null,
      "metadata": {
        "colab": {
          "base_uri": "https://localhost:8080/"
        },
        "id": "_RM_R6WOp0F0",
        "outputId": "c23ad8d8-b14a-4725-99e6-6840380b77ec"
      },
      "outputs": [
        {
          "output_type": "execute_result",
          "data": {
            "text/plain": [
              "PASS    83\n",
              "FAIL    12\n",
              "Name: overall_result, dtype: int64"
            ]
          },
          "metadata": {},
          "execution_count": 296
        }
      ],
      "source": [
        "final_result['overall_result'].value_counts()"
      ]
    },
    {
      "cell_type": "code",
      "execution_count": null,
      "metadata": {
        "colab": {
          "base_uri": "https://localhost:8080/",
          "height": 404
        },
        "id": "TRFRdDoap0F0",
        "outputId": "0ca3a401-ead7-4924-d359-378cc764908d"
      },
      "outputs": [
        {
          "output_type": "display_data",
          "data": {
            "text/plain": [
              "<Figure size 1080x432 with 1 Axes>"
            ],
            "image/png": "[encoded data removed]"
          },
          "metadata": {
            "needs_background": "light"
          }
        }
      ],
      "source": [
        "plt.figure(figsize=(15,6))\n",
        "sns.countplot('overall_result', data = final_result, palette='hls')\n",
        "plt.xticks(rotation = 90)\n",
        "plt.show()"
      ]
    },
    {
      "cell_type": "code",
      "execution_count": null,
      "metadata": {
        "colab": {
          "base_uri": "https://localhost:8080/",
          "height": 367
        },
        "id": "WzfPC-ODp0F1",
        "outputId": "c8ed4dac-7b92-4d68-ecfb-7aabd8e03307"
      },
      "outputs": [
        {
          "output_type": "display_data",
          "data": {
            "text/plain": [
              "<Figure size 1080x432 with 1 Axes>"
            ],
            "image/png": "[encoded data removed]"
          },
          "metadata": {}
        }
      ],
      "source": [
        "plt.figure(figsize=(15,6))\n",
        "colors = sns.color_palette('bright')\n",
        "explode = [0.3, 0.02]\n",
        "plt.pie(final_result['overall_result'].value_counts(), colors = colors, labels = ['pass', 'fail'],\n",
        "        explode = explode, autopct = '%0.0f%%', shadow = 'True', startangle = 90)\n",
        "plt.show()"
      ]
    },
    {
      "cell_type": "code",
      "execution_count": null,
      "metadata": {
        "id": "T9rAxVIkp0F1"
      },
      "outputs": [],
      "source": [
        "final_result['percentage'] = final_result['overall_total'].div(1000).round(2)"
      ]
    },
    {
      "cell_type": "code",
      "execution_count": null,
      "metadata": {
        "id": "_kaW4DCMp0F1"
      },
      "outputs": [],
      "source": [
        "conditions = [\n",
        "    (final_result['percentage'] > 0.7),\n",
        "    (final_result['percentage'] >= 0.5) & (final_result['percentage'] < 0.69),\n",
        "    (final_result['percentage'] >= 0.35) & (final_result['percentage'] < 0.49),\n",
        "    (final_result['percentage'] < 0.35)\n",
        "]\n",
        "\n",
        "values = [0, 1, 2, 3]\n",
        "\n",
        "final_result['time_per_day'] = np.select(conditions, values)"
      ]
    },
    {
      "cell_type": "code",
      "execution_count": null,
      "metadata": {
        "id": "IqR2pOfnp0F1"
      },
      "outputs": [],
      "source": [
        "data5 = ['overall_result']\n",
        "for i in data5:\n",
        "    final_result[i] = le.fit_transform(final_result[i])"
      ]
    },
    {
      "cell_type": "code",
      "execution_count": null,
      "metadata": {
        "id": "9zNBEembp0F1"
      },
      "outputs": [],
      "source": [
        "x_final = final_result.drop(['roll_num', 'name', 'web_total', 'cc_total', 'aca_total', 'ml_total',\n",
        "       'san_total', 'ml_lab_total', 'wta_lab_total', 'csp_lab_total',\n",
        "       'overall_total', 'overall_result', 'time_per_day'], axis = 1)\n",
        "y_final = final_result['time_per_day']"
      ]
    },
    {
      "cell_type": "code",
      "execution_count": null,
      "metadata": {
        "id": "WclRouJzp0F2"
      },
      "outputs": [],
      "source": [
        "x_train_final = x_final.iloc[:75]"
      ]
    },
    {
      "cell_type": "code",
      "execution_count": null,
      "metadata": {
        "id": "XPBV4vcPp0F2"
      },
      "outputs": [],
      "source": [
        "y_train_final = y_final.iloc[:75]"
      ]
    },
    {
      "cell_type": "code",
      "execution_count": null,
      "metadata": {
        "id": "uWu8G_5rp0F2"
      },
      "outputs": [],
      "source": [
        "x_test_final = x_final.iloc[75:96]"
      ]
    },
    {
      "cell_type": "code",
      "execution_count": null,
      "metadata": {
        "id": "PLLfcTLQp0F2"
      },
      "outputs": [],
      "source": [
        "y_test_final = y_final.iloc[75:96]"
      ]
    },
    {
      "cell_type": "code",
      "execution_count": null,
      "metadata": {
        "colab": {
          "base_uri": "https://localhost:8080/"
        },
        "id": "bk-oHfknp0F3",
        "outputId": "0075bc57-3860-43f2-aaec-084b6f3999d0"
      },
      "outputs": [
        {
          "output_type": "execute_result",
          "data": {
            "text/plain": [
              "SVR()"
            ]
          },
          "metadata": {},
          "execution_count": 307
        }
      ],
      "source": [
        "svregressor.fit(x_train_final, y_train_final)"
      ]
    },
    {
      "cell_type": "code",
      "execution_count": null,
      "metadata": {
        "colab": {
          "base_uri": "https://localhost:8080/"
        },
        "id": "88hxw0JNp0F3",
        "outputId": "79de2cab-0e75-4790-db1d-9aa9fe21119f"
      },
      "outputs": [
        {
          "output_type": "stream",
          "name": "stdout",
          "text": [
            "Training Accuracy : 0.8658649189804309\n",
            "Testing Accuracy : 0.9572683866520322\n"
          ]
        }
      ],
      "source": [
        "print(\"Training Accuracy :\", svregressor.score(x_train_final, y_train_final))\n",
        "print(\"Testing Accuracy :\", svregressor.score(x_test_final, y_test_final))"
      ]
    },
    {
      "cell_type": "code",
      "execution_count": null,
      "metadata": {
        "colab": {
          "base_uri": "https://localhost:8080/"
        },
        "id": "YOd84hDbp0F3",
        "outputId": "73be7d78-1512-4547-eafb-a09603b7726b"
      },
      "outputs": [
        {
          "output_type": "execute_result",
          "data": {
            "text/plain": [
              "LinearRegression()"
            ]
          },
          "metadata": {},
          "execution_count": 309
        }
      ],
      "source": [
        "liregressor.fit(x_train_final, y_train_final)"
      ]
    },
    {
      "cell_type": "code",
      "execution_count": null,
      "metadata": {
        "colab": {
          "base_uri": "https://localhost:8080/"
        },
        "id": "NJ5CmBTHp0F3",
        "outputId": "67b49f09-abea-4a24-e12a-0daba8d957e4"
      },
      "outputs": [
        {
          "output_type": "stream",
          "name": "stdout",
          "text": [
            "Training Accuracy : 0.4676070840197696\n",
            "Testing Accuracy : 0.5370927333256152\n"
          ]
        }
      ],
      "source": [
        "print(\"Training Accuracy :\", liregressor.score(x_train_final, y_train_final))\n",
        "print(\"Testing Accuracy :\", liregressor.score(x_test_final, y_test_final))"
      ]
    },
    {
      "cell_type": "code",
      "execution_count": null,
      "metadata": {
        "colab": {
          "base_uri": "https://localhost:8080/"
        },
        "id": "9oFTSP5Vp0F3",
        "outputId": "0a6a8507-bd5d-41bf-eb52-7b6e5db2cc75"
      },
      "outputs": [
        {
          "output_type": "execute_result",
          "data": {
            "text/plain": [
              "LogisticRegression()"
            ]
          },
          "metadata": {},
          "execution_count": 311
        }
      ],
      "source": [
        "loregressor.fit(x_train_final, y_train_final)"
      ]
    },
    {
      "cell_type": "code",
      "execution_count": null,
      "metadata": {
        "colab": {
          "base_uri": "https://localhost:8080/"
        },
        "id": "68Xs0s-pp0F4",
        "outputId": "10fca4a2-71af-413d-8917-e3389cec65d2"
      },
      "outputs": [
        {
          "output_type": "stream",
          "name": "stdout",
          "text": [
            "Training Accuracy : 0.9066666666666666\n",
            "Testing Accuracy : 0.85\n"
          ]
        }
      ],
      "source": [
        "print(\"Training Accuracy :\", loregressor.score(x_train_final, y_train_final))\n",
        "print(\"Testing Accuracy :\", loregressor.score(x_test_final, y_test_final))"
      ]
    },
    {
      "cell_type": "code",
      "execution_count": null,
      "metadata": {
        "colab": {
          "base_uri": "https://localhost:8080/"
        },
        "id": "U92-WORpp0F4",
        "outputId": "56566fa1-4175-470a-bd96-1beeefedaad7"
      },
      "outputs": [
        {
          "output_type": "execute_result",
          "data": {
            "text/plain": [
              "DecisionTreeRegressor()"
            ]
          },
          "metadata": {},
          "execution_count": 313
        }
      ],
      "source": [
        "\n",
        "dtregressor.fit(x_train_final, y_train_final)"
      ]
    },
    {
      "cell_type": "code",
      "execution_count": null,
      "metadata": {
        "colab": {
          "base_uri": "https://localhost:8080/"
        },
        "id": "ie5CUUSbp0F4",
        "outputId": "f7fb282f-bfc9-417b-a9e2-4bc456612a20"
      },
      "outputs": [
        {
          "output_type": "stream",
          "name": "stdout",
          "text": [
            "Training Accuracy : 1.0\n",
            "Testing Accuracy : 1.0\n"
          ]
        }
      ],
      "source": [
        "print(\"Training Accuracy :\", dtregressor.score(x_train_final, y_train_final))\n",
        "print(\"Testing Accuracy :\", dtregressor.score(x_test_final, y_test_final))"
      ]
    },
    {
      "cell_type": "code",
      "execution_count": null,
      "metadata": {
        "colab": {
          "base_uri": "https://localhost:8080/"
        },
        "id": "gFE86-Xcp0F4",
        "outputId": "a1d9db16-d3e3-4b6e-e8cb-bac51cd5add0"
      },
      "outputs": [
        {
          "output_type": "execute_result",
          "data": {
            "text/plain": [
              "RandomForestRegressor()"
            ]
          },
          "metadata": {},
          "execution_count": 315
        }
      ],
      "source": [
        "rfregressor.fit(x_train_final, y_train_final)"
      ]
    },
    {
      "cell_type": "code",
      "execution_count": null,
      "metadata": {
        "colab": {
          "base_uri": "https://localhost:8080/"
        },
        "id": "YzEkRNPup0F4",
        "outputId": "80666c4e-6669-4e78-f5cb-73d4428a865e"
      },
      "outputs": [
        {
          "output_type": "stream",
          "name": "stdout",
          "text": [
            "Training Accuracy : 0.97807\n",
            "Testing Accuracy : 1.0\n"
          ]
        }
      ],
      "source": [
        "print(\"Training Accuracy :\", rfregressor.score(x_train_final, y_train_final))\n",
        "print(\"Testing Accuracy :\", rfregressor.score(x_test_final, y_test_final))"
      ]
    },
    {
      "cell_type": "code",
      "execution_count": null,
      "metadata": {
        "colab": {
          "base_uri": "https://localhost:8080/"
        },
        "id": "prRUPh74p0F5",
        "outputId": "2d5815b0-6cd6-4d45-8da5-394890595003"
      },
      "outputs": [
        {
          "output_type": "execute_result",
          "data": {
            "text/plain": [
              "array([0.8877061 , 0.40950956, 0.92468941])"
            ]
          },
          "metadata": {},
          "execution_count": 317
        }
      ],
      "source": [
        "cross_val_score(SVR(),x_final, y_final, cv = 3)"
      ]
    },
    {
      "cell_type": "code",
      "execution_count": null,
      "metadata": {
        "colab": {
          "base_uri": "https://localhost:8080/"
        },
        "id": "8kG24azbp0F5",
        "outputId": "7332339b-f379-447a-b8c3-c6c6065efadc"
      },
      "outputs": [
        {
          "output_type": "execute_result",
          "data": {
            "text/plain": [
              "array([0.44711267, 0.51389774, 0.47703726])"
            ]
          },
          "metadata": {},
          "execution_count": 318
        }
      ],
      "source": [
        "cross_val_score(LinearRegression(),x_final, y_final, cv = 3)"
      ]
    },
    {
      "cell_type": "code",
      "execution_count": null,
      "metadata": {
        "colab": {
          "base_uri": "https://localhost:8080/"
        },
        "id": "hUyGXYVbp0F5",
        "outputId": "ca6a0295-c4fc-4ca9-ac53-e03434019edb"
      },
      "outputs": [
        {
          "output_type": "execute_result",
          "data": {
            "text/plain": [
              "array([0.90625   , 0.875     , 0.90322581])"
            ]
          },
          "metadata": {},
          "execution_count": 319
        }
      ],
      "source": [
        "cross_val_score(LogisticRegression(),x_final, y_final, cv = 3)"
      ]
    },
    {
      "cell_type": "code",
      "execution_count": null,
      "metadata": {
        "colab": {
          "base_uri": "https://localhost:8080/"
        },
        "id": "O3bFfl-Sp0F5",
        "outputId": "82440c61-714a-499a-f000-85fd079ef2f1"
      },
      "outputs": [
        {
          "output_type": "execute_result",
          "data": {
            "text/plain": [
              "array([1.        , 0.66315789, 1.        ])"
            ]
          },
          "metadata": {},
          "execution_count": 320
        }
      ],
      "source": [
        "cross_val_score(DecisionTreeRegressor(),x_final, y_final, cv = 3)"
      ]
    },
    {
      "cell_type": "code",
      "execution_count": null,
      "metadata": {
        "colab": {
          "base_uri": "https://localhost:8080/"
        },
        "id": "X5mPQYDyp0F5",
        "outputId": "e7bbcefa-2870-4ed7-835c-7dd7221149b1"
      },
      "outputs": [
        {
          "output_type": "execute_result",
          "data": {
            "text/plain": [
              "array([0.99985287, 0.66309053, 0.99979907])"
            ]
          },
          "metadata": {},
          "execution_count": 321
        }
      ],
      "source": [
        "cross_val_score(RandomForestRegressor(),x_final, y_final, cv = 3)"
      ]
    },
    {
      "cell_type": "code",
      "source": [
        "plt.figure(figsize=(15,6))\n",
        "colors = sns.color_palette('bright')\n",
        "explode = [0.3, 0.02]\n",
        "plt.pie(final_result['overall_result'].value_counts(), colors = colors, labels = ['pass', 'fail'],\n",
        "        explode = explode, autopct = '%0.0f%%', shadow = 'True', startangle = 90)\n",
        "plt.show()"
      ],
      "metadata": {
        "id": "GsYnO19ht36p"
      },
      "execution_count": null,
      "outputs": []
    },
    {
      "cell_type": "code",
      "execution_count": null,
      "metadata": {
        "id": "qySY0FIYp0F6"
      },
      "outputs": [],
      "source": [
        "\n",
        "def time_predict_final(percentage):\n",
        "    x=np.zeros(len(x_final.columns))\n",
        "    x[0]=percentage\n",
        "    return svregressor.predict([x])[0]"
      ]
    },
    {
      "cell_type": "code",
      "execution_count": null,
      "metadata": {
        "colab": {
          "base_uri": "https://localhost:8080/"
        },
        "id": "SRL86UK5p0F6",
        "outputId": "814fbdad-ce44-4475-e1da-67c2960de260"
      },
      "outputs": [
        {
          "output_type": "execute_result",
          "data": {
            "text/plain": [
              "1.9204777988758948"
            ]
          },
          "metadata": {},
          "execution_count": 323
        }
      ],
      "source": [
        "time_predict_final(0.47)"
      ]
    },
    {
      "cell_type": "code",
      "execution_count": null,
      "metadata": {
        "id": "eZW7nzS0p0F6"
      },
      "outputs": [],
      "source": [
        "def time_predict_final(percentage):\n",
        "    x=np.zeros(len(x_final.columns))\n",
        "    x[0]=percentage\n",
        "    return liregressor.predict([x])[0]"
      ]
    },
    {
      "cell_type": "code",
      "execution_count": null,
      "metadata": {
        "colab": {
          "base_uri": "https://localhost:8080/"
        },
        "id": "p3JXrCBfp0F6",
        "outputId": "dc0d5920-2cca-4a1d-ac4c-199199ebd521"
      },
      "outputs": [
        {
          "output_type": "execute_result",
          "data": {
            "text/plain": [
              "1.4464854475562885"
            ]
          },
          "metadata": {},
          "execution_count": 325
        }
      ],
      "source": [
        "time_predict_final(0.47)"
      ]
    },
    {
      "cell_type": "code",
      "execution_count": null,
      "metadata": {
        "id": "UXGt0p13p0F7"
      },
      "outputs": [],
      "source": [
        "def time_predict_final(percentage):\n",
        "    x=np.zeros(len(x_final.columns))\n",
        "    x[0]=percentage\n",
        "    return loregressor.predict([x])[0]"
      ]
    },
    {
      "cell_type": "code",
      "execution_count": null,
      "metadata": {
        "colab": {
          "base_uri": "https://localhost:8080/"
        },
        "id": "OJEhGxxVp0F7",
        "outputId": "2ff4cf79-b665-4e06-f918-b4ac634faa85"
      },
      "outputs": [
        {
          "output_type": "execute_result",
          "data": {
            "text/plain": [
              "1"
            ]
          },
          "metadata": {},
          "execution_count": 327
        }
      ],
      "source": [
        "time_predict_final(0.47)"
      ]
    },
    {
      "cell_type": "code",
      "execution_count": null,
      "metadata": {
        "id": "8J5vTiSip0F7"
      },
      "outputs": [],
      "source": [
        "def time_predict_final(percentage):\n",
        "    x=np.zeros(len(x_final.columns))\n",
        "    x[0]=percentage\n",
        "    return dtregressor.predict([x])[0]"
      ]
    },
    {
      "cell_type": "code",
      "execution_count": null,
      "metadata": {
        "colab": {
          "base_uri": "https://localhost:8080/"
        },
        "id": "G6vb8SOQp0F7",
        "outputId": "6ebe6af9-f71f-4884-bc78-45055343c151"
      },
      "outputs": [
        {
          "output_type": "execute_result",
          "data": {
            "text/plain": [
              "2.0"
            ]
          },
          "metadata": {},
          "execution_count": 329
        }
      ],
      "source": [
        "time_predict_final(0.47)"
      ]
    },
    {
      "cell_type": "code",
      "execution_count": null,
      "metadata": {
        "id": "nwsbrsZvp0F7"
      },
      "outputs": [],
      "source": [
        "def time_predict_final(percentage):\n",
        "    x=np.zeros(len(x_final.columns))\n",
        "    x[0]=percentage\n",
        "    return rfregressor.predict([x])[0]"
      ]
    },
    {
      "cell_type": "code",
      "execution_count": null,
      "metadata": {
        "colab": {
          "base_uri": "https://localhost:8080/"
        },
        "id": "O_TzHILfp0F8",
        "outputId": "df6d01a0-f0f8-403e-c16d-e53246defe5d"
      },
      "outputs": [
        {
          "output_type": "execute_result",
          "data": {
            "text/plain": [
              "2.0"
            ]
          },
          "metadata": {},
          "execution_count": 331
        }
      ],
      "source": [
        "time_predict_final(0.47)"
      ]
    },
    {
      "cell_type": "code",
      "source": [
        ""
      ],
      "metadata": {
        "id": "3FbU6sqitb1u"
      },
      "execution_count": null,
      "outputs": []
    }
  ],
  "metadata": {
    "kernelspec": {
      "display_name": "Python 3",
      "language": "python",
      "name": "python3"
    },
    "language_info": {
      "codemirror_mode": {
        "name": "ipython",
        "version": 3
      },
      "file_extension": ".py",
      "mimetype": "text/x-python",
      "name": "python",
      "nbconvert_exporter": "python",
      "pygments_lexer": "ipython3",
      "version": "3.7.6"
    },
    "colab": {
      "name": "Copy of MLprojectUpdated .ipynb",
      "provenance": [],
      "collapsed_sections": [],
      "include_colab_link": true
    }
  },
  "nbformat": 4,
  "nbformat_minor": 0
}